{
 "cells": [
  {
   "cell_type": "code",
   "execution_count": 1,
   "id": "e0867c99-d7a4-45fd-8ebb-d3a7ec2fc2b9",
   "metadata": {},
   "outputs": [],
   "source": [
    "from math import nan\n",
    "from copy import deepcopy\n",
    "from datetime import datetime\n",
    "import itertools\n",
    "from multiprocessing import Pool\n",
    "import pickle"
   ]
  },
  {
   "cell_type": "code",
   "execution_count": 2,
   "id": "b0a10deb-0d3c-46d3-93d2-c991d77f3bdb",
   "metadata": {},
   "outputs": [],
   "source": [
    "import numpy as np\n",
    "import numpy.random\n",
    "import pandas as pd\n",
    "import matplotlib.pyplot as plt"
   ]
  },
  {
   "cell_type": "code",
   "execution_count": 3,
   "id": "40dde662-d47f-441f-b7f2-137409875ea9",
   "metadata": {},
   "outputs": [],
   "source": [
    "from sklearn.model_selection import train_test_split\n",
    "from sklearn.preprocessing import FunctionTransformer\n",
    "from sklearn.pipeline import Pipeline\n",
    "from sklearn.linear_model import LogisticRegression\n",
    "from sklearn.ensemble import RandomForestClassifier\n",
    "from sklearn.metrics import roc_auc_score, roc_curve, RocCurveDisplay\n",
    "from catboost import CatBoostClassifier"
   ]
  },
  {
   "cell_type": "code",
   "execution_count": 4,
   "id": "7ca967f8-cd2c-4933-b729-d7385980fb59",
   "metadata": {},
   "outputs": [],
   "source": [
    "from load import read_data, read, write, get_full_prepared_data_with_upsample\n",
    "from processing import start_processing\n",
    "from parameters import RANDOM_SEED, SCORERS, TARGET_FEATURE, TEST_SIZE, THREADS, TARGET_REPLACER, INVERSE_TARGET_REPLACER\n",
    "from preparing import (MyOheHotEncoder, MyOrdinalEncoder, MyMinMaxScaler, ColumnsSorter,\n",
    "                       EmptyColFiller, MyPolynomialFeatures, ordinal_encoding, one_hot_encoding)\n",
    "from model_preparing import simple_linear, simple_forest, simple_catboost, fast_catboost, gpu_catboost, predict_on_test, ensemble_predict\n",
    "from tuning import try_each_col, try_wo_each_col, try_cols_in_order"
   ]
  },
  {
   "cell_type": "code",
   "execution_count": 5,
   "id": "c9959d5f-fa22-4330-b3c4-8cc2653f7da9",
   "metadata": {},
   "outputs": [],
   "source": [
    "pd.set_option('display.max_rows', 500)\n",
    "pd.set_option('mode.chained_assignment', None)\n",
    "pd.set_option('display.max_info_columns', 1000)"
   ]
  },
  {
   "cell_type": "code",
   "execution_count": 6,
   "id": "e6067698-54bf-4417-9ee6-aa4a74d01f7c",
   "metadata": {},
   "outputs": [],
   "source": [
    "f, ft, fp = get_full_prepared_data_with_upsample()"
   ]
  },
  {
   "cell_type": "code",
   "execution_count": 7,
   "id": "650d23da-2175-4c13-9f95-7a91b7905062",
   "metadata": {},
   "outputs": [],
   "source": [
    "# raise ValueError"
   ]
  },
  {
   "cell_type": "code",
   "execution_count": 8,
   "id": "32ae937c-4c58-4ded-b115-8ae64a46f294",
   "metadata": {},
   "outputs": [
    {
     "name": "stdout",
     "output_type": "stream",
     "text": [
      "Wall time: 1min 28s\n"
     ]
    }
   ],
   "source": [
    "%%time\n",
    "cols_sets = [None]\n",
    "result = []\n",
    "for cols_set in cols_sets:\n",
    "    ft0 = [(x[0][cols_set], x[1]) for x in ft] if cols_set else ft.copy()\n",
    "    res = fast_catboost(ft0)\n",
    "    result.append(res | {'cols': ' '.join(cols_set) if cols_set else nan})\n",
    "result = pd.DataFrame(result)"
   ]
  },
  {
   "cell_type": "code",
   "execution_count": 9,
   "id": "dcf474c0-49cf-4cb7-968f-31cdcd38ac83",
   "metadata": {},
   "outputs": [
    {
     "data": {
      "text/html": [
       "<div>\n",
       "<style scoped>\n",
       "    .dataframe tbody tr th:only-of-type {\n",
       "        vertical-align: middle;\n",
       "    }\n",
       "\n",
       "    .dataframe tbody tr th {\n",
       "        vertical-align: top;\n",
       "    }\n",
       "\n",
       "    .dataframe thead th {\n",
       "        text-align: right;\n",
       "    }\n",
       "</style>\n",
       "<table border=\"1\" class=\"dataframe\">\n",
       "  <thead>\n",
       "    <tr style=\"text-align: right;\">\n",
       "      <th></th>\n",
       "      <th>train</th>\n",
       "      <th>test_1</th>\n",
       "      <th>test_2</th>\n",
       "      <th>test_3</th>\n",
       "      <th>test_4</th>\n",
       "      <th>cols</th>\n",
       "      <th>model</th>\n",
       "    </tr>\n",
       "  </thead>\n",
       "  <tbody>\n",
       "    <tr>\n",
       "      <th>0</th>\n",
       "      <td>0.873018</td>\n",
       "      <td>0.819016</td>\n",
       "      <td>0.834433</td>\n",
       "      <td>0.837858</td>\n",
       "      <td>0.867402</td>\n",
       "      <td>NaN</td>\n",
       "      <td>(&lt;preparing.MyMinMaxScaler object at 0x000001C...</td>\n",
       "    </tr>\n",
       "  </tbody>\n",
       "</table>\n",
       "</div>"
      ],
      "text/plain": [
       "      train    test_1    test_2    test_3    test_4  cols  \\\n",
       "0  0.873018  0.819016  0.834433  0.837858  0.867402   NaN   \n",
       "\n",
       "                                               model  \n",
       "0  (<preparing.MyMinMaxScaler object at 0x000001C...  "
      ]
     },
     "execution_count": 9,
     "metadata": {},
     "output_type": "execute_result"
    }
   ],
   "source": [
    "result"
   ]
  },
  {
   "cell_type": "code",
   "execution_count": 10,
   "id": "cc76c887-ee5e-4c73-af19-bac2bfdc94e7",
   "metadata": {},
   "outputs": [],
   "source": [
    "# _, ax = plt.subplots()\n",
    "# ax.grid()\n",
    "# t = pd.DataFrame(model.predict_proba(ft[2]))\n",
    "\n",
    "# fpr, tpr, _ = roc_curve(ft[3].replace(1, 2).replace(0, 1).replace(2, 0), t[0])\n",
    "# RocCurveDisplay(fpr=fpr, tpr=tpr).plot(ax=ax, c='g')\n",
    "# print(roc_auc_score(ft[3].replace(1, 2).replace(0, 1).replace(2, 0), t[0]))\n",
    "\n",
    "# fpr, tpr, _ = roc_curve(ft[3].replace(2, 0), t[1])\n",
    "# RocCurveDisplay(fpr=fpr, tpr=tpr).plot(ax=ax, c='k')\n",
    "# print(roc_auc_score(ft[3].replace(2, 0), t[1]))\n",
    "\n",
    "# fpr, tpr, _ = roc_curve(ft[3].replace(1, 0).replace(2, 1), t[2])\n",
    "# RocCurveDisplay(fpr=fpr, tpr=tpr).plot(ax=ax, c='r')\n",
    "# print(roc_auc_score(ft[3].replace(1, 0).replace(2, 1), t[2]))"
   ]
  },
  {
   "cell_type": "code",
   "execution_count": 11,
   "id": "c5b9f34a-932e-4e68-82c3-32b690984517",
   "metadata": {},
   "outputs": [
    {
     "name": "stdout",
     "output_type": "stream",
     "text": [
      "predict: 0.8716686756737314\n"
     ]
    },
    {
     "data": {
      "text/html": [
       "<div>\n",
       "<style scoped>\n",
       "    .dataframe tbody tr th:only-of-type {\n",
       "        vertical-align: middle;\n",
       "    }\n",
       "\n",
       "    .dataframe tbody tr th {\n",
       "        vertical-align: top;\n",
       "    }\n",
       "\n",
       "    .dataframe thead th {\n",
       "        text-align: right;\n",
       "    }\n",
       "</style>\n",
       "<table border=\"1\" class=\"dataframe\">\n",
       "  <thead>\n",
       "    <tr style=\"text-align: right;\">\n",
       "      <th></th>\n",
       "      <th>Статус</th>\n",
       "      <th>status</th>\n",
       "    </tr>\n",
       "  </thead>\n",
       "  <tbody>\n",
       "    <tr>\n",
       "      <th>0.0</th>\n",
       "      <td>0.689583</td>\n",
       "      <td>0.607259</td>\n",
       "    </tr>\n",
       "    <tr>\n",
       "      <th>1.0</th>\n",
       "      <td>0.255418</td>\n",
       "      <td>0.347541</td>\n",
       "    </tr>\n",
       "    <tr>\n",
       "      <th>2.0</th>\n",
       "      <td>0.054999</td>\n",
       "      <td>0.045200</td>\n",
       "    </tr>\n",
       "  </tbody>\n",
       "</table>\n",
       "</div>"
      ],
      "text/plain": [
       "       Статус    status\n",
       "0.0  0.689583  0.607259\n",
       "1.0  0.255418  0.347541\n",
       "2.0  0.054999  0.045200"
      ]
     },
     "metadata": {},
     "output_type": "display_data"
    },
    {
     "name": "stdout",
     "output_type": "stream",
     "text": [
      "Wall time: 239 ms\n"
     ]
    }
   ],
   "source": [
    "%%time\n",
    "t0 = predict_on_test(model, ft, fp, refit=False)"
   ]
  }
 ],
 "metadata": {
  "kernelspec": {
   "display_name": "Python 3 (ipykernel)",
   "language": "python",
   "name": "python3"
  },
  "language_info": {
   "codemirror_mode": {
    "name": "ipython",
    "version": 3
   },
   "file_extension": ".py",
   "mimetype": "text/x-python",
   "name": "python",
   "nbconvert_exporter": "python",
   "pygments_lexer": "ipython3",
   "version": "3.9.12"
  }
 },
 "nbformat": 4,
 "nbformat_minor": 5
}
