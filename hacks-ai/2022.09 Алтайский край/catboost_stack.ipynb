{
 "cells": [
  {
   "cell_type": "code",
   "execution_count": 1,
   "id": "e0867c99-d7a4-45fd-8ebb-d3a7ec2fc2b9",
   "metadata": {},
   "outputs": [],
   "source": [
    "from math import nan\n",
    "from copy import deepcopy\n",
    "from datetime import datetime\n",
    "import itertools\n",
    "from multiprocessing import Pool\n",
    "import pickle"
   ]
  },
  {
   "cell_type": "code",
   "execution_count": 2,
   "id": "b0a10deb-0d3c-46d3-93d2-c991d77f3bdb",
   "metadata": {},
   "outputs": [],
   "source": [
    "import numpy as np\n",
    "import numpy.random\n",
    "import pandas as pd\n",
    "import matplotlib.pyplot as plt\n",
    "import joblib"
   ]
  },
  {
   "cell_type": "code",
   "execution_count": 3,
   "id": "40dde662-d47f-441f-b7f2-137409875ea9",
   "metadata": {},
   "outputs": [],
   "source": [
    "from sklearn.base import BaseEstimator\n",
    "from sklearn.model_selection import train_test_split\n",
    "from sklearn.preprocessing import FunctionTransformer\n",
    "from sklearn.pipeline import Pipeline\n",
    "from sklearn.linear_model import LogisticRegression\n",
    "from sklearn.ensemble import RandomForestClassifier, BaggingClassifier, StackingClassifier\n",
    "from sklearn.metrics import roc_auc_score, roc_curve, RocCurveDisplay\n",
    "from sklearn.neighbors import KNeighborsClassifier\n",
    "from catboost import CatBoostClassifier"
   ]
  },
  {
   "cell_type": "code",
   "execution_count": 4,
   "id": "7ca967f8-cd2c-4933-b729-d7385980fb59",
   "metadata": {},
   "outputs": [],
   "source": [
    "from load import read_data, read, write, get_full_prepared_data_with_upsample\n",
    "from processing import start_processing, family_of_knn_features\n",
    "from parameters import RANDOM_SEED, SCORERS, TARGET_FEATURE, TEST_SIZE, THREADS, TARGET_REPLACER, INVERSE_TARGET_REPLACER\n",
    "from preparing import (MyOheHotEncoder, MyOrdinalEncoder, MyMinMaxScaler, ColumnsSorter,\n",
    "                       EmptyColFiller, MyPolynomialFeatures, ordinal_encoding, one_hot_encoding,\n",
    "                       col_cutter, col_retainer)\n",
    "from model_preparing import CBC, CBCt, LRC, ConsecutiveEstimator, ConsecutiveEstimatorProba, StackEstimator\n",
    "from tuning import try_each_col, try_wo_each_col, try_cols_in_order"
   ]
  },
  {
   "cell_type": "code",
   "execution_count": 5,
   "id": "c9959d5f-fa22-4330-b3c4-8cc2653f7da9",
   "metadata": {},
   "outputs": [],
   "source": [
    "pd.set_option('display.max_rows', 500)\n",
    "pd.set_option('mode.chained_assignment', None)\n",
    "pd.set_option('display.max_info_columns', 1000)"
   ]
  },
  {
   "cell_type": "code",
   "execution_count": 6,
   "id": "e6067698-54bf-4417-9ee6-aa4a74d01f7c",
   "metadata": {},
   "outputs": [
    {
     "name": "stdout",
     "output_type": "stream",
     "text": [
      "Wall time: 21 ms\n"
     ]
    }
   ],
   "source": [
    "%%time\n",
    "f, ft, fp = get_full_prepared_data_with_upsample()"
   ]
  },
  {
   "cell_type": "code",
   "execution_count": 7,
   "id": "1c30af9a-8b37-4561-8b6f-75e9bed083ca",
   "metadata": {},
   "outputs": [
    {
     "name": "stdout",
     "output_type": "stream",
     "text": [
      "Wall time: 0 ns\n"
     ]
    }
   ],
   "source": [
    "%%time\n",
    "cols_base = ['condition', 'faculty', 'start_year', 'start_year_val', 'mean_mark_type2', 'city', 'birthday_year', 'school_type', 'mean_mark', 'region', 'diff_between_school_n_start', 'has_not_family', 'gender', 'mean_mark_add1', 'mean_mark_add2', 'country', 'relativies_country', 'language', 'school', 'school_location']\n",
    "cols_add = [tuple(),\n",
    "            ('group_code', ),\n",
    "            ('group_code_num', ),\n",
    "            ('group_code_add_1', 'group_code_add_2', 'group_code_add_3', 'group_code_add_4',),\n",
    "            ('k_5', ),\n",
    "            ('same_group_target', ),\n",
    "            ('same_group_target', 'group_code_num'),]\n",
    "# tuple(),\n",
    "# ('group_code', ),\n",
    "# per_float_feature_quantization=['0:border_count=1024', '1:border_count=1024']\n",
    "cols = [list(x) + cols_base for x in cols_add]\n",
    "cols = [[y for y in x if y in f.columns] for x in cols]\n",
    "models = [CBCt(transformers=[col_retainer(x)]) for x in cols]\n",
    "# models = [LRC(transformers=[col_retainer(x)]) for x in cols]\n",
    "# models = [CBC(transformers=[col_retainer(x)]) for x in cols] + [LRC(transformers=[col_retainer(x)]) for x in cols]\n",
    "# models = [x.fit(*ft[0]) for x in models]\n",
    "res = []\n",
    "# res = [x.test(ft) for x in models]\n",
    "# pd.concat(res)"
   ]
  },
  {
   "cell_type": "code",
   "execution_count": 8,
   "id": "6666d83a-1f72-4a78-a70e-0351c6780904",
   "metadata": {},
   "outputs": [],
   "source": [
    "# import optuna\n",
    "# from optuna.samplers import TPESampler\n",
    "# import pathlib\n",
    "\n",
    "# def objective(trial):\n",
    "#     param = {'colsample_bylevel': trial.suggest_float('colsample_bylevel', 0.01, 0.1, log=True),\n",
    "#              'depth': trial.suggest_int('depth', 1, 12),\n",
    "#              'boosting_type': trial.suggest_categorical('boosting_type', ['Ordered', 'Plain']),\n",
    "#              'bootstrap_type': trial.suggest_categorical('bootstrap_type', ['Bayesian', 'Bernoulli', 'MVS']),\n",
    "#              'l2_leaf_reg': trial.suggest_float('l2_leaf_reg', 0.1, 10),\n",
    "#              'random_strength': trial.suggest_float('random_strength', 0.1, 10),}\n",
    "#              #'border_count': trial.suggest_categorical('border_count', [254, 1024]),}\n",
    "\n",
    "#     if param['bootstrap_type'] == 'Bayesian':\n",
    "#         param['bagging_temperature'] = trial.suggest_float('bagging_temperature', 0, 10)\n",
    "#     elif param['bootstrap_type'] == 'Bernoulli':\n",
    "#         param['subsample'] = trial.suggest_float('subsample', 0.1, 1, log=True)\n",
    "#     if False and param['boosting_type'] == 'Plain':\n",
    "#         param['grow_policy'] = trial.suggest_categorical('grow_policy', ['Depthwise', 'Lossguide'])\n",
    "#     else:\n",
    "#         param['grow_policy'] = 'SymmetricTree'\n",
    "\n",
    "#     # pruning_callback = CatBoostPruningCallback(trial, 'Accuracy')\n",
    "#     # callbacks=[pruning_callback]\n",
    "#     # pruning_callback.check_pruned()\n",
    "#     print(param)\n",
    "#     return CBC(model_pars=param).test(ft)['test']\n",
    "\n",
    "# file_name = 'study.pkl'\n",
    "# if pathlib.Path(file_name).exists():\n",
    "#     print('loaded')\n",
    "#     study = joblib.load(file_name)\n",
    "# else:\n",
    "#     print('created')\n",
    "#     study = optuna.create_study(sampler=TPESampler(), direction='maximize')\n",
    "# print('start')\n",
    "# while True:\n",
    "#     study.optimize(objective, n_trials=10)\n",
    "#     print('saving')\n",
    "#     joblib.dump(study, file_name)"
   ]
  },
  {
   "cell_type": "code",
   "execution_count": 9,
   "id": "a19d0634-bfb8-431e-8f21-a11ac6c7e0da",
   "metadata": {},
   "outputs": [],
   "source": [
    "# %%time\n",
    "# model = StackEstimator(models, LRC())\n",
    "# res.append(model.test(ft))\n",
    "# display(pd.concat(res))\n",
    "# CBC\n",
    "# nontuned 0.857792\t0.860158\t-0.002366\t0.044328\n",
    "# tuned 0.909756\t0.855297\t0.054458\t0.040217\n",
    "# LRC\n",
    "# 0.858018\t0.829517\t0.028501\t0.03825"
   ]
  },
  {
   "cell_type": "code",
   "execution_count": 10,
   "id": "207bb29b-40cc-4423-a0b1-3f3b1853acee",
   "metadata": {},
   "outputs": [],
   "source": [
    "# %%time\n",
    "# final_estimator = CBC()\n",
    "# model = StackEstimator(models, final_estimator)\n",
    "# res.append(model.test(ft))\n",
    "# display(pd.concat(res))\n",
    "# CBC\n",
    "    # test 20%\n",
    "    # cv2 0.889794\t0.877558\t0.012236\t0.046382\n",
    "    # cv5 0.895343\t0.876642\t0.018701\t0.047652\n",
    "    # test 40%\n",
    "    # cv2 0.891388\t0.862891\t0.028497\t0.040038\n",
    "# LRC\n",
    "    # test 20%\n",
    "    # cv2 0.886346\t0.860545\t0.025802\t0.040699"
   ]
  },
  {
   "cell_type": "code",
   "execution_count": 11,
   "id": "3fdd70da-c644-46ec-a498-ea8594fdc04a",
   "metadata": {},
   "outputs": [
    {
     "data": {
      "text/html": [
       "<div>\n",
       "<style scoped>\n",
       "    .dataframe tbody tr th:only-of-type {\n",
       "        vertical-align: middle;\n",
       "    }\n",
       "\n",
       "    .dataframe tbody tr th {\n",
       "        vertical-align: top;\n",
       "    }\n",
       "\n",
       "    .dataframe thead th {\n",
       "        text-align: right;\n",
       "    }\n",
       "</style>\n",
       "<table border=\"1\" class=\"dataframe\">\n",
       "  <thead>\n",
       "    <tr style=\"text-align: right;\">\n",
       "      <th></th>\n",
       "      <th>train</th>\n",
       "      <th>test</th>\n",
       "      <th>delta</th>\n",
       "      <th>std</th>\n",
       "    </tr>\n",
       "  </thead>\n",
       "  <tbody>\n",
       "    <tr>\n",
       "      <th>0</th>\n",
       "      <td>0.923475</td>\n",
       "      <td>0.861155</td>\n",
       "      <td>0.06232</td>\n",
       "      <td>0.04046</td>\n",
       "    </tr>\n",
       "  </tbody>\n",
       "</table>\n",
       "</div>"
      ],
      "text/plain": [
       "      train      test    delta      std\n",
       "0  0.923475  0.861155  0.06232  0.04046"
      ]
     },
     "metadata": {},
     "output_type": "display_data"
    },
    {
     "name": "stdout",
     "output_type": "stream",
     "text": [
      "Wall time: 22min 57s\n"
     ]
    }
   ],
   "source": [
    "%%time\n",
    "model = StackEstimator(models, LRC())\n",
    "model = ConsecutiveEstimator(deepcopy(model), deepcopy(model))\n",
    "res.append(model.test(ft))\n",
    "display(pd.concat(res))\n",
    "# CBC\n",
    "    # LR 0.852251\t0.806898\t0.045354\t0.038858\n",
    "    # LR tuned 0.925821\t0.859381\t0.06644\t0.040885\n",
    "    # CBC 0.898411\t0.864759\t0.033652\t0.040996\n",
    "    # LR tuned 0.904646\t0.83091\t0.073736\t0.04028\n",
    "    # LR tuned wo 1, 2 0.92494\t0.860949\t0.063991\t0.041264\n",
    "    # CBC tuned wo 1, 2 0.898471\t0.825322\t0.073149\t0.039107\n",
    "# LR\n",
    "    # LR 0.849615\t0.824088\t0.025526\t0.044408\n",
    "    # CBC 0.892914\t0.872629\t0.020284\t0.039681\n",
    "# LR + CB\n",
    "    # CBC 0.904463\t0.876612\t0.027851\t0.039438\n",
    "    # LRC 0.866441\t0.83324\t0.033201\t0.042145"
   ]
  },
  {
   "cell_type": "code",
   "execution_count": 12,
   "id": "805922df-6f3b-4d12-96b9-ebe95a3b9a27",
   "metadata": {},
   "outputs": [],
   "source": [
    "# %%time\n",
    "# model = StackEstimator(models, CBC())\n",
    "# model = ConsecutiveEstimatorProba(deepcopy(model), deepcopy(model))\n",
    "# res.append(model.test(ft))\n",
    "# display(pd.concat(res))\n",
    "# CBC tuned / LRC 0.944448\t0.867402\t0.077046\t0.04873\n",
    "# CBC tuned / CBC 0.942608\t0.864347\t0.07826\t0.051726"
   ]
  },
  {
   "cell_type": "code",
   "execution_count": 1,
   "id": "dab25cb4-b02a-4f18-b9f6-ad2fb2205e56",
   "metadata": {},
   "outputs": [],
   "source": [
    "# t0 = model.predict_final(ft, fp, refit=True)"
   ]
  }
 ],
 "metadata": {
  "kernelspec": {
   "display_name": "Python 3 (ipykernel)",
   "language": "python",
   "name": "python3"
  },
  "language_info": {
   "codemirror_mode": {
    "name": "ipython",
    "version": 3
   },
   "file_extension": ".py",
   "mimetype": "text/x-python",
   "name": "python",
   "nbconvert_exporter": "python",
   "pygments_lexer": "ipython3",
   "version": "3.9.12"
  }
 },
 "nbformat": 4,
 "nbformat_minor": 5
}
