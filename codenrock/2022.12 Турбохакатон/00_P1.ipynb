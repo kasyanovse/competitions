{
 "cells": [
  {
   "cell_type": "markdown",
   "id": "aa72f162-789b-4a52-bbfd-6d6923c37c28",
   "metadata": {},
   "source": [
    "# Задача 1\n",
    "\n",
    "Поиск характерных признаков режимов.\n",
    "\n",
    "Цель: подготовить модель для feature importance для произвольной модели кластеризации."
   ]
  },
  {
   "cell_type": "code",
   "execution_count": 73,
   "id": "2f50ded6-6349-4c9d-b4e7-58e8e2269d16",
   "metadata": {},
   "outputs": [],
   "source": [
    "from itertools import accumulate, takewhile\n",
    "\n",
    "import numpy as np\n",
    "import pandas as pd\n",
    "import matplotlib.pyplot as plt\n",
    "\n",
    "from sklearn.ensemble import RandomForestClassifier\n",
    "from catboost import CatBoostClassifier\n",
    "\n",
    "from sklearn.base import clone\n",
    "from tqdm.notebook import tqdm\n",
    "from joblib import Parallel, delayed\n",
    "\n",
    "from utils import DATAFILE_NAMES, TARGET_FEATURE, FIGSIZE, FIGSIZE_NARROW, N_JOBS, RANDOM_SEED, load_all, target_split\n",
    "from features import *\n",
    "from models import *\n",
    "from solutions import *"
   ]
  },
  {
   "cell_type": "code",
   "execution_count": 2,
   "id": "9d789aae-a14a-4594-882d-26190677a2d6",
   "metadata": {},
   "outputs": [],
   "source": [
    "# здесь подгружаются тестовые датасеты в список dfs\n",
    "dfs = load_all()"
   ]
  },
  {
   "cell_type": "markdown",
   "id": "9614b7b6-961d-457e-816b-abb13d9343d8",
   "metadata": {},
   "source": [
    "## Подход 1\n",
    "\n",
    "Нагуглил в инете:\n",
    "\n",
    "1. Взять размеченные данные (`dfs`);\n",
    "1. Затем для каждого класса (режима):\n",
    "    1. Обозначить его как 1, все остальные режимы как 0;\n",
    "    1. Обучить лес или бустинг, или логистическую регрессию классифицировать эти данные (бинарная классификация);\n",
    "    1. Оценить важность признаков feature importance для выбранной модели классификации;\n",
    "    1. Сформировать список наиболее важных признаков для режима.\n",
    "\n",
    "Условия:\n",
    "\n",
    "1. Решение должно быть быстрым (катбуст сразу отпадает);\n",
    "1. Решение должно быть настраиваемым (ни одного параметра не должно быть зашито в решение)."
   ]
  },
  {
   "cell_type": "code",
   "execution_count": 3,
   "id": "66e01285-ba2e-4f71-9731-753e84f9dceb",
   "metadata": {},
   "outputs": [],
   "source": [
    "# подготовка данных\n",
    "def process_df(df, pca=False):\n",
    "    df = df.dropna()\n",
    "    # df = df.iloc[::2]\n",
    "    df = t_discrete(df).drop_duplicates()\n",
    "    if pca:\n",
    "        cols = df.columns\n",
    "        df = t_pca(df, df.shape[1] - 1)\n",
    "        df.columns = cols\n",
    "    return target_split(df)\n",
    "\n",
    "dfs_processed_with_pca = [process_df(df, True) for df in dfs]\n",
    "dfs_processed_without_pca = [process_df(df, False) for df in dfs]"
   ]
  },
  {
   "cell_type": "code",
   "execution_count": 4,
   "id": "056004ad-0543-4805-9945-28c27b937fca",
   "metadata": {},
   "outputs": [],
   "source": [
    "def look_for_main_features(model, x, y, parallel=True):\n",
    "    def get_features(model, x, y, mode):\n",
    "        model = clone(model).fit(x, (y == mode).astype(int))\n",
    "        return dict(zip(x.columns, model.feature_importances_))\n",
    "    \n",
    "    modes = sorted(y.unique())\n",
    "    if parallel:\n",
    "        features = Parallel(n_jobs=N_JOBS, prefer='processes')(delayed(get_features)(model, x, y, mode) for mode in tqdm(modes))\n",
    "    else:\n",
    "        features = [get_features(model, x, y, mode) for mode in tqdm(modes)]\n",
    "    return dict(zip(modes, features))\n",
    "\n",
    "def plot_n_extract_main_features(data, edge=0.7):\n",
    "    filtered_data = dict()\n",
    "    feature_count_by_mode = dict()\n",
    "    mode_count_by_features = dict()\n",
    "    \n",
    "    _, ax = plt.subplots(figsize=FIGSIZE)\n",
    "    for mode, features in data.items():\n",
    "        features = sorted(features.items(), key=lambda x: x[1])[::-1]\n",
    "        n = len(list(takewhile(lambda x: x < edge,\n",
    "                               accumulate(features,\n",
    "                                          lambda x, y: x + y[1],\n",
    "                                          initial=0))))\n",
    "        filtered_data[mode] = dict(features[:n])\n",
    "        \n",
    "        best_features = [int(x[0][1:]) for x in features[:n]]\n",
    "        ax.scatter(best_features, [mode] * n)\n",
    "        \n",
    "        feature_count_by_mode[mode] = len(best_features)\n",
    "        for feature in best_features:\n",
    "            if feature not in mode_count_by_features:\n",
    "                mode_count_by_features[feature] = 0\n",
    "            mode_count_by_features[feature] += 1\n",
    "    \n",
    "    ax.set_xlabel('Номер важной фичи')\n",
    "    ax.set_ylabel('Номер режима')\n",
    "    plt.show()\n",
    "    return filtered_data, feature_count_by_mode, dict(sorted(mode_count_by_features.items(), key=lambda x: x[0]))"
   ]
  },
  {
   "cell_type": "markdown",
   "id": "7923a0e2",
   "metadata": {},
   "source": [
    "Получение фичей от RandomForestClassifier"
   ]
  },
  {
   "cell_type": "code",
   "execution_count": 5,
   "id": "ab19d626-760c-4536-8b2c-6cafbc4604cc",
   "metadata": {},
   "outputs": [],
   "source": [
    "# %%time\n",
    "# res = []\n",
    "# model = RandomForestClassifier(random_state=RANDOM_SEED, verbose=False)\n",
    "# # for num, (x, y) in enumerate([dfs_processed_without_pca[0], dfs_processed_with_pca[0],\n",
    "# #                               dfs_processed_without_pca[1], dfs_processed_with_pca[1]]):\n",
    "# for num, (x, y) in enumerate(dfs_processed_without_pca):\n",
    "#     features = look_for_main_features(model, x=x, y=y)\n",
    "#     res.append(plot_n_extract_main_features(features, 0.5))"
   ]
  },
  {
   "cell_type": "code",
   "execution_count": 6,
   "id": "bc9097ad-3eec-4233-9bb8-cb517165656c",
   "metadata": {},
   "outputs": [],
   "source": [
    "# for features, feature_count_by_mode, mode_count_by_features in res:\n",
    "#     # print('Количество фич в каждом режиме', *feature_count_by_mode.items(), sep='\\n')\n",
    "#     # print('Количество режимов с этой фичей', *mode_count_by_features.items(), sep='\\n')\n",
    "#     display(pd.Series(mode_count_by_features).value_counts())"
   ]
  },
  {
   "cell_type": "markdown",
   "id": "bc460af7",
   "metadata": {},
   "source": [
    "Получение фичей от CatBoostClassifier"
   ]
  },
  {
   "cell_type": "code",
   "execution_count": 7,
   "id": "2b7e1683",
   "metadata": {},
   "outputs": [],
   "source": [
    "# %%time\n",
    "# mode_features_CB = look_for_main_features(model_class=CatBoostClassifier, x=x, y=y)"
   ]
  },
  {
   "cell_type": "markdown",
   "id": "48869d48-82dd-450a-9971-93453294eec6",
   "metadata": {},
   "source": [
    "## Подход 2\n",
    "\n",
    "Использование Feature selection. \n",
    "\n",
    "https://scikit-learn.org/stable/modules/feature_selection.html\n",
    "\n",
    "Не уверена, что подойдет. Т.к. просто отбрасывает лишние столбцы из датасета. Не знаю пока, как из этой инфы вытащить важные/неважные признаки для каждого отдельного режима."
   ]
  },
  {
   "cell_type": "markdown",
   "id": "daeff211-8dfe-48f1-a864-4fbbdd3ae2f9",
   "metadata": {},
   "source": [
    "## Подготовка модели\n"
   ]
  },
  {
   "cell_type": "code",
   "execution_count": 131,
   "id": "1f04ff30-aa47-4073-84c5-b2b436e03353",
   "metadata": {},
   "outputs": [],
   "source": [
    "class FeatureExtractor():\n",
    "    def __init__(self, model=None,\n",
    "                 summary_best_feature_importance_edge_values=0.5,\n",
    "                 feature_intersection_edge=6.5):\n",
    "        if model is None:\n",
    "            model = RandomForestClassifier(random_state=RANDOM_SEED, verbose=False)\n",
    "        self.model = model\n",
    "        self.edge = summary_best_feature_importance_edge_values\n",
    "        self.feature_intersection_edge = feature_intersection_edge\n",
    "    \n",
    "    def extract_features(self, x, y, parallel=True):\n",
    "        # define features by feature importance\n",
    "        def get_features(model, x, y, mode):\n",
    "            model = clone(model).fit(x, (y == mode).astype(int))\n",
    "            return dict(zip(x.columns, model.feature_importances_))\n",
    "\n",
    "        modes = sorted(y.unique())\n",
    "        if parallel:\n",
    "            features = Parallel(n_jobs=N_JOBS, prefer='processes')(delayed(get_features)(self.model, x, y, mode) for mode in tqdm(modes))\n",
    "        else:\n",
    "            features = [get_features(self.model, x, y, mode) for mode in tqdm(modes)]\n",
    "        features = dict(zip(modes, features))\n",
    "        \n",
    "        def extract_main_features(data, edge=self.edge):\n",
    "            filtered_data = dict()\n",
    "            filtered_features = dict()\n",
    "            for mode, features in data.items():\n",
    "                features = sorted(features.items(), key=lambda x: x[1])[::-1]\n",
    "                n = len(list(takewhile(lambda x: x < edge,\n",
    "                                       accumulate(features,\n",
    "                                                  lambda x, y: x + y[1],\n",
    "                                                  initial=0))))\n",
    "                filtered_data[mode] = dict(features[:n])\n",
    "                for feature in filtered_data[mode]:\n",
    "                    if feature not in filtered_features:\n",
    "                        filtered_features[feature] = 0\n",
    "                    filtered_features[feature] += 1\n",
    "            max_feature = ([filtered_features[list(features)[0]] for features in filtered_data.values()])\n",
    "            filtered_features = {k: v for k, v in filtered_features.items() if v <= 5 or v in max_feature}\n",
    "            \n",
    "            for mode in filtered_data:\n",
    "                filtered_data[mode] = [k for k in filtered_data[mode] if k in filtered_features]\n",
    "            return filtered_data\n",
    "        features = extract_main_features(features)\n",
    "        return features\n",
    "    \n",
    "    def glue_modes_by_main_features(self, x, y, features):\n",
    "        def intersection(d1, d2):\n",
    "            d0 = set(d1) & set(d2)\n",
    "            return sum([1 / (d1.index(x) + 1) ** 0.5 for x in d0]) + sum([1 / (d2.index(x) + 1) ** 0.5 for x in d0])\n",
    "        res = []\n",
    "        modes = list(features)\n",
    "        for i1 in range(len(modes) - 1):\n",
    "            for i2 in range(i1, len(modes)):\n",
    "                i = intersection(features1[i1], features1[i2])\n",
    "                if i > self.feature_intersection_edge:\n",
    "                    res.append([i1, i2])\n",
    "        mode_groups = [res.pop()]\n",
    "        while res:\n",
    "            i1, i2 = res.pop()\n",
    "            for group in mode_groups:\n",
    "                if i1 in group or i2 in group:\n",
    "                    if i1 not in group:\n",
    "                        group.append(i1)\n",
    "                    if i2 not in group:\n",
    "                        group.append(i2)\n",
    "            else:\n",
    "                mode_groups.append([i1, i2])\n",
    "        for i1 in range(len(mode_groups) - 1):\n",
    "            for i2 in range(i1 + 1, len(mode_groups)):\n",
    "                if any(np.intersect1d(mode_groups[i1], mode_groups[i2])):\n",
    "                    mode_groups[i1].extend(mode_groups[i2])\n",
    "                    mode_groups[i2].clear()\n",
    "        mode_groups = [list(set(group)) for group in mode_groups if group]\n",
    "        replacer = dict()\n",
    "        for group in mode_groups:\n",
    "            origin, *last = group\n",
    "            replacer |= {k: origin for k in last}\n",
    "        return y.replace(replacer)"
   ]
  },
  {
   "cell_type": "code",
   "execution_count": 132,
   "id": "bb1a1c17-1fa1-4996-bf49-3cbf9a835010",
   "metadata": {},
   "outputs": [
    {
     "data": {
      "application/vnd.jupyter.widget-view+json": {
       "model_id": "48af7479658141c58895393941d8fbca",
       "version_major": 2,
       "version_minor": 0
      },
      "text/plain": [
       "  0%|          | 0/52 [00:00<?, ?it/s]"
      ]
     },
     "metadata": {},
     "output_type": "display_data"
    },
    {
     "name": "stdout",
     "output_type": "stream",
     "text": [
      "Wall time: 1min 59s\n"
     ]
    }
   ],
   "source": [
    "%%time\n",
    "x, y = dfs_processed_without_pca[0]\n",
    "y1 = pd.Series(MyKMeans(len(y.unique()) * 2).fit_predict(x, y), index=y)\n",
    "model = FeatureExtractor()\n",
    "features = model.extract_features(x, y1)\n",
    "ynew = model.glue_modes_by_main_features(x, y1, features)"
   ]
  },
  {
   "cell_type": "code",
   "execution_count": 89,
   "id": "ea3b127a-9919-4cc2-bf23-f9bfd0856c33",
   "metadata": {},
   "outputs": [
    {
     "data": {
      "text/plain": [
       "[<matplotlib.lines.Line2D at 0x1b31334df40>]"
      ]
     },
     "execution_count": 89,
     "metadata": {},
     "output_type": "execute_result"
    },
    {
     "data": {
      "image/png": "[encoded data removed]",
      "text/plain": [
       "<Figure size 1800x216 with 1 Axes>"
      ]
     },
     "metadata": {
      "needs_background": "light"
     },
     "output_type": "display_data"
    }
   ],
   "source": [
    "_, ax = plt.subplots(figsize=FIGSIZE_NARROW)\n",
    "ax.plot(range(len(res)), sorted(res.values))\n",
    "ax.plot([res.shape[0] / 4] * 2, (0, 20))\n",
    "r0 = res[res < 0.5]\n",
    "ax.plot(range(len(r0)), sorted(r0.values))\n",
    "# r0 = res[res < 1]\n",
    "# ax.plot(range(len(r0)), sorted(r0.values))"
   ]
  }
 ],
 "metadata": {
  "kernelspec": {
   "display_name": "Python 3 (ipykernel)",
   "language": "python",
   "name": "python3"
  },
  "language_info": {
   "codemirror_mode": {
    "name": "ipython",
    "version": 3
   },
   "file_extension": ".py",
   "mimetype": "text/x-python",
   "name": "python",
   "nbconvert_exporter": "python",
   "pygments_lexer": "ipython3",
   "version": "3.9.12"
  }
 },
 "nbformat": 4,
 "nbformat_minor": 5
}
