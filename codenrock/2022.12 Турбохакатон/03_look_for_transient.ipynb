{
 "cells": [
  {
   "cell_type": "markdown",
   "id": "3b503619-adb7-4d69-8157-7059e4bc9a75",
   "metadata": {},
   "source": [
    "# Базовое решение\n",
    "\n",
    "1. Ввести критерий по производной\n",
    "1. Посчитать кучу моделей с разными производными\n",
    "1. Усреднить\n",
    "\n",
    "1. Сначала нужно разметить режимы.\n",
    "1. Потом нужно рассчитать какую-нибудь метрику, связанную с производными и двигая порог добиться того, чтобы все режимы друг через друга соединялись через нестационарные режимы.\n",
    "\n",
    "Идеи для признаков:\n",
    "\n",
    "1. Производные\n",
    "1. Знак производной\n",
    "1. Сумма модулей сигналов\n",
    "1. Сумма модулей производных\n",
    "\n",
    "Последовательность обработки:\n",
    "\n",
    "1. Привести к одному масштабу\n",
    "1. Уменьшить размерность\n",
    "1. Добавить признаки\n",
    "\n",
    "Вопросы:\n",
    "1. Переходить ли к стационарному ряду?\n",
    "\n",
    "\n",
    "Задача:\n",
    "\n",
    "Есть произвольный набор признаков. Вообще ничего не известно. Нужно как-нибудь разметить режимы и определить какими параметрами он характеризуется."
   ]
  },
  {
   "cell_type": "code",
   "execution_count": 1,
   "id": "5d16ccd5-88f1-4b88-876a-216d94e0050c",
   "metadata": {},
   "outputs": [],
   "source": [
    "import numpy as np\n",
    "import pandas as pd\n",
    "import matplotlib.pyplot as plt\n",
    "import seaborn as sns"
   ]
  },
  {
   "cell_type": "code",
   "execution_count": 2,
   "id": "9756ae05-f688-46f3-8fab-0eb110d5d4d0",
   "metadata": {},
   "outputs": [],
   "source": [
    "from utils import TARGET_FEATURE, FIGSIZE, DATAFILE_NAMES, RANDOM_SEED, load, train_split, target_split\n",
    "from features import get_time, get_time_step, f_derivative, t_min_max, t_q_q, t_stationary, resampling\n",
    "from features import *"
   ]
  },
  {
   "cell_type": "code",
   "execution_count": 3,
   "id": "e10fe5fa-fbb0-41c2-ac7a-4a842dc486e6",
   "metadata": {},
   "outputs": [],
   "source": [
    "dfs = [load(file_name) for file_name in DATAFILE_NAMES]"
   ]
  },
  {
   "cell_type": "code",
   "execution_count": 4,
   "id": "0d6e92e0-0c0f-40b0-a589-338fd0bde025",
   "metadata": {},
   "outputs": [],
   "source": [
    "df = dfs[0]"
   ]
  }
 ],
 "metadata": {
  "kernelspec": {
   "display_name": "Python 3 (ipykernel)",
   "language": "python",
   "name": "python3"
  },
  "language_info": {
   "codemirror_mode": {
    "name": "ipython",
    "version": 3
   },
   "file_extension": ".py",
   "mimetype": "text/x-python",
   "name": "python",
   "nbconvert_exporter": "python",
   "pygments_lexer": "ipython3",
   "version": "3.9.7"
  }
 },
 "nbformat": 4,
 "nbformat_minor": 5
}
