{
 "cells": [
  {
   "cell_type": "markdown",
   "id": "be876c33-945d-40ea-8f6c-8dcafff2130c",
   "metadata": {},
   "source": [
    "# Задача 1 (из файла с проверками гипотез)\n",
    "\n",
    "Цель: Определить наиболее характерные режимы с помощью предобученной линейной регрессии.\n",
    "\n",
    "Задачи:\n",
    "\n",
    "1. Оценить принципиальную возможность обнаруживать режимы таким способом"
   ]
  },
  {
   "cell_type": "code",
   "execution_count": null,
   "id": "df4c087d-6159-4d4f-8b4b-4e693fe30625",
   "metadata": {},
   "outputs": [],
   "source": [
    "from sklearn.cluster import AgglomerativeClustering\n",
    "from utils import TARGET_FEATURE, FIGSIZE, DATAFILE_NAMES, RANDOM_SEED, load_all, train_split, target_split\n",
    "from scoring import clusterization_score\n",
    "\n",
    "dfs = load_all()\n",
    "for df in dfs:\n",
    "    model = AgglomerativeClustering(len(df[TARGET_FEATURE].dropna().unique()))\n",
    "    model.fit(*target_split(df.dropna()))\n",
    "    break"
   ]
  },
  {
   "cell_type": "code",
   "execution_count": null,
   "id": "633e85d2-00ab-4669-a201-2e5abbf6a23d",
   "metadata": {},
   "outputs": [],
   "source": [
    "import numpy as np\n",
    "import pandas as pd\n",
    "import matplotlib.pyplot as plt\n",
    "import seaborn as sns"
   ]
  },
  {
   "cell_type": "code",
   "execution_count": null,
   "id": "9db677f5-fea3-4dcc-a1fc-e1f21845ad3f",
   "metadata": {},
   "outputs": [],
   "source": [
    "from sklearn.linear_model import LinearRegression\n",
    "from sklearn.base import BaseEstimator\n",
    "from sklearn.metrics import confusion_matrix"
   ]
  },
  {
   "cell_type": "code",
   "execution_count": null,
   "id": "3205336c-4748-4573-8ab9-c48c42dbce81",
   "metadata": {},
   "outputs": [],
   "source": [
    "from utils import TARGET_FEATURE, FIGSIZE, DATAFILE_NAMES, RANDOM_SEED, load_all, train_split, target_split\n",
    "from features import f_derivative, t_min_max, t_q_q, t_stationary, t_dropna, t_limit"
   ]
  },
  {
   "cell_type": "code",
   "execution_count": null,
   "id": "91d439a9-3674-4993-9461-749717c93a6a",
   "metadata": {},
   "outputs": [],
   "source": [
    "import matplotlib.pyplot as plt"
   ]
  },
  {
   "cell_type": "code",
   "execution_count": null,
   "id": "5f0781ce-a8d3-4779-b403-6bcc44c202c1",
   "metadata": {},
   "outputs": [],
   "source": [
    "dfs = load_all()\n",
    "funs = [f_derivative, t_dropna, t_q_q, t_dropna, t_limit]\n",
    "funs = [t_q_q, t_dropna, t_limit]\n",
    "funs = [t_min_max, t_dropna]\n",
    "for fun in funs:\n",
    "    dfs = [fun(df) for df in dfs]"
   ]
  },
  {
   "cell_type": "code",
   "execution_count": null,
   "id": "2e28c2ad-d3c0-4ef4-b698-6749538066e4",
   "metadata": {},
   "outputs": [],
   "source": [
    "def get_data_for_test(df, mode, window):\n",
    "    t2 = (df[TARGET_FEATURE] == mode).rolling(window).apply(all).idxmax()\n",
    "    t1 = df.index[np.argmax(df.index == t2) - window + 1]\n",
    "    return target_split(df[(df.index > t1) & (df.index < t2)])"
   ]
  },
  {
   "cell_type": "markdown",
   "id": "f70fd6eb-e944-41d0-aff3-b9f22bd79a7b",
   "metadata": {},
   "source": [
    "## Оценка возможности реализации идеи\n",
    "\n",
    "Задачи:\n",
    "\n",
    "1. Обучить линейную регрессию на малой части данных, задав в качестве таргета любую константу\n",
    "1. Посмотреть как она себя будет вести на всем временном диапазоне."
   ]
  },
  {
   "cell_type": "code",
   "execution_count": null,
   "id": "73c4f6ff-7e54-4efd-9758-7d42744deada",
   "metadata": {},
   "outputs": [],
   "source": [
    "class TestModel(BaseEstimator):\n",
    "    def __init__(self, fit_type=2):\n",
    "        self.model = LinearRegression()\n",
    "        self.fit_type = fit_type\n",
    "    \n",
    "    def fit(self, x, y):\n",
    "        if self.fit_type == 1:\n",
    "            # 1 try to fit linear regression by lsa\n",
    "            self.model.coef_ = np.linalg.lstsq(x.values, y.values, -1)[0]\n",
    "            self.model.intercept_ = 0\n",
    "        elif self.fit_type == 2:\n",
    "            # 2 try to set random coeffs\n",
    "            self.model.coef_ = (x.iloc[0] * 0 + 1 / x.shape[1]).values\n",
    "            self.model.intercept_ = 0\n",
    "        elif self.tfit_typeype == 3:\n",
    "            # 3 try to fit lr model\n",
    "            self.model.fit(x, y)\n",
    "        else:\n",
    "            raise ValueError(f\"unknown fit_type value {self.fit_type}\")\n",
    "        return self\n",
    "    \n",
    "    def predict(self, x, *args, how='series'):\n",
    "        y = self.model.predict(x, *args)\n",
    "        if how == 'series':\n",
    "            return pd.Series(y, index=x.index)\n",
    "        return y"
   ]
  },
  {
   "cell_type": "code",
   "execution_count": null,
   "id": "25932007-8273-4e0c-9a8a-3dd814ee5b27",
   "metadata": {},
   "outputs": [],
   "source": [
    "mode = 1\n",
    "data = [(get_data_for_test(df, mode, 200), target_split(df)) for df in dfs]\n",
    "models = [TestModel().fit(*dff[0]) for dff in data]"
   ]
  },
  {
   "cell_type": "code",
   "execution_count": null,
   "id": "780e39b3-5fe7-499e-b25b-98b469037d80",
   "metadata": {},
   "outputs": [],
   "source": [
    "def plot_violin(res, t1):\n",
    "    _, ax = plt.subplots(figsize=FIGSIZE)\n",
    "    sns.violinplot(t1.fillna(-1), res, scale='width', inner='box', ax=ax)\n",
    "    plt.show()\n",
    "\n",
    "for model, ((df0, t0), (df1, t1)) in zip(models, data):\n",
    "    plot_violin(model.predict(df1), t1)"
   ]
  },
  {
   "cell_type": "markdown",
   "id": "57b827f7-40f0-4771-b010-030359e187d6",
   "metadata": {},
   "source": [
    "Нужно посмотреть из каких режимов в какие возможен переход и есть ли там различия по расчетной метрике.\n",
    "\n",
    "**Вывод**: для грубой оценки идея работает."
   ]
  },
  {
   "cell_type": "markdown",
   "id": "8f37eb89-02d2-4e1c-989f-a2f815f5d10d",
   "metadata": {},
   "source": [
    "## Грубая попытка реализации\n",
    "\n",
    "Задачи:\n",
    "\n",
    "1. Подготовить модель\n",
    "1. Определить режимы\n",
    "1. Оценить точность\n",
    "\n",
    "\n",
    "**Проверка не проведена из-за очевидной несостоятельности идеи. Линейная комбинация не позволяет эффективно отделить одни режимы от других (см. рисунки выше), поэтому она может быть использована как отдельный признак, но не как киллерфича**"
   ]
  },
  {
   "cell_type": "code",
   "execution_count": null,
   "id": "0c0392fa-aa21-4027-b292-2804b8f32b00",
   "metadata": {},
   "outputs": [],
   "source": [
    "# # get model from previous cells\n",
    "# model = model\n",
    "\n",
    "# # predict over df\n",
    "# res = model.predict(df1)\n",
    "\n",
    "# _, ax = plt.subplots(figsize=FIGSIZE)\n",
    "# res.plot(ax=ax)\n",
    "\n",
    "\n",
    "# _, ax = plt.subplots(figsize=FIGSIZE)\n",
    "# sns.scatterplot(df1.index, res, hue=t1.fillna(-1), s=0.5, ax=ax)"
   ]
  }
 ],
 "metadata": {
  "kernelspec": {
   "display_name": "Python 3 (ipykernel)",
   "language": "python",
   "name": "python3"
  },
  "language_info": {
   "codemirror_mode": {
    "name": "ipython",
    "version": 3
   },
   "file_extension": ".py",
   "mimetype": "text/x-python",
   "name": "python",
   "nbconvert_exporter": "python",
   "pygments_lexer": "ipython3",
   "version": "3.9.7"
  }
 },
 "nbformat": 4,
 "nbformat_minor": 5
}
