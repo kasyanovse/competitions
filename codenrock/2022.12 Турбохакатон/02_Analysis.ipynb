{
 "cells": [
  {
   "cell_type": "markdown",
   "id": "4f83feac-e7f2-477c-aff6-a22fac4f8e72",
   "metadata": {},
   "source": [
    "# Анализ основных преобразований признаков\n",
    "\n",
    "На базовой модели оценивается какую роль играют те или иные преобразования признаков."
   ]
  },
  {
   "cell_type": "code",
   "execution_count": 1,
   "id": "3d1e878d-dc3d-442b-8daf-cb3478019073",
   "metadata": {},
   "outputs": [],
   "source": [
    "import numpy as np\n",
    "import pandas as pd\n",
    "import matplotlib.pyplot as plt\n",
    "from tqdm.notebook import tqdm"
   ]
  },
  {
   "cell_type": "code",
   "execution_count": 2,
   "id": "83442af0-2807-47d8-a4ec-35b234ebfb19",
   "metadata": {},
   "outputs": [],
   "source": [
    "from utils import TARGET_FEATURE, FIGSIZE, DATAFILE_NAMES, RANDOM_SEED, load, train_split, target_split\n",
    "from features import *\n",
    "from baseline import baseline_classification_score, baseline_clusterization_score"
   ]
  },
  {
   "cell_type": "code",
   "execution_count": 3,
   "id": "dc18abc1-c396-4db2-8c9f-96226bf97d23",
   "metadata": {},
   "outputs": [],
   "source": [
    "dfs = [load(file_name) for file_name in DATAFILE_NAMES]"
   ]
  },
  {
   "cell_type": "code",
   "execution_count": 4,
   "id": "23d09ed5-6873-4d02-8e12-26823998ae4f",
   "metadata": {},
   "outputs": [],
   "source": [
    "COLORS = 'rbgk'\n",
    "STYLES = ['-', '--', ':', '-.']"
   ]
  },
  {
   "cell_type": "code",
   "execution_count": 5,
   "id": "53c32e08-44bf-43b3-a7d9-5310eb02a312",
   "metadata": {},
   "outputs": [],
   "source": [
    "def test(df):\n",
    "    \"\"\" test baseline model on df \"\"\"\n",
    "    # classification is switched off\n",
    "    # return baseline_classification_score(df) | baseline_clusterization_score(df)\n",
    "    return baseline_clusterization_score(df)\n",
    "\n",
    "def test_all_df(dfs, **kwargs):\n",
    "    \"\"\" test baseline model on all df in dfs \"\"\"\n",
    "    return [kwargs | {'dataframe': i} | test(df) for i, df in enumerate(dfs, 1)]\n",
    "\n",
    "def test_all_df_with_fun(fun, dfs=dfs, **kwargs):\n",
    "    \"\"\" test baseline on all dfs that were processed with fun \"\"\"\n",
    "    return test_all_df(map(fun, dfs), **kwargs)\n",
    "\n",
    "def test_all_df_with_funs(funs, dfs=dfs, **kwargs):\n",
    "    \"\"\" test baseline on all dfs that were processed with funs\"\"\"\n",
    "    dfs_new = []\n",
    "    for df in dfs:\n",
    "        for fun in funs:\n",
    "            df = fun(df)\n",
    "        dfs_new.append(df)\n",
    "    return test_all_df(dfs_new, **kwargs)"
   ]
  },
  {
   "cell_type": "markdown",
   "id": "8c1e8bae-6b85-4c72-87d5-6dfe579d0689",
   "metadata": {},
   "source": [
    "## Значения метрик на исходных выборках\n",
    "\n",
    "Размеры выборок уменьшены, чтобы считалось побыстрее."
   ]
  },
  {
   "cell_type": "code",
   "execution_count": 6,
   "id": "52f368c2-72ef-495c-99b2-d4d4903b106e",
   "metadata": {},
   "outputs": [],
   "source": [
    "# pd.DataFrame(test_all_df(dfs))"
   ]
  },
  {
   "cell_type": "markdown",
   "id": "7ff0f38b-9d41-4718-ba95-70c82ad81a81",
   "metadata": {},
   "source": [
    "## Удаление коррелирующих признаков (по Пирсону) не изменяет метрику\n",
    "\n",
    "Так как признаков очень много и их набор случаен (для разных датасетов), то использовать мощные библиотеки типа phik смысла особого нет - они слишком времязатратны. Поэтому оценка корреляций производится с использованием коэффициента Пирсона."
   ]
  },
  {
   "cell_type": "code",
   "execution_count": 7,
   "id": "13d5f3c0-f867-4f59-8663-4a8d47a5b69a",
   "metadata": {},
   "outputs": [],
   "source": [
    "def test_corr(funs, max_corrs):\n",
    "    res = []\n",
    "    for corr in tqdm(max_corrs):\n",
    "        ndfs = []\n",
    "        for df in dfs:\n",
    "            for fun in funs[:-1]:\n",
    "                df = fun(df)\n",
    "            ndfs.append(funs[-1](df, corr))\n",
    "        res.extend(test_all_df(ndfs, corr=corr))\n",
    "    r = pd.DataFrame(res)\n",
    "    display(r)\n",
    "    \n",
    "    _, ax = plt.subplots(figsize=FIGSIZE)\n",
    "    for idf, dataframe in enumerate(r['dataframe'].unique()):\n",
    "        r0 = r[r['dataframe'] == dataframe]\n",
    "        for im, metric in enumerate(np.setdiff1d(r.columns, ['corr', 'dataframe'])):\n",
    "            ax.plot(r0['corr'], r0[metric], label=f'{metric}_{dataframe}', c=COLORS[idf], ls=STYLES[im])\n",
    "    ax.legend()"
   ]
  },
  {
   "cell_type": "code",
   "execution_count": 8,
   "id": "896acbab-ea4f-4557-9ac7-f844ae43faf0",
   "metadata": {},
   "outputs": [],
   "source": [
    "# %%time\n",
    "# test_corr([del_corr], np.arange(0.6, 0.96, 0.05))"
   ]
  },
  {
   "cell_type": "markdown",
   "id": "551e5336-600c-4cb0-ac4e-ee89aaf782d6",
   "metadata": {},
   "source": [
    "**Вывод**: При удалении признаков метрики падают. Наиболее оптимальное значение для удаления признаков - значение коэффициента корреляции более 0,7 (тут все спорно, но мне кажется, что так)."
   ]
  },
  {
   "cell_type": "markdown",
   "id": "a2190d5b-4dc4-42fc-96d9-4e4cc116d60f",
   "metadata": {},
   "source": [
    "Заменяем коррелирующие признаки суммой их модулей."
   ]
  },
  {
   "cell_type": "code",
   "execution_count": 9,
   "id": "bc9465b1-fbd5-47c6-b888-b44caf2a9234",
   "metadata": {},
   "outputs": [
    {
     "data": {
      "application/vnd.jupyter.widget-view+json": {
       "model_id": "cb5b850acbb74baa9fe2bacd7e6fab24",
       "version_major": 2,
       "version_minor": 0
      },
      "text/plain": [
       "  0%|          | 0/4 [00:00<?, ?it/s]"
      ]
     },
     "metadata": {},
     "output_type": "display_data"
    },
    {
     "data": {
      "text/html": [
       "<div>\n",
       "<style scoped>\n",
       "    .dataframe tbody tr th:only-of-type {\n",
       "        vertical-align: middle;\n",
       "    }\n",
       "\n",
       "    .dataframe tbody tr th {\n",
       "        vertical-align: top;\n",
       "    }\n",
       "\n",
       "    .dataframe thead th {\n",
       "        text-align: right;\n",
       "    }\n",
       "</style>\n",
       "<table border=\"1\" class=\"dataframe\">\n",
       "  <thead>\n",
       "    <tr style=\"text-align: right;\">\n",
       "      <th></th>\n",
       "      <th>corr</th>\n",
       "      <th>dataframe</th>\n",
       "      <th>ri</th>\n",
       "      <th>mis</th>\n",
       "    </tr>\n",
       "  </thead>\n",
       "  <tbody>\n",
       "    <tr>\n",
       "      <th>0</th>\n",
       "      <td>0.6</td>\n",
       "      <td>1</td>\n",
       "      <td>0.771425</td>\n",
       "      <td>1.212888</td>\n",
       "    </tr>\n",
       "    <tr>\n",
       "      <th>1</th>\n",
       "      <td>0.6</td>\n",
       "      <td>2</td>\n",
       "      <td>0.855023</td>\n",
       "      <td>1.219061</td>\n",
       "    </tr>\n",
       "    <tr>\n",
       "      <th>2</th>\n",
       "      <td>0.7</td>\n",
       "      <td>1</td>\n",
       "      <td>0.771972</td>\n",
       "      <td>1.231851</td>\n",
       "    </tr>\n",
       "    <tr>\n",
       "      <th>3</th>\n",
       "      <td>0.7</td>\n",
       "      <td>2</td>\n",
       "      <td>0.845581</td>\n",
       "      <td>1.201101</td>\n",
       "    </tr>\n",
       "    <tr>\n",
       "      <th>4</th>\n",
       "      <td>0.8</td>\n",
       "      <td>1</td>\n",
       "      <td>0.771870</td>\n",
       "      <td>1.239733</td>\n",
       "    </tr>\n",
       "    <tr>\n",
       "      <th>5</th>\n",
       "      <td>0.8</td>\n",
       "      <td>2</td>\n",
       "      <td>0.838544</td>\n",
       "      <td>1.159242</td>\n",
       "    </tr>\n",
       "    <tr>\n",
       "      <th>6</th>\n",
       "      <td>0.9</td>\n",
       "      <td>1</td>\n",
       "      <td>0.772204</td>\n",
       "      <td>1.258434</td>\n",
       "    </tr>\n",
       "    <tr>\n",
       "      <th>7</th>\n",
       "      <td>0.9</td>\n",
       "      <td>2</td>\n",
       "      <td>0.839465</td>\n",
       "      <td>1.185454</td>\n",
       "    </tr>\n",
       "  </tbody>\n",
       "</table>\n",
       "</div>"
      ],
      "text/plain": [
       "   corr  dataframe        ri       mis\n",
       "0   0.6          1  0.771425  1.212888\n",
       "1   0.6          2  0.855023  1.219061\n",
       "2   0.7          1  0.771972  1.231851\n",
       "3   0.7          2  0.845581  1.201101\n",
       "4   0.8          1  0.771870  1.239733\n",
       "5   0.8          2  0.838544  1.159242\n",
       "6   0.9          1  0.772204  1.258434\n",
       "7   0.9          2  0.839465  1.185454"
      ]
     },
     "metadata": {},
     "output_type": "display_data"
    },
    {
     "name": "stdout",
     "output_type": "stream",
     "text": [
      "Wall time: 1min 23s\n"
     ]
    },
    {
     "data": {
      "image/png": "[encoded data removed]",
      "text/plain": [
       "<Figure size 1800x432 with 1 Axes>"
      ]
     },
     "metadata": {
      "needs_background": "light"
     },
     "output_type": "display_data"
    }
   ],
   "source": [
    "# %%time\n",
    "# test_corr([replace_corr], np.arange(0.6, 0.96, 0.1))"
   ]
  },
  {
   "cell_type": "markdown",
   "id": "60d91dda-2d26-48b6-8b88-a466ffbdc484",
   "metadata": {},
   "source": [
    "**Вывод**: При замене коррелирующих признаков своей линейной комбинацией метрика изменяется очень слабо."
   ]
  },
  {
   "cell_type": "markdown",
   "id": "aa128e1f-54a7-4df0-91f5-5f329b930431",
   "metadata": {},
   "source": [
    "Заменяем коррелирующие признаки суммой их модулей с предварительной нормализацией коррелирующих признаков."
   ]
  },
  {
   "cell_type": "code",
   "execution_count": 10,
   "id": "ccf44dc0-abc5-442f-bc30-fbaad3bdeb3a",
   "metadata": {},
   "outputs": [
    {
     "data": {
      "application/vnd.jupyter.widget-view+json": {
       "model_id": "71a8cfd344b949b8a773701c35995303",
       "version_major": 2,
       "version_minor": 0
      },
      "text/plain": [
       "  0%|          | 0/4 [00:00<?, ?it/s]"
      ]
     },
     "metadata": {},
     "output_type": "display_data"
    },
    {
     "data": {
      "text/html": [
       "<div>\n",
       "<style scoped>\n",
       "    .dataframe tbody tr th:only-of-type {\n",
       "        vertical-align: middle;\n",
       "    }\n",
       "\n",
       "    .dataframe tbody tr th {\n",
       "        vertical-align: top;\n",
       "    }\n",
       "\n",
       "    .dataframe thead th {\n",
       "        text-align: right;\n",
       "    }\n",
       "</style>\n",
       "<table border=\"1\" class=\"dataframe\">\n",
       "  <thead>\n",
       "    <tr style=\"text-align: right;\">\n",
       "      <th></th>\n",
       "      <th>corr</th>\n",
       "      <th>dataframe</th>\n",
       "      <th>ri</th>\n",
       "      <th>mis</th>\n",
       "    </tr>\n",
       "  </thead>\n",
       "  <tbody>\n",
       "    <tr>\n",
       "      <th>0</th>\n",
       "      <td>0.6</td>\n",
       "      <td>1</td>\n",
       "      <td>0.639227</td>\n",
       "      <td>0.899892</td>\n",
       "    </tr>\n",
       "    <tr>\n",
       "      <th>1</th>\n",
       "      <td>0.6</td>\n",
       "      <td>2</td>\n",
       "      <td>0.847196</td>\n",
       "      <td>1.196774</td>\n",
       "    </tr>\n",
       "    <tr>\n",
       "      <th>2</th>\n",
       "      <td>0.7</td>\n",
       "      <td>1</td>\n",
       "      <td>0.687748</td>\n",
       "      <td>0.966916</td>\n",
       "    </tr>\n",
       "    <tr>\n",
       "      <th>3</th>\n",
       "      <td>0.7</td>\n",
       "      <td>2</td>\n",
       "      <td>0.800278</td>\n",
       "      <td>1.015078</td>\n",
       "    </tr>\n",
       "    <tr>\n",
       "      <th>4</th>\n",
       "      <td>0.8</td>\n",
       "      <td>1</td>\n",
       "      <td>0.725515</td>\n",
       "      <td>0.913371</td>\n",
       "    </tr>\n",
       "    <tr>\n",
       "      <th>5</th>\n",
       "      <td>0.8</td>\n",
       "      <td>2</td>\n",
       "      <td>0.810023</td>\n",
       "      <td>0.997967</td>\n",
       "    </tr>\n",
       "    <tr>\n",
       "      <th>6</th>\n",
       "      <td>0.9</td>\n",
       "      <td>1</td>\n",
       "      <td>0.701580</td>\n",
       "      <td>0.864767</td>\n",
       "    </tr>\n",
       "    <tr>\n",
       "      <th>7</th>\n",
       "      <td>0.9</td>\n",
       "      <td>2</td>\n",
       "      <td>0.809107</td>\n",
       "      <td>0.981430</td>\n",
       "    </tr>\n",
       "  </tbody>\n",
       "</table>\n",
       "</div>"
      ],
      "text/plain": [
       "   corr  dataframe        ri       mis\n",
       "0   0.6          1  0.639227  0.899892\n",
       "1   0.6          2  0.847196  1.196774\n",
       "2   0.7          1  0.687748  0.966916\n",
       "3   0.7          2  0.800278  1.015078\n",
       "4   0.8          1  0.725515  0.913371\n",
       "5   0.8          2  0.810023  0.997967\n",
       "6   0.9          1  0.701580  0.864767\n",
       "7   0.9          2  0.809107  0.981430"
      ]
     },
     "metadata": {},
     "output_type": "display_data"
    },
    {
     "name": "stdout",
     "output_type": "stream",
     "text": [
      "Wall time: 1min 34s\n"
     ]
    },
    {
     "data": {
      "image/png": "[encoded data removed]",
      "text/plain": [
       "<Figure size 1800x432 with 1 Axes>"
      ]
     },
     "metadata": {
      "needs_background": "light"
     },
     "output_type": "display_data"
    }
   ],
   "source": [
    "# %%time\n",
    "# test_corr([lambda df, corr: replace_corr(df, corr, normalize=True)], np.arange(0.6, 0.96, 0.1))"
   ]
  },
  {
   "cell_type": "code",
   "execution_count": 12,
   "id": "385d0520-f55b-497e-864e-2f22f5013e12",
   "metadata": {},
   "outputs": [
    {
     "data": {
      "application/vnd.jupyter.widget-view+json": {
       "model_id": "152341db225945c588ff069a3be77207",
       "version_major": 2,
       "version_minor": 0
      },
      "text/plain": [
       "  0%|          | 0/4 [00:00<?, ?it/s]"
      ]
     },
     "metadata": {},
     "output_type": "display_data"
    },
    {
     "data": {
      "text/html": [
       "<div>\n",
       "<style scoped>\n",
       "    .dataframe tbody tr th:only-of-type {\n",
       "        vertical-align: middle;\n",
       "    }\n",
       "\n",
       "    .dataframe tbody tr th {\n",
       "        vertical-align: top;\n",
       "    }\n",
       "\n",
       "    .dataframe thead th {\n",
       "        text-align: right;\n",
       "    }\n",
       "</style>\n",
       "<table border=\"1\" class=\"dataframe\">\n",
       "  <thead>\n",
       "    <tr style=\"text-align: right;\">\n",
       "      <th></th>\n",
       "      <th>corr</th>\n",
       "      <th>dataframe</th>\n",
       "      <th>ri</th>\n",
       "      <th>mis</th>\n",
       "    </tr>\n",
       "  </thead>\n",
       "  <tbody>\n",
       "    <tr>\n",
       "      <th>0</th>\n",
       "      <td>0.6</td>\n",
       "      <td>1</td>\n",
       "      <td>0.705426</td>\n",
       "      <td>1.189093</td>\n",
       "    </tr>\n",
       "    <tr>\n",
       "      <th>1</th>\n",
       "      <td>0.6</td>\n",
       "      <td>2</td>\n",
       "      <td>0.841876</td>\n",
       "      <td>1.235169</td>\n",
       "    </tr>\n",
       "    <tr>\n",
       "      <th>2</th>\n",
       "      <td>0.7</td>\n",
       "      <td>1</td>\n",
       "      <td>0.706996</td>\n",
       "      <td>1.217779</td>\n",
       "    </tr>\n",
       "    <tr>\n",
       "      <th>3</th>\n",
       "      <td>0.7</td>\n",
       "      <td>2</td>\n",
       "      <td>0.834393</td>\n",
       "      <td>1.226828</td>\n",
       "    </tr>\n",
       "    <tr>\n",
       "      <th>4</th>\n",
       "      <td>0.8</td>\n",
       "      <td>1</td>\n",
       "      <td>0.738604</td>\n",
       "      <td>1.211495</td>\n",
       "    </tr>\n",
       "    <tr>\n",
       "      <th>5</th>\n",
       "      <td>0.8</td>\n",
       "      <td>2</td>\n",
       "      <td>0.835050</td>\n",
       "      <td>1.225698</td>\n",
       "    </tr>\n",
       "    <tr>\n",
       "      <th>6</th>\n",
       "      <td>0.9</td>\n",
       "      <td>1</td>\n",
       "      <td>0.707629</td>\n",
       "      <td>1.221558</td>\n",
       "    </tr>\n",
       "    <tr>\n",
       "      <th>7</th>\n",
       "      <td>0.9</td>\n",
       "      <td>2</td>\n",
       "      <td>0.836806</td>\n",
       "      <td>1.255052</td>\n",
       "    </tr>\n",
       "  </tbody>\n",
       "</table>\n",
       "</div>"
      ],
      "text/plain": [
       "   corr  dataframe        ri       mis\n",
       "0   0.6          1  0.705426  1.189093\n",
       "1   0.6          2  0.841876  1.235169\n",
       "2   0.7          1  0.706996  1.217779\n",
       "3   0.7          2  0.834393  1.226828\n",
       "4   0.8          1  0.738604  1.211495\n",
       "5   0.8          2  0.835050  1.225698\n",
       "6   0.9          1  0.707629  1.221558\n",
       "7   0.9          2  0.836806  1.255052"
      ]
     },
     "metadata": {},
     "output_type": "display_data"
    },
    {
     "name": "stdout",
     "output_type": "stream",
     "text": [
      "Wall time: 1min 53s\n"
     ]
    },
    {
     "data": {
      "image/png": "[encoded data removed]",
      "text/plain": [
       "<Figure size 1800x432 with 1 Axes>"
      ]
     },
     "metadata": {
      "needs_background": "light"
     },
     "output_type": "display_data"
    }
   ],
   "source": [
    "# %%time\n",
    "# test_corr([t_min_max, replace_corr], np.arange(0.6, 0.96, 0.1))"
   ]
  },
  {
   "cell_type": "markdown",
   "id": "99e40631-5566-4565-b041-d70e508a2ccc",
   "metadata": {},
   "source": [
    "## Добавление новых признаков улучшает метрику"
   ]
  },
  {
   "cell_type": "code",
   "execution_count": 13,
   "id": "cabef006-bce8-4056-9d07-12d07bb722b0",
   "metadata": {},
   "outputs": [
    {
     "data": {
      "application/vnd.jupyter.widget-view+json": {
       "model_id": "98b4968076e14c5d9c448bb29d61bd6a",
       "version_major": 2,
       "version_minor": 0
      },
      "text/plain": [
       "  0%|          | 0/3 [00:00<?, ?it/s]"
      ]
     },
     "metadata": {},
     "output_type": "display_data"
    },
    {
     "name": "stdout",
     "output_type": "stream",
     "text": [
      "[<function apply_nf.<locals>.temp at 0x000001C4ABBE5160>, <function apply_nf.<locals>.temp at 0x000001C4ABBE59D0>]\n"
     ]
    },
    {
     "data": {
      "text/html": [
       "<div>\n",
       "<style scoped>\n",
       "    .dataframe tbody tr th:only-of-type {\n",
       "        vertical-align: middle;\n",
       "    }\n",
       "\n",
       "    .dataframe tbody tr th {\n",
       "        vertical-align: top;\n",
       "    }\n",
       "\n",
       "    .dataframe thead th {\n",
       "        text-align: right;\n",
       "    }\n",
       "</style>\n",
       "<table border=\"1\" class=\"dataframe\">\n",
       "  <thead>\n",
       "    <tr style=\"text-align: right;\">\n",
       "      <th></th>\n",
       "      <th>dataframe</th>\n",
       "      <th>ri</th>\n",
       "      <th>mis</th>\n",
       "    </tr>\n",
       "  </thead>\n",
       "  <tbody>\n",
       "    <tr>\n",
       "      <th>0</th>\n",
       "      <td>1</td>\n",
       "      <td>0.680536</td>\n",
       "      <td>1.072155</td>\n",
       "    </tr>\n",
       "    <tr>\n",
       "      <th>1</th>\n",
       "      <td>2</td>\n",
       "      <td>0.835663</td>\n",
       "      <td>1.216685</td>\n",
       "    </tr>\n",
       "  </tbody>\n",
       "</table>\n",
       "</div>"
      ],
      "text/plain": [
       "   dataframe        ri       mis\n",
       "0          1  0.680536  1.072155\n",
       "1          2  0.835663  1.216685"
      ]
     },
     "metadata": {},
     "output_type": "display_data"
    },
    {
     "name": "stdout",
     "output_type": "stream",
     "text": [
      "[<function apply_nf.<locals>.temp at 0x000001C4ABBE5160>, <function apply_nf.<locals>.temp at 0x000001C4ABBE5AF0>]\n"
     ]
    },
    {
     "data": {
      "text/html": [
       "<div>\n",
       "<style scoped>\n",
       "    .dataframe tbody tr th:only-of-type {\n",
       "        vertical-align: middle;\n",
       "    }\n",
       "\n",
       "    .dataframe tbody tr th {\n",
       "        vertical-align: top;\n",
       "    }\n",
       "\n",
       "    .dataframe thead th {\n",
       "        text-align: right;\n",
       "    }\n",
       "</style>\n",
       "<table border=\"1\" class=\"dataframe\">\n",
       "  <thead>\n",
       "    <tr style=\"text-align: right;\">\n",
       "      <th></th>\n",
       "      <th>dataframe</th>\n",
       "      <th>ri</th>\n",
       "      <th>mis</th>\n",
       "    </tr>\n",
       "  </thead>\n",
       "  <tbody>\n",
       "    <tr>\n",
       "      <th>0</th>\n",
       "      <td>1</td>\n",
       "      <td>0.659747</td>\n",
       "      <td>1.072462</td>\n",
       "    </tr>\n",
       "    <tr>\n",
       "      <th>1</th>\n",
       "      <td>2</td>\n",
       "      <td>0.831014</td>\n",
       "      <td>1.219460</td>\n",
       "    </tr>\n",
       "  </tbody>\n",
       "</table>\n",
       "</div>"
      ],
      "text/plain": [
       "   dataframe        ri       mis\n",
       "0          1  0.659747  1.072462\n",
       "1          2  0.831014  1.219460"
      ]
     },
     "metadata": {},
     "output_type": "display_data"
    },
    {
     "name": "stdout",
     "output_type": "stream",
     "text": [
      "[<function apply_nf.<locals>.temp at 0x000001C4ABBE5160>, <function apply_nf.<locals>.temp at 0x000001C4ABBE5C10>]\n"
     ]
    },
    {
     "data": {
      "text/html": [
       "<div>\n",
       "<style scoped>\n",
       "    .dataframe tbody tr th:only-of-type {\n",
       "        vertical-align: middle;\n",
       "    }\n",
       "\n",
       "    .dataframe tbody tr th {\n",
       "        vertical-align: top;\n",
       "    }\n",
       "\n",
       "    .dataframe thead th {\n",
       "        text-align: right;\n",
       "    }\n",
       "</style>\n",
       "<table border=\"1\" class=\"dataframe\">\n",
       "  <thead>\n",
       "    <tr style=\"text-align: right;\">\n",
       "      <th></th>\n",
       "      <th>dataframe</th>\n",
       "      <th>ri</th>\n",
       "      <th>mis</th>\n",
       "    </tr>\n",
       "  </thead>\n",
       "  <tbody>\n",
       "    <tr>\n",
       "      <th>0</th>\n",
       "      <td>1</td>\n",
       "      <td>0.661481</td>\n",
       "      <td>1.046140</td>\n",
       "    </tr>\n",
       "    <tr>\n",
       "      <th>1</th>\n",
       "      <td>2</td>\n",
       "      <td>0.836162</td>\n",
       "      <td>1.210419</td>\n",
       "    </tr>\n",
       "  </tbody>\n",
       "</table>\n",
       "</div>"
      ],
      "text/plain": [
       "   dataframe        ri       mis\n",
       "0          1  0.661481  1.046140\n",
       "1          2  0.836162  1.210419"
      ]
     },
     "metadata": {},
     "output_type": "display_data"
    }
   ],
   "source": [
    "funss = [[f_abs], [f_abs2], [f_abs05],\n",
    "         [t_q_q, f_abs], [t_q_q, f_abs2], [t_q_q, f_abs05],\n",
    "         [t_min_max, f_abs], [t_min_max, f_abs2], [t_min_max, f_abs05]]\n",
    "funss = [[t_min_max, f_abs], [t_min_max, f_abs2], [t_min_max, f_abs05]]\n",
    "for funs in tqdm(funss):\n",
    "    print(funs)\n",
    "    display(pd.DataFrame(test_all_df_with_funs(funs)))"
   ]
  }
 ],
 "metadata": {
  "kernelspec": {
   "display_name": "Python 3 (ipykernel)",
   "language": "python",
   "name": "python3"
  },
  "language_info": {
   "codemirror_mode": {
    "name": "ipython",
    "version": 3
   },
   "file_extension": ".py",
   "mimetype": "text/x-python",
   "name": "python",
   "nbconvert_exporter": "python",
   "pygments_lexer": "ipython3",
   "version": "3.9.7"
  }
 },
 "nbformat": 4,
 "nbformat_minor": 5
}
