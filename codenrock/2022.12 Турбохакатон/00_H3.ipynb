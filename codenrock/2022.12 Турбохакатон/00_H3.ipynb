{
 "cells": [
  {
   "cell_type": "markdown",
   "id": "a6b2c255-acd9-4f60-9d26-da29bb52c2dd",
   "metadata": {},
   "source": [
    "# Перебор различных моделей"
   ]
  },
  {
   "cell_type": "code",
   "execution_count": 1,
   "id": "80196c2a-f720-4968-b353-7b8e34e504fb",
   "metadata": {},
   "outputs": [],
   "source": [
    "import numpy as np\n",
    "from scipy.optimize import minimize\n",
    "import pandas as pd\n",
    "import matplotlib.pyplot as plt\n",
    "import seaborn as sns"
   ]
  },
  {
   "cell_type": "code",
   "execution_count": 2,
   "id": "9ab892b7-a742-460c-92f3-f0990bd81022",
   "metadata": {},
   "outputs": [],
   "source": [
    "from utils import TARGET_FEATURE, FIGSIZE, DATAFILE_NAMES, RANDOM_SEED, load_all, train_split_stratified, target_split\n",
    "from features import *\n",
    "from baseline import baseline_classification_score, baseline_clusterization_score\n",
    "from models import MyKMeans, MyAC, MyDBSCAN"
   ]
  },
  {
   "cell_type": "code",
   "execution_count": 3,
   "id": "6e280150-c5bd-4882-b30c-c0fc9eba3fd6",
   "metadata": {},
   "outputs": [],
   "source": [
    "dfs = load_all()"
   ]
  },
  {
   "cell_type": "code",
   "execution_count": 4,
   "id": "4d172283-5a01-48c4-9663-881e2b2fcb47",
   "metadata": {},
   "outputs": [],
   "source": [
    "df = dfs[0].copy()\n",
    "df = df.dropna()\n",
    "df = t_discrete(t_pca0999(df))\n",
    "#df = t_pca(df, 0.95)\n",
    "#df = t_min_max(df)\n",
    "df = df.iloc[::2]"
   ]
  },
  {
   "cell_type": "code",
   "execution_count": 5,
   "id": "3f7ecf68-de99-4ab2-8f8f-22c6e77e3cde",
   "metadata": {},
   "outputs": [
    {
     "name": "stdout",
     "output_type": "stream",
     "text": [
      "Wall time: 664 ms\n"
     ]
    },
    {
     "data": {
      "text/plain": [
       "0.0"
      ]
     },
     "execution_count": 5,
     "metadata": {},
     "output_type": "execute_result"
    }
   ],
   "source": [
    "# %%time\n",
    "# model = MyDBSCAN(0.001)\n",
    "# model.fit(*target_split(df))\n",
    "# model.my_score(df)"
   ]
  },
  {
   "cell_type": "code",
   "execution_count": 6,
   "id": "3e8608bc-f43f-4176-b75a-dd94bee2de97",
   "metadata": {},
   "outputs": [
    {
     "name": "stdout",
     "output_type": "stream",
     "text": [
      "Wall time: 12.2 s\n"
     ]
    },
    {
     "data": {
      "text/plain": [
       "0.6073682662506886"
      ]
     },
     "execution_count": 6,
     "metadata": {},
     "output_type": "execute_result"
    }
   ],
   "source": [
    "%%time\n",
    "model = MyAC(len(df[TARGET_FEATURE].unique()))\n",
    "model.fit(*target_split(df))\n",
    "model.my_score(df)"
   ]
  },
  {
   "cell_type": "code",
   "execution_count": 7,
   "id": "cc5b246b-0498-4398-9aff-f87755d709a7",
   "metadata": {},
   "outputs": [
    {
     "name": "stdout",
     "output_type": "stream",
     "text": [
      "Wall time: 373 ms\n"
     ]
    },
    {
     "data": {
      "text/plain": [
       "0.5696782348085088"
      ]
     },
     "execution_count": 7,
     "metadata": {},
     "output_type": "execute_result"
    }
   ],
   "source": [
    "%%time\n",
    "model = MyKMeans(len(df[TARGET_FEATURE].unique()))\n",
    "model.fit(*target_split(df))\n",
    "model.my_score(df)"
   ]
  }
 ],
 "metadata": {
  "kernelspec": {
   "display_name": "Python 3 (ipykernel)",
   "language": "python",
   "name": "python3"
  },
  "language_info": {
   "codemirror_mode": {
    "name": "ipython",
    "version": 3
   },
   "file_extension": ".py",
   "mimetype": "text/x-python",
   "name": "python",
   "nbconvert_exporter": "python",
   "pygments_lexer": "ipython3",
   "version": "3.9.7"
  }
 },
 "nbformat": 4,
 "nbformat_minor": 5
}
