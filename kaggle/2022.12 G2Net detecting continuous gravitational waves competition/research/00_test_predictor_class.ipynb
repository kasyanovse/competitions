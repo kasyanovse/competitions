{
 "cells": [
  {
   "cell_type": "code",
   "execution_count": 1,
   "id": "9415d461-a400-4206-b7f0-0db289893f33",
   "metadata": {},
   "outputs": [],
   "source": [
    "from math import ceil\n",
    "from pathlib import Path\n",
    "from copy import deepcopy\n",
    "import sys\n",
    "\n",
    "sys.path.insert(0, str(Path().absolute().parent))"
   ]
  },
  {
   "cell_type": "code",
   "execution_count": 2,
   "id": "3bbfeab7-d9c3-4bd6-8cb9-cbed46e19b76",
   "metadata": {},
   "outputs": [],
   "source": [
    "import numpy as np\n",
    "import pandas as pd\n",
    "import matplotlib.pyplot as plt\n",
    "from tqdm.notebook import tqdm\n",
    "from PIL import Image\n",
    "from sklearn.metrics import f1_score, confusion_matrix\n",
    "from joblib import Parallel, delayed"
   ]
  },
  {
   "cell_type": "code",
   "execution_count": 3,
   "id": "16bc09d5-23fe-4989-b79e-79e4dbad8d84",
   "metadata": {},
   "outputs": [],
   "source": [
    "from settings import PATH, SETTINGS\n",
    "from utils import load_data_from_hdf5\n",
    "from data_convert import process_data_approach_2\n",
    "from catboost_approach import MyCB, MyCBR"
   ]
  },
  {
   "cell_type": "code",
   "execution_count": 4,
   "id": "8c68501a-3543-48db-8927-f6fd19304209",
   "metadata": {},
   "outputs": [],
   "source": [
    "class BigImage():\n",
    "    def __init__(self, path, base_shape, process_fun=None):\n",
    "        if process_fun is None:\n",
    "            process_fun = process_data_approach_2\n",
    "        self.process_fun = process_fun\n",
    "        self.base_shape = base_shape\n",
    "        self.path = path\n",
    "        self.data = load_data_from_hdf5(path)['data']\n",
    "        self.parts_1 = []\n",
    "        self.parts_2 = []\n",
    "        self.origin_shape = self.data.shape[:2]\n",
    "        \n",
    "        for j in range(ceil(self.origin_shape[0] / base_shape[0])):\n",
    "            if base_shape[0] * (j + 1) <= self.origin_shape[0]:\n",
    "                zero_dim_ranges = [base_shape[0] * j, base_shape[0] * (j + 1)]\n",
    "            else:\n",
    "                zero_dim_ranges = [self.origin_shape[0] - base_shape[0], self.origin_shape[0]]\n",
    "            for i in range(ceil(self.origin_shape[1] / base_shape[1])):\n",
    "                if base_shape[1] * (i + 1) <= self.origin_shape[1]:\n",
    "                    first_dim_ranges = [base_shape[1] * i, base_shape[1] * (i + 1)]\n",
    "                else:\n",
    "                    first_dim_ranges = [self.origin_shape[1] - base_shape[1], self.origin_shape[1]]\n",
    "                subarray = self.data[zero_dim_ranges[0]:zero_dim_ranges[1], first_dim_ranges[0]:first_dim_ranges[1], 0]\n",
    "                subarray = self.process_fun(subarray)\n",
    "                self.parts_1.append(subarray)\n",
    "                \n",
    "                subarray = self.data[zero_dim_ranges[0]:zero_dim_ranges[1], first_dim_ranges[0]:first_dim_ranges[1], 1]\n",
    "                subarray = self.process_fun(subarray)\n",
    "                self.parts_2.append(subarray)\n",
    "\n",
    "\n",
    "class TM():\n",
    "    def fit(self, x, y=None):\n",
    "        return self\n",
    "    \n",
    "    def fit_predict(self, x, y=None):\n",
    "        return self.predict(x)\n",
    "    \n",
    "    def score(self, x, y, **kwargs):\n",
    "        return self.model.score(x, y, **kwargs)\n",
    "        \n",
    "\n",
    "class TestModel(TM):\n",
    "    def __init__(self, model, share_for_predict=0.2, image_shape=SETTINGS['image_shape_for_amp_2'], tqdm=tqdm, limit=100):\n",
    "        self.model = model\n",
    "        self.share_for_predict = share_for_predict\n",
    "        self.image_shape = image_shape\n",
    "        self.tqdm = tqdm\n",
    "        self.limit = limit\n",
    "    \n",
    "    def predict(self, files):\n",
    "        result = dict()\n",
    "        iresult = dict()\n",
    "        for file in self.tqdm(list(files)):\n",
    "            image = BigImage(file, self.image_shape)\n",
    "            r = []\n",
    "            for i1, i2 in zip(image.parts_1, image.parts_2):\n",
    "                if isinstance(self.model, MyCB):\n",
    "                    p1, p2 = self.model.predict_proba(i1)[0][1], self.model.predict_proba(i2)[0][1]\n",
    "                else:\n",
    "                    p1, p2 = self.model.predict(i1)[0], self.model.predict(i2)[0]\n",
    "                r.append(p1 + p2)\n",
    "            iresult[file.stem] = r\n",
    "            if len(iresult) > self.limit:\n",
    "                print('break!')\n",
    "                break\n",
    "        self.iresult = iresult\n",
    "        result = {k: int(np.mean(r) > self.share_for_predict) for k, r in iresult.items()}\n",
    "        self.result = result\n",
    "        return pd.Series(result)\n",
    "\n",
    "\n",
    "class TestModelDirect():\n",
    "    def __init__(self, model, tqdm=tqdm, limit=100):\n",
    "        self.model = model\n",
    "        self.tqdm = tqdm\n",
    "        self.limit = limit\n",
    "        \n",
    "    def predict(self, files):\n",
    "        r = dict()\n",
    "        for file in self.tqdm(list(files)):\n",
    "            array = np.abs(load_data_from_hdf5(file)['data'])\n",
    "            arrays = [process_data_approach_2(array[:, :, 0]),\n",
    "                      process_data_approach_2(array[:, :, 1])]\n",
    "            if isinstance(self.model, MyCB):\n",
    "                r[file.stem] = (self.model.predict_proba(arrays[0])[0][1], self.model.predict_proba(arrays[1])[0][1])\n",
    "            else:\n",
    "                r[file.stem] = (self.model.predict(arrays[0])[0], self.model.predict(arrays[1])[0])\n",
    "            if len(r) > self.limit:\n",
    "                print('break!')\n",
    "                break\n",
    "        self.iresult = r\n",
    "        result = {k: int(sum(r) > 1) for k, r in r.items()}\n",
    "        self.result = result\n",
    "        return r"
   ]
  },
  {
   "cell_type": "code",
   "execution_count": 5,
   "id": "432af836-f803-4b3a-b039-6bcb7bad70e8",
   "metadata": {},
   "outputs": [
    {
     "name": "stdout",
     "output_type": "stream",
     "text": [
      "0.7432982678950764 0.8012617052735337\n",
      "[[ 5594 14688]\n",
      " [ 5474 40644]]\n",
      "Wall time: 12.7 s\n"
     ]
    }
   ],
   "source": [
    "%%time\n",
    "model = MyCB(edge=0)\n",
    "# model = MyCBR(drop_0=True)\n",
    "model.read_data()\n",
    "model.fit(*model.my_test)\n",
    "# model.fit(*model.my_data)\n",
    "print(model.score(*model.my_data), model.score(*model.my_data, score_type='f1'))\n",
    "print(confusion_matrix(model.my_data[1], model.predict(model.my_data[0])))"
   ]
  },
  {
   "cell_type": "code",
   "execution_count": 6,
   "id": "2305bfe0-5685-484a-a927-193df8732966",
   "metadata": {},
   "outputs": [],
   "source": [
    "model.predict_mode = 'with_full_preprocessing'"
   ]
  },
  {
   "cell_type": "code",
   "execution_count": 7,
   "id": "c6d8fc18-19a7-4d14-a55f-42d0d3cd1e35",
   "metadata": {},
   "outputs": [],
   "source": [
    "label = pd.read_csv(PATH['data']['origin']['train'] / SETTINGS['labels_file_name']).set_index('id')"
   ]
  },
  {
   "cell_type": "code",
   "execution_count": 8,
   "id": "a6d38558-be76-4f07-8258-36ac936d7b79",
   "metadata": {},
   "outputs": [
    {
     "data": {
      "application/vnd.jupyter.widget-view+json": {
       "model_id": "fa63d6fab671406aaf3bb8ae78a07ae4",
       "version_major": 2,
       "version_minor": 0
      },
      "text/plain": [
       "  0%|          | 0/603 [00:00<?, ?it/s]"
      ]
     },
     "metadata": {},
     "output_type": "display_data"
    },
    {
     "name": "stdout",
     "output_type": "stream",
     "text": [
      "break!\n",
      "Wall time: 13.4 s\n"
     ]
    }
   ],
   "source": [
    "%%time\n",
    "# model_class = TestModel\n",
    "model_class = TestModelDirect\n",
    "m = model_class(model, limit=100)\n",
    "r = m.predict(PATH['data']['origin']['train'].glob('*.hdf5'))"
   ]
  },
  {
   "cell_type": "code",
   "execution_count": 9,
   "id": "57cbe543-83d6-4939-b1db-f09153f8fc1c",
   "metadata": {},
   "outputs": [
    {
     "data": {
      "text/plain": [
       "<AxesSubplot: >"
      ]
     },
     "execution_count": 9,
     "metadata": {},
     "output_type": "execute_result"
    },
    {
     "data": {
      "image/png": "[encoded data removed]",
      "text/plain": [
       "<Figure size 432x288 with 1 Axes>"
      ]
     },
     "metadata": {
      "needs_background": "light"
     },
     "output_type": "display_data"
    }
   ],
   "source": [
    "t = pd.concat([label, pd.Series({k: np.mean(x) for k, x in m.iresult.items()})], axis=1).dropna()\n",
    "# t = pd.concat([label, pd.Series({k: np.mean(sorted(x)[-10:]) for k, x in m.iresult.items()})], axis=1).dropna()\n",
    "t = pd.concat([label, pd.Series({k: np.max(x) for k, x in m.iresult.items()})], axis=1).dropna()\n",
    "# t = pd.concat([label, pd.Series({k: np.sum(x) for k, x in m.iresult.items()})], axis=1).dropna()\n",
    "t.columns = [0, 1]\n",
    "_, ax = plt.subplots()\n",
    "bins = np.linspace(t[1].min(), t[1].max(), 50)\n",
    "t[t[0] == 1][1].hist(ax=ax, bins=bins, alpha=0.3, color='r')\n",
    "t[t[0] == 0][1].hist(ax=ax, bins=bins, alpha=0.3, color='b')"
   ]
  },
  {
   "cell_type": "code",
   "execution_count": 10,
   "id": "55428b0d-a4ba-404e-9559-2ebe2a24286f",
   "metadata": {},
   "outputs": [
    {
     "name": "stdout",
     "output_type": "stream",
     "text": [
      "f1_score 0.8187134502923976\n",
      "[[ 0 31]\n",
      " [ 0 70]]\n"
     ]
    }
   ],
   "source": [
    "t = pd.concat([label, pd.Series(m.result)], axis=1).dropna()\n",
    "t.columns = [1, 0]\n",
    "print('f1_score', f1_score(t.iloc[:, 0], t.iloc[:, -1]))\n",
    "print(confusion_matrix(t[1], t[0]))"
   ]
  },
  {
   "cell_type": "code",
   "execution_count": 11,
   "id": "e8ab121a-30a2-4d21-9509-d9b2b1f5a6fd",
   "metadata": {},
   "outputs": [],
   "source": [
    "# a = process_data_approach_2(np.array(load_data_from_hdf5(file)['data']))\n",
    "# pd.Series(np.reshape(a[:, :, 0], (-1, ))).hist(bins=100)"
   ]
  },
  {
   "cell_type": "code",
   "execution_count": 12,
   "id": "e59b52c0-237a-40e4-a5c5-2a745901e0e3",
   "metadata": {},
   "outputs": [],
   "source": [
    "# load part of train image and plot hist\n",
    "\n",
    "# files = list(PATH['data']['origin']['train'].glob('*.hdf5'))\n",
    "# for file in files:\n",
    "#     if label.loc[file.stem, 'target'] == 0:\n",
    "#         break\n",
    "\n",
    "# image = BigImage(file, SETTINGS['image_shape_for_amp_2'])\n",
    "# array = image.parts_1[0]\n",
    "# print(array.max(), array.min(), array.mean())\n",
    "# pd.Series(np.reshape(array, (-1, ))).hist(bins=100)"
   ]
  },
  {
   "cell_type": "code",
   "execution_count": 13,
   "id": "533563c8-06fb-4ce8-b086-d64256a4f741",
   "metadata": {},
   "outputs": [],
   "source": [
    "# load generated image and plot hist\n",
    "\n",
    "# files = list(PATH['data']['amp_2']['generated'].glob('*.png'))\n",
    "# db = pd.read_csv(PATH['data']['amp_2']['generated'] / '_snr.csv', index_col=0)\n",
    "# for file in files:\n",
    "#     if db.loc[file.stem, 'target'] == 1:\n",
    "#         break\n",
    "# array = np.array(Image.open(file))\n",
    "# print(array.max(), array.min(), array.mean())\n",
    "# pd.Series(np.reshape(array, (-1, ))).hist(bins=100)"
   ]
  },
  {
   "cell_type": "code",
   "execution_count": 14,
   "id": "a67f1d8b-a093-4f9b-b6c4-85a2580bd1df",
   "metadata": {},
   "outputs": [],
   "source": [
    "# load train image and plot hist\n",
    "\n",
    "# array = np.abs(image.data[:, :, 0])\n",
    "# print(array.max(), array.min(), array.mean())\n",
    "# pd.Series(np.reshape(array, (-1, ))).hist(bins=100)"
   ]
  },
  {
   "cell_type": "code",
   "execution_count": 15,
   "id": "82e825a6-78b7-4872-a2a9-ef1cec2b334b",
   "metadata": {},
   "outputs": [
    {
     "ename": "NameError",
     "evalue": "name 'array1' is not defined",
     "output_type": "error",
     "traceback": [
      "\u001b[1;31m---------------------------------------------------------------------------\u001b[0m",
      "\u001b[1;31mNameError\u001b[0m                                 Traceback (most recent call last)",
      "\u001b[1;32m~\\AppData\\Local\\Temp\\ipykernel_13180\\3075774507.py\u001b[0m in \u001b[0;36m<cell line: 1>\u001b[1;34m()\u001b[0m\n\u001b[1;32m----> 1\u001b[1;33m \u001b[0marray1\u001b[0m\u001b[1;33m\u001b[0m\u001b[1;33m\u001b[0m\u001b[0m\n\u001b[0m",
      "\u001b[1;31mNameError\u001b[0m: name 'array1' is not defined"
     ]
    }
   ],
   "source": [
    "array1"
   ]
  },
  {
   "cell_type": "code",
   "execution_count": null,
   "id": "d0c6179f-a1e4-46c5-aeab-137bf6ca675e",
   "metadata": {},
   "outputs": [],
   "source": [
    "# check data parameters from generated and train folders\n",
    "\n",
    "def p(a):\n",
    "    print(a.shape, round(np.mean(a) / a.max(), 3), round(np.var(a) / a.max() / a.max(), 3))\n",
    "\n",
    "def k(target, n=10):\n",
    "    files1 = PATH['data']['amp_2']['generated'].glob('*.npy')\n",
    "    db = pd.read_csv(PATH['data']['amp_2']['generated'] / '_labels.csv', index_col=0)\n",
    "    files2 = PATH['data']['origin']['train'].glob('*.hdf5')\n",
    "    label = pd.read_csv(PATH['data']['origin']['train'] / SETTINGS['labels_file_name'], index_col=0)\n",
    "\n",
    "    for _ in range(n):\n",
    "        for file1 in files1:\n",
    "            if db.loc[file1.stem, 'target'] == target:\n",
    "                break\n",
    "        array1 = np.load(file1)\n",
    "\n",
    "        for file2 in files2:\n",
    "            if label.loc[file2.stem, 'target'] == target:\n",
    "                break\n",
    "        array2 = load_data_from_hdf5(file2)['data'][:, :, 0]\n",
    "        array2 = process_data_approach_2(array2)\n",
    "        # array2 = model.full_preprocesser(array2)\n",
    "\n",
    "        p(array1), p(array2)\n",
    "        print()\n",
    "    print()\n",
    "\n",
    "k(0)\n",
    "k(1)"
   ]
  },
  {
   "cell_type": "code",
   "execution_count": null,
   "id": "125b0d6e-b37b-49f5-a1e8-0d71e800fd1b",
   "metadata": {},
   "outputs": [],
   "source": [
    "%%time\n",
    "files1 = PATH['data']['amp_2']['generated'].glob('*.npy')\n",
    "db = pd.read_csv(PATH['data']['amp_2']['generated'] / '_labels.csv', index_col=0)\n",
    "r = {'m': dict(), 'v': dict()}\n",
    "for file1 in tqdm(files1):\n",
    "    array1 = np.load(file1)\n",
    "    r['m'][file1.stem] = np.mean(array1)\n",
    "    r['v'][file1.stem] = np.var(array1)\n",
    "df = {k: pd.concat([pd.Series(r[k]), db['target']], axis=1) for k in r}\n",
    "\n",
    "for k, dfi in df.items():\n",
    "    dfi.columns = [0, 1]\n",
    "    _, ax = plt.subplots()\n",
    "    bins = np.linspace(dfi[0].min(), dfi[0].max(), 50)\n",
    "    dfi[dfi[1] == 1][0].hist(ax=ax, bins=bins, alpha=0.3, color='r')\n",
    "    dfi[dfi[1] == 0][0].hist(ax=ax, bins=bins, alpha=0.3, color='b')"
   ]
  },
  {
   "cell_type": "code",
   "execution_count": null,
   "id": "fabff5ee-aa14-45ef-b3f5-4bd1125c25b6",
   "metadata": {},
   "outputs": [],
   "source": [
    "%%time\n",
    "files2 = PATH['data']['origin']['train'].glob('*.hdf5')\n",
    "label = pd.read_csv(PATH['data']['origin']['train'] / SETTINGS['labels_file_name'], index_col=0)\n",
    "r = {'m': dict(), 'v': dict()}\n",
    "for file2 in files2:\n",
    "    array2 = load_data_from_hdf5(file2)['data'][:, :, 0]\n",
    "    array2 = process_data_approach_2(array2)\n",
    "    r['m'][file2.stem] = np.mean(array2)\n",
    "    r['v'][file2.stem] = np.var(array2)\n",
    "df = {k: pd.concat([pd.Series(r[k]), label['target']], axis=1) for k in r}\n",
    "\n",
    "for k, dfi in df.items():\n",
    "    dfi.columns = [0, 1]\n",
    "    _, ax = plt.subplots()\n",
    "    bins = np.linspace(dfi[0].min(), dfi[0].max()*0.6, 50)\n",
    "    dfi[dfi[1] == 1][0].hist(ax=ax, bins=bins, alpha=0.3, color='r')\n",
    "    dfi[dfi[1] == 0][0].hist(ax=ax, bins=bins, alpha=0.3, color='b')"
   ]
  }
 ],
 "metadata": {
  "kernelspec": {
   "display_name": "Python 3 (ipykernel)",
   "language": "python",
   "name": "python3"
  },
  "language_info": {
   "codemirror_mode": {
    "name": "ipython",
    "version": 3
   },
   "file_extension": ".py",
   "mimetype": "text/x-python",
   "name": "python",
   "nbconvert_exporter": "python",
   "pygments_lexer": "ipython3",
   "version": "3.9.12"
  }
 },
 "nbformat": 4,
 "nbformat_minor": 5
}
