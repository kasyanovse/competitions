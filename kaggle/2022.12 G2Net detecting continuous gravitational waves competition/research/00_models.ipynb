{
 "cells": [
  {
   "cell_type": "code",
   "execution_count": null,
   "id": "f183e83b-4a6e-4820-9935-7a675d87af07",
   "metadata": {},
   "outputs": [],
   "source": [
    "from pathlib import Path\n",
    "import sys\n",
    "\n",
    "sys.path.insert(0, str(Path().absolute().parent))"
   ]
  },
  {
   "cell_type": "code",
   "execution_count": null,
   "id": "9d129422-90c7-4f45-88ef-38ff4ae9850c",
   "metadata": {},
   "outputs": [],
   "source": [
    "import numpy as np\n",
    "from scipy.optimize import minimize\n",
    "import pandas as pd\n",
    "import matplotlib.pyplot as plt\n",
    "from tqdm.notebook import tqdm\n",
    "from PIL import Image\n",
    "\n",
    "from settings import PATH, SETTINGS\n",
    "from utils import load_data_from_hdf5\n",
    "from data_convert import process_data_approach_2\n",
    "from catboost_approach import MyCB, TARGET_FEATURE\n",
    "from nn_approach import MyNN"
   ]
  },
  {
   "cell_type": "code",
   "execution_count": null,
   "id": "382a2fbd-a769-4731-9cc4-12b81c3529ae",
   "metadata": {},
   "outputs": [],
   "source": [
    "nn = MyNN()"
   ]
  },
  {
   "cell_type": "code",
   "execution_count": null,
   "id": "318fd009-0280-46db-99a5-9d2279985f1b",
   "metadata": {},
   "outputs": [],
   "source": [
    "cb = MyCB()"
   ]
  }
 ],
 "metadata": {
  "kernelspec": {
   "display_name": "Python 3 (ipykernel)",
   "language": "python",
   "name": "python3"
  },
  "language_info": {
   "codemirror_mode": {
    "name": "ipython",
    "version": 3
   },
   "file_extension": ".py",
   "mimetype": "text/x-python",
   "name": "python",
   "nbconvert_exporter": "python",
   "pygments_lexer": "ipython3",
   "version": "3.9.12"
  }
 },
 "nbformat": 4,
 "nbformat_minor": 5
}
