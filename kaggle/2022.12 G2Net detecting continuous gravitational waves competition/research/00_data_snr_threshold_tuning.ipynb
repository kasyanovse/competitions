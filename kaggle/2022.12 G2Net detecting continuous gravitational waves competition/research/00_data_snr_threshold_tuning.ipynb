{
 "cells": [
  {
   "cell_type": "code",
   "execution_count": 1,
   "id": "be707a9b-da88-4701-a985-32b6efb847a9",
   "metadata": {},
   "outputs": [],
   "source": [
    "from pathlib import Path\n",
    "import sys\n",
    "\n",
    "sys.path.insert(0, str(Path().absolute().parent))"
   ]
  },
  {
   "cell_type": "code",
   "execution_count": 2,
   "id": "80f2ca03-3e10-477d-9cec-fcca5d3b195b",
   "metadata": {},
   "outputs": [],
   "source": [
    "import numpy as np\n",
    "from scipy.optimize import minimize\n",
    "import pandas as pd\n",
    "import matplotlib.pyplot as plt\n",
    "from tqdm.notebook import tqdm\n",
    "from PIL import Image\n",
    "\n",
    "from settings import PATH, SETTINGS\n",
    "from utils import load_data_from_hdf5\n",
    "from data_convert import process_data_approach_2\n",
    "from catboost_approach import MyCB, TARGET_FEATURE"
   ]
  },
  {
   "cell_type": "code",
   "execution_count": 3,
   "id": "16486790-57d7-4a9c-bac3-b18b8cbee1e0",
   "metadata": {},
   "outputs": [],
   "source": [
    "# edge shoud be 50-60"
   ]
  },
  {
   "cell_type": "code",
   "execution_count": 4,
   "id": "7990d412-f52e-4d54-9f34-6adf69f385f3",
   "metadata": {},
   "outputs": [],
   "source": [
    "files = PATH['data']['amp_2']['generated']\n",
    "df = pd.read_csv(PATH['data']['amp_2']['generated'] / SETTINGS['labels_file_name']).set_index('id')"
   ]
  },
  {
   "cell_type": "code",
   "execution_count": 5,
   "id": "8e8231fe-a02e-410a-bb90-90da5e88cc70",
   "metadata": {},
   "outputs": [],
   "source": [
    "dbs = []\n",
    "for folder in PATH['data']['origin']['generated'].glob('*'):\n",
    "    name = folder.stem\n",
    "    db = pd.read_csv(folder / 'db.csv')\n",
    "    db = db[['id', 'snr']]\n",
    "    db['id_0'] = db['id'].apply(lambda x: f\"{name}_{x:n}_0\")\n",
    "    db['id_1'] = db['id'].apply(lambda x: f\"{name}_{x:n}_1\")\n",
    "    db = pd.concat([db[['id_0', 'snr']].rename(columns={'id_0': 'id'}),\n",
    "                    db[['id_1', 'snr']].rename(columns={'id_1': 'id'})])\n",
    "    db = db.set_index('id').sort_index()\n",
    "    dbs.append(db)\n",
    "db = pd.concat(dbs)"
   ]
  },
  {
   "cell_type": "code",
   "execution_count": 6,
   "id": "6cd8532c-0e11-452b-8bac-8ffd45f1a3fd",
   "metadata": {},
   "outputs": [
    {
     "name": "stdout",
     "output_type": "stream",
     "text": [
      "Wall time: 31.2 ms\n"
     ]
    }
   ],
   "source": [
    "%%time\n",
    "kwargs = {'tqdm': tqdm, 'random_state': SETTINGS['random_seed'], 'verbose': 0}\n",
    "model = MyCB(**kwargs)\n",
    "df = model.read_data()"
   ]
  },
  {
   "cell_type": "code",
   "execution_count": 7,
   "id": "7a3b7610-c174-4535-b0d2-3db2b0cef2e2",
   "metadata": {},
   "outputs": [],
   "source": [
    "db0 = db.copy()\n",
    "def fun(edge, db=db0, df=model.my_df):\n",
    "    if isinstance(edge, list):\n",
    "        edge = edge[0]\n",
    "    model = MyCB(**kwargs)\n",
    "    df = df.drop(columns=TARGET_FEATURE)\n",
    "    df[TARGET_FEATURE] = (db['snr'] > edge).astype(int)\n",
    "    model.my_df = df\n",
    "    model.prepare_data()\n",
    "    model.fit(*model.my_train)\n",
    "    return model.score(*model.my_test)"
   ]
  },
  {
   "cell_type": "code",
   "execution_count": 8,
   "id": "9cd59a65-efe2-4ca5-adcc-af6d9f04570c",
   "metadata": {},
   "outputs": [
    {
     "data": {
      "application/vnd.jupyter.widget-view+json": {
       "model_id": "e0f8a5959d0e434fa8a5ef1a57d52074",
       "version_major": 2,
       "version_minor": 0
      },
      "text/plain": [
       "  0%|          | 0/10 [00:00<?, ?it/s]"
      ]
     },
     "metadata": {},
     "output_type": "display_data"
    },
    {
     "name": "stdout",
     "output_type": "stream",
     "text": [
      "Wall time: 2min 41s\n"
     ]
    }
   ],
   "source": [
    "%%time\n",
    "edges = np.linspace(0, db0['snr'].max() * 0.8, 10)\n",
    "res = [fun(edge) for edge in tqdm(edges)]"
   ]
  },
  {
   "cell_type": "code",
   "execution_count": 9,
   "id": "48941509-8ecf-4a2b-b0e7-b0b7f93879d4",
   "metadata": {},
   "outputs": [],
   "source": [
    "e = []\n",
    "r = []\n",
    "# with only one feature\n",
    "e.append(np.array([ 0.        ,   6.15990699,  12.31981397,  18.47972096,\n",
    "                   24.63962795,  30.79953494,  36.95944192,  43.11934891,\n",
    "                   49.2792559 ,  55.43916288,  61.59906987,  67.75897686,\n",
    "                   73.91888385,  80.07879083,  86.23869782,  92.39860481,\n",
    "                   98.55851179, 104.71841878, 110.87832577, 117.03823276]))\n",
    "r.append([0.6769462258853607, 0.6938641429552588, 0.7123130743907469, 0.7332771713275474, 0.758174947672282,\n",
    "        0.7997375973261356, 0.8244053104456639, 0.8716894569100863, 0.9071866280188587, 0.9339344073042702,\n",
    "        0.9600171705305128, 0.9734072685720205, 0.9805307812357544, 0.984447855588745, 0.9888191786607228,\n",
    "        0.9880868851696694, 0.9881918942247332, 0.9891820813781091, 0.9918278548291044, 0.991546201476542])\n",
    "\n",
    "# with full set of futures\n",
    "e.append(np.array([0.        ,   6.28376879,  12.56753759,  18.85130638,\n",
    "                   25.13507517,  31.41884396,  37.70261276,  43.98638155,\n",
    "                   50.27015034,  56.55391914,  62.83768793,  69.12145672,\n",
    "                   75.40522551,  81.68899431,  87.9727631 ,  94.25653189,\n",
    "                  100.54030068, 106.82406948, 113.10783827, 119.39160706]))\n",
    "r.append([0.823590404347882, 0.8556388976582423, 0.8882315386878494, 0.9219325064319327, 0.949964938860454,\n",
    "        0.9701267178271593, 0.9840448798018977, 0.9878501134422476, 0.9911884195283364, 0.9923964933157174,\n",
    "        0.9947843387676969, 0.9946713882133669, 0.9960698227982016, 0.9961289935666776, 0.9959297216709616,\n",
    "        0.9950566016017567, 0.9963800477925151, 0.9951708474911766, 0.9955233686507738, 0.9971759952727123])\n",
    "\n",
    "# with futures with one preparation fun\n",
    "e.append(np.array([0.        ,  13.26573412,  26.53146824,  39.79720235,\n",
    "                   53.06293647,  66.32867059,  79.59440471,  92.86013883,\n",
    "                   106.12587294, 119.39160706]))\n",
    "r.append([0.8254903526916892, 0.8979414635066525, 0.9606011968960215, 0.9853261209215273, 0.9917866490532952,\n",
    "        0.9962049381194209, 0.9961317010668543, 0.9960680126110817, 0.9965613849610149, 0.9972180805013123])\n",
    "\n",
    "# with 6 feature funs\n",
    "e.append(np.array([  0.        ,  13.26573412,  26.53146824,  39.79720235,\n",
    "        53.06293647,  66.32867059,  79.59440471,  92.86013883,\n",
    "       106.12587294, 119.39160706]))\n",
    "r.append([0.8280764217255173, 0.8992614704033508, 0.9590524874750093, 0.9850947406016919, 0.9919238466455116,\n",
    " 0.9965789088041872, 0.9964487830535177, 0.9961331689797178, 0.9961943306462271, 0.9965258214349516])\n",
    "         \n",
    "# with 3 feature funs\n",
    "e.append(np.array([  0.        ,  13.26573412,  26.53146824,  39.79720235,\n",
    "        53.06293647,  66.32867059,  79.59440471,  92.86013883,\n",
    "       106.12587294, 119.39160706]))\n",
    "r.append([0.8211811138174235, 0.8870388905963102, 0.9466611489382197, 0.9672830783195512, 0.9765150434718627,\n",
    " 0.9861069105673577, 0.9893544534924807, 0.9913383583520492, 0.9909716532311351, 0.9928867374843684])\n",
    "         \n",
    "# 1 with 2 feature funs\n",
    "e.append([  0.        ,  13.26573412,  26.53146824,  39.79720235,\n",
    "        53.06293647,  66.32867059,  79.59440471,  92.86013883,\n",
    "       106.12587294, 119.39160706])\n",
    "r.append([0.6845118268989381, 0.722719751400333, 0.7703482868165009, 0.7966778040132404, 0.8108186062785037,\n",
    " 0.8206729001484621, 0.8367696882587681, 0.8285658651103602, 0.8556297079423814, 0.8323775405735958])\n",
    "         \n",
    "# 2 with 2 feature funs\n",
    "e.append([  0.        ,  13.26573412,  26.53146824,  39.79720235,\n",
    "        53.06293647,  66.32867059,  79.59440471,  92.86013883,\n",
    "       106.12587294, 119.39160706])\n",
    "r.append([0.6708768035025976, 0.7047210562639967, 0.7690384250510992, 0.8438170063896218, 0.9235323849057454,\n",
    " 0.9666735058458259, 0.9782177338180804, 0.9859253932984681, 0.9827932139553325, 0.9840350973628881])\n",
    "\n",
    "# 3 with 2 feature funs\n",
    "e.append([  0.        ,  13.26573412,  26.53146824,  39.79720235,\n",
    "        53.06293647,  66.32867059,  79.59440471,  92.86013883,\n",
    "       106.12587294, 119.39160706])\n",
    "r.append([0.6764306240228599, 0.7098225144561576, 0.7762942146743637, 0.8513295386760453, 0.9314275936777592,\n",
    " 0.9696234990919659, 0.9790405767690946, 0.9862134442853212, 0.9840045592705167, 0.9876703163434979])"
   ]
  },
  {
   "cell_type": "code",
   "execution_count": 10,
   "id": "8568f9d6-ce83-48d8-b31e-ce9f9f707ad0",
   "metadata": {},
   "outputs": [
    {
     "data": {
      "text/plain": [
       "array([  0.        ,  13.26573412,  26.53146824,  39.79720235,\n",
       "        53.06293647,  66.32867059,  79.59440471,  92.86013883,\n",
       "       106.12587294, 119.39160706])"
      ]
     },
     "execution_count": 10,
     "metadata": {},
     "output_type": "execute_result"
    }
   ],
   "source": [
    "edges"
   ]
  },
  {
   "cell_type": "code",
   "execution_count": 11,
   "id": "39e4e892-a593-4447-81ae-34847c51bf6c",
   "metadata": {},
   "outputs": [
    {
     "data": {
      "text/plain": [
       "[0.6764306240228599,\n",
       " 0.7098225144561576,\n",
       " 0.7762942146743637,\n",
       " 0.8513295386760453,\n",
       " 0.9314275936777592,\n",
       " 0.9696234990919659,\n",
       " 0.9790405767690946,\n",
       " 0.9862134442853212,\n",
       " 0.9840045592705167,\n",
       " 0.9876703163434979]"
      ]
     },
     "execution_count": 11,
     "metadata": {},
     "output_type": "execute_result"
    }
   ],
   "source": [
    "res"
   ]
  },
  {
   "cell_type": "code",
   "execution_count": 12,
   "id": "8499a443-dab9-4579-a69d-1b1a0b5b3286",
   "metadata": {},
   "outputs": [
    {
     "data": {
      "image/png": "[encoded data removed]",
      "text/plain": [
       "<Figure size 432x288 with 1 Axes>"
      ]
     },
     "metadata": {
      "needs_background": "light"
     },
     "output_type": "display_data"
    }
   ],
   "source": [
    "_, ax = plt.subplots()\n",
    "ax.plot(edges, res, c='k')\n",
    "for ie, ir in zip(e, r):\n",
    "    ax.plot(ie, ir)"
   ]
  }
 ],
 "metadata": {
  "kernelspec": {
   "display_name": "Python 3 (ipykernel)",
   "language": "python",
   "name": "python3"
  },
  "language_info": {
   "codemirror_mode": {
    "name": "ipython",
    "version": 3
   },
   "file_extension": ".py",
   "mimetype": "text/x-python",
   "name": "python",
   "nbconvert_exporter": "python",
   "pygments_lexer": "ipython3",
   "version": "3.9.12"
  }
 },
 "nbformat": 4,
 "nbformat_minor": 5
}
