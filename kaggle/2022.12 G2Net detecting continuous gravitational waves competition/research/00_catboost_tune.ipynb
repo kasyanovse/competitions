{
 "cells": [
  {
   "cell_type": "code",
   "execution_count": 1,
   "id": "7c086cf4-dacd-44f6-8d55-7c27b8f673b1",
   "metadata": {},
   "outputs": [],
   "source": [
    "from pathlib import Path\n",
    "from time import perf_counter\n",
    "import sys\n",
    "\n",
    "sys.path.insert(0, str(Path().absolute().parent))"
   ]
  },
  {
   "cell_type": "code",
   "execution_count": 2,
   "id": "e150b4ab-1731-4550-826c-14da92455e31",
   "metadata": {},
   "outputs": [],
   "source": [
    "import numpy as np\n",
    "import pandas as pd\n",
    "import optuna\n",
    "from optuna.samplers import TPESampler\n",
    "from sklearn.model_selection import cross_val_score"
   ]
  },
  {
   "cell_type": "code",
   "execution_count": 3,
   "id": "7cf9cd62-9112-4f03-a5e0-4519af97b874",
   "metadata": {},
   "outputs": [],
   "source": [
    "from settings import SETTINGS, PATH\n",
    "from catboost_approach import MyCB, TARGET_FEATURE\n",
    "from utils import read, write"
   ]
  },
  {
   "cell_type": "code",
   "execution_count": 4,
   "id": "3aa08863-91e6-4d60-88c3-e59513a74fd1",
   "metadata": {},
   "outputs": [],
   "source": [
    "# %%time\n",
    "# model = MyCB()\n",
    "# model.read_data(force=True)\n",
    "# raise ValueError"
   ]
  },
  {
   "cell_type": "code",
   "execution_count": 5,
   "id": "d23462bf-831c-402b-a6a5-6a40fb50fa37",
   "metadata": {},
   "outputs": [],
   "source": [
    "common_param = {'verbose': 0, 'random_state': SETTINGS['random_seed']}\n",
    "forbidden_cols = ['verbose', 'random_state', 'res', 'time']\n",
    "if PATH['catboost_tune_pars'].exists():\n",
    "    df = read(PATH['catboost_tune_pars'])\n",
    "else:\n",
    "    df = pd.DataFrame()\n",
    "pars = [df]\n",
    "\n",
    "model = MyCB(edge=20, **common_param)\n",
    "model.read_data()\n",
    "x, y = model.my_data\n",
    "\n",
    "def objective(trial, x=x, y=y, common_param=common_param, forbidden_cols=forbidden_cols, pars=pars):\n",
    "    t = perf_counter()\n",
    "    param = {'objective': trial.suggest_categorical('objective', ['Logloss', 'CrossEntropy']),\n",
    "             'colsample_bylevel': trial.suggest_float('colsample_bylevel', 0.01, 0.12),\n",
    "             'depth': trial.suggest_int('depth', 4, 12),\n",
    "             'boosting_type': trial.suggest_categorical('boosting_type', ['Ordered', 'Plain']),\n",
    "             'bootstrap_type': trial.suggest_categorical('bootstrap_type', ['Bayesian', 'Bernoulli', 'MVS'])}\n",
    "    param['iterations'] = trial.suggest_int('iterations', 500, 2000)\n",
    "    # param['grow_policy'] =  trial.suggest_categorical('grow_policy', ['Lossguide', 'SymmetricTree', 'Depthwise'])\n",
    "    param['leaf_estimation_backtracking'] =  trial.suggest_categorical('leaf_estimation_backtracking', ['AnyImprovement', 'No'])\n",
    "    param['l2_leaf_reg'] = trial.suggest_float('l2_leaf_reg', 0.1, 20)\n",
    "\n",
    "    if param['bootstrap_type'] == 'Bayesian':\n",
    "        param['bagging_temperature'] = trial.suggest_float('bagging_temperature', 0, 10)\n",
    "    elif param['bootstrap_type'] == 'Bernoulli':\n",
    "        param['subsample'] = trial.suggest_float('subsample', 0.1, 1)\n",
    "    trial.set_user_attr('param', param)\n",
    "    trial.set_user_attr('common_param', common_param)\n",
    "    \n",
    "    sub_df = pars[0].copy()\n",
    "    for col, val in (common_param | param).items():\n",
    "        if col not in forbidden_cols and sub_df.shape[0] > 0:\n",
    "            sub_df = sub_df[sub_df[col] == val]\n",
    "    if sub_df.shape[0] == 1:\n",
    "        print('trial was calculated earlier')\n",
    "        return np.mean(sub_df.iloc[0]['res'])\n",
    "    elif sub_df.shape[0] > 1:\n",
    "        raise ValueError('there are so many results of trials')\n",
    "    \n",
    "    model = MyCB(**(common_param | param))\n",
    "    res = cross_val_score(model, x, y, cv=3, verbose=0)\n",
    "    \n",
    "    pars[0] = pars[0].append(common_param | param | {'res': res, 'time': perf_counter() - t}, ignore_index=True)\n",
    "    print(np.mean(res), perf_counter() - t, 'seconds')\n",
    "    return np.mean(res)"
   ]
  },
  {
   "cell_type": "code",
   "execution_count": 6,
   "id": "933cca5c-09f9-49e8-a81e-82984c3499b0",
   "metadata": {},
   "outputs": [
    {
     "name": "stderr",
     "output_type": "stream",
     "text": [
      "\u001b[32m[I 2022-12-14 09:31:15,940]\u001b[0m A new study created in memory with name: no-name-5882d1e9-20c6-4a44-b8f7-f3f7869b0c72\u001b[0m\n",
      "C:\\Users\\user\\AppData\\Local\\Temp\\ipykernel_2684\\2085184799.py:45: FutureWarning: The frame.append method is deprecated and will be removed from pandas in a future version. Use pandas.concat instead.\n",
      "  pars[0] = pars[0].append(common_param | param | {'res': res, 'time': perf_counter() - t}, ignore_index=True)\n",
      "\u001b[32m[I 2022-12-14 09:31:20,831]\u001b[0m Trial 0 finished with value: 0.7246462285473741 and parameters: {'objective': 'Logloss', 'colsample_bylevel': 0.06555764042182215, 'depth': 4, 'boosting_type': 'Plain', 'bootstrap_type': 'Bernoulli', 'iterations': 593, 'leaf_estimation_backtracking': 'AnyImprovement', 'l2_leaf_reg': 1.7560305147604929, 'subsample': 0.5481518625627582}. Best is trial 0 with value: 0.7246462285473741.\u001b[0m\n"
     ]
    },
    {
     "name": "stdout",
     "output_type": "stream",
     "text": [
      "0.7246462285473741 4.8906757 seconds\n"
     ]
    },
    {
     "name": "stderr",
     "output_type": "stream",
     "text": [
      "C:\\Users\\user\\AppData\\Local\\Temp\\ipykernel_2684\\2085184799.py:45: FutureWarning: The frame.append method is deprecated and will be removed from pandas in a future version. Use pandas.concat instead.\n",
      "  pars[0] = pars[0].append(common_param | param | {'res': res, 'time': perf_counter() - t}, ignore_index=True)\n",
      "\u001b[32m[I 2022-12-14 09:31:25,394]\u001b[0m Trial 1 finished with value: 0.7055064565528957 and parameters: {'objective': 'CrossEntropy', 'colsample_bylevel': 0.016891501405372704, 'depth': 7, 'boosting_type': 'Plain', 'bootstrap_type': 'Bernoulli', 'iterations': 924, 'leaf_estimation_backtracking': 'No', 'l2_leaf_reg': 5.170529896958784, 'subsample': 0.99218113703203}. Best is trial 0 with value: 0.7246462285473741.\u001b[0m\n"
     ]
    },
    {
     "name": "stdout",
     "output_type": "stream",
     "text": [
      "0.7055064565528957 4.5629095 seconds\n"
     ]
    },
    {
     "name": "stderr",
     "output_type": "stream",
     "text": [
      "C:\\Users\\user\\AppData\\Local\\Temp\\ipykernel_2684\\2085184799.py:45: FutureWarning: The frame.append method is deprecated and will be removed from pandas in a future version. Use pandas.concat instead.\n",
      "  pars[0] = pars[0].append(common_param | param | {'res': res, 'time': perf_counter() - t}, ignore_index=True)\n",
      "\u001b[32m[I 2022-12-14 09:31:34,144]\u001b[0m Trial 2 finished with value: 0.7328341757713565 and parameters: {'objective': 'CrossEntropy', 'colsample_bylevel': 0.1003185466508871, 'depth': 8, 'boosting_type': 'Plain', 'bootstrap_type': 'Bayesian', 'iterations': 1899, 'leaf_estimation_backtracking': 'No', 'l2_leaf_reg': 18.887576755777264, 'bagging_temperature': 2.7292186064175983}. Best is trial 2 with value: 0.7328341757713565.\u001b[0m\n"
     ]
    },
    {
     "name": "stdout",
     "output_type": "stream",
     "text": [
      "0.7328341757713565 8.746155600000002 seconds\n"
     ]
    },
    {
     "name": "stderr",
     "output_type": "stream",
     "text": [
      "C:\\Users\\user\\AppData\\Local\\Temp\\ipykernel_2684\\2085184799.py:45: FutureWarning: The frame.append method is deprecated and will be removed from pandas in a future version. Use pandas.concat instead.\n",
      "  pars[0] = pars[0].append(common_param | param | {'res': res, 'time': perf_counter() - t}, ignore_index=True)\n",
      "\u001b[32m[I 2022-12-14 09:32:14,304]\u001b[0m Trial 3 finished with value: 0.7324571791086663 and parameters: {'objective': 'Logloss', 'colsample_bylevel': 0.04973734600522582, 'depth': 7, 'boosting_type': 'Ordered', 'bootstrap_type': 'Bernoulli', 'iterations': 1776, 'leaf_estimation_backtracking': 'AnyImprovement', 'l2_leaf_reg': 11.064730436366421, 'subsample': 0.20010382091180934}. Best is trial 2 with value: 0.7328341757713565.\u001b[0m\n"
     ]
    },
    {
     "name": "stdout",
     "output_type": "stream",
     "text": [
      "0.7324571791086663 40.1700525 seconds\n"
     ]
    },
    {
     "name": "stderr",
     "output_type": "stream",
     "text": [
      "C:\\Users\\user\\AppData\\Local\\Temp\\ipykernel_2684\\2085184799.py:45: FutureWarning: The frame.append method is deprecated and will be removed from pandas in a future version. Use pandas.concat instead.\n",
      "  pars[0] = pars[0].append(common_param | param | {'res': res, 'time': perf_counter() - t}, ignore_index=True)\n",
      "\u001b[32m[I 2022-12-14 09:32:29,164]\u001b[0m Trial 4 finished with value: 0.7270410445018317 and parameters: {'objective': 'Logloss', 'colsample_bylevel': 0.07019349675539045, 'depth': 12, 'boosting_type': 'Ordered', 'bootstrap_type': 'Bernoulli', 'iterations': 618, 'leaf_estimation_backtracking': 'AnyImprovement', 'l2_leaf_reg': 7.165918033108717, 'subsample': 0.9972784539231841}. Best is trial 2 with value: 0.7328341757713565.\u001b[0m\n"
     ]
    },
    {
     "name": "stdout",
     "output_type": "stream",
     "text": [
      "0.7270410445018317 14.854551800000003 seconds\n"
     ]
    },
    {
     "name": "stderr",
     "output_type": "stream",
     "text": [
      "C:\\Users\\user\\AppData\\Local\\Temp\\ipykernel_2684\\2085184799.py:45: FutureWarning: The frame.append method is deprecated and will be removed from pandas in a future version. Use pandas.concat instead.\n",
      "  pars[0] = pars[0].append(common_param | param | {'res': res, 'time': perf_counter() - t}, ignore_index=True)\n",
      "\u001b[32m[I 2022-12-14 09:32:36,946]\u001b[0m Trial 5 finished with value: 0.7311201426108767 and parameters: {'objective': 'CrossEntropy', 'colsample_bylevel': 0.04076509841584821, 'depth': 5, 'boosting_type': 'Plain', 'bootstrap_type': 'Bernoulli', 'iterations': 1621, 'leaf_estimation_backtracking': 'No', 'l2_leaf_reg': 17.206013773417308, 'subsample': 0.8799232221457207}. Best is trial 2 with value: 0.7328341757713565.\u001b[0m\n"
     ]
    },
    {
     "name": "stdout",
     "output_type": "stream",
     "text": [
      "0.7311201426108767 7.7800035000000065 seconds\n"
     ]
    },
    {
     "name": "stderr",
     "output_type": "stream",
     "text": [
      "C:\\Users\\user\\AppData\\Local\\Temp\\ipykernel_2684\\2085184799.py:45: FutureWarning: The frame.append method is deprecated and will be removed from pandas in a future version. Use pandas.concat instead.\n",
      "  pars[0] = pars[0].append(common_param | param | {'res': res, 'time': perf_counter() - t}, ignore_index=True)\n",
      "\u001b[32m[I 2022-12-14 09:32:44,837]\u001b[0m Trial 6 finished with value: 0.7326151384417238 and parameters: {'objective': 'CrossEntropy', 'colsample_bylevel': 0.05749023874666699, 'depth': 5, 'boosting_type': 'Plain', 'bootstrap_type': 'Bayesian', 'iterations': 1709, 'leaf_estimation_backtracking': 'No', 'l2_leaf_reg': 14.69679245955578, 'bagging_temperature': 3.04769230578669}. Best is trial 2 with value: 0.7328341757713565.\u001b[0m\n"
     ]
    },
    {
     "name": "stdout",
     "output_type": "stream",
     "text": [
      "0.7326151384417238 7.88221089999999 seconds\n"
     ]
    },
    {
     "name": "stderr",
     "output_type": "stream",
     "text": [
      "C:\\Users\\user\\AppData\\Local\\Temp\\ipykernel_2684\\2085184799.py:45: FutureWarning: The frame.append method is deprecated and will be removed from pandas in a future version. Use pandas.concat instead.\n",
      "  pars[0] = pars[0].append(common_param | param | {'res': res, 'time': perf_counter() - t}, ignore_index=True)\n",
      "\u001b[32m[I 2022-12-14 09:33:29,060]\u001b[0m Trial 7 finished with value: 0.7328454646116258 and parameters: {'objective': 'CrossEntropy', 'colsample_bylevel': 0.11913835416080394, 'depth': 7, 'boosting_type': 'Ordered', 'bootstrap_type': 'Bernoulli', 'iterations': 1886, 'leaf_estimation_backtracking': 'AnyImprovement', 'l2_leaf_reg': 10.929023736531542, 'subsample': 0.13308763979469157}. Best is trial 7 with value: 0.7328454646116258.\u001b[0m\n"
     ]
    },
    {
     "name": "stdout",
     "output_type": "stream",
     "text": [
      "0.7328454646116258 44.23327020000001 seconds\n"
     ]
    },
    {
     "name": "stderr",
     "output_type": "stream",
     "text": [
      "C:\\Users\\user\\AppData\\Local\\Temp\\ipykernel_2684\\2085184799.py:45: FutureWarning: The frame.append method is deprecated and will be removed from pandas in a future version. Use pandas.concat instead.\n",
      "  pars[0] = pars[0].append(common_param | param | {'res': res, 'time': perf_counter() - t}, ignore_index=True)\n",
      "\u001b[32m[I 2022-12-14 09:33:31,842]\u001b[0m Trial 8 finished with value: 0.7322275991042783 and parameters: {'objective': 'Logloss', 'colsample_bylevel': 0.11110460707649296, 'depth': 6, 'boosting_type': 'Plain', 'bootstrap_type': 'Bayesian', 'iterations': 505, 'leaf_estimation_backtracking': 'No', 'l2_leaf_reg': 6.903464640491625, 'bagging_temperature': 6.271689998649648}. Best is trial 7 with value: 0.7328454646116258.\u001b[0m\n"
     ]
    },
    {
     "name": "stdout",
     "output_type": "stream",
     "text": [
      "0.7322275991042783 2.7763183999999796 seconds\n"
     ]
    },
    {
     "name": "stderr",
     "output_type": "stream",
     "text": [
      "C:\\Users\\user\\AppData\\Local\\Temp\\ipykernel_2684\\2085184799.py:45: FutureWarning: The frame.append method is deprecated and will be removed from pandas in a future version. Use pandas.concat instead.\n",
      "  pars[0] = pars[0].append(common_param | param | {'res': res, 'time': perf_counter() - t}, ignore_index=True)\n",
      "\u001b[32m[I 2022-12-14 09:33:38,217]\u001b[0m Trial 9 finished with value: 0.7323789369548569 and parameters: {'objective': 'Logloss', 'colsample_bylevel': 0.08625555232764547, 'depth': 12, 'boosting_type': 'Plain', 'bootstrap_type': 'Bayesian', 'iterations': 1004, 'leaf_estimation_backtracking': 'AnyImprovement', 'l2_leaf_reg': 3.157383318484529, 'bagging_temperature': 1.224535528982782}. Best is trial 7 with value: 0.7328454646116258.\u001b[0m\n"
     ]
    },
    {
     "name": "stdout",
     "output_type": "stream",
     "text": [
      "0.7323789369548569 6.375907100000006 seconds\n"
     ]
    },
    {
     "name": "stderr",
     "output_type": "stream",
     "text": [
      "C:\\Users\\user\\AppData\\Local\\Temp\\ipykernel_2684\\2085184799.py:45: FutureWarning: The frame.append method is deprecated and will be removed from pandas in a future version. Use pandas.concat instead.\n",
      "  pars[0] = pars[0].append(common_param | param | {'res': res, 'time': perf_counter() - t}, ignore_index=True)\n",
      "\u001b[32m[I 2022-12-14 09:34:11,829]\u001b[0m Trial 10 finished with value: 0.7325536516649375 and parameters: {'objective': 'CrossEntropy', 'colsample_bylevel': 0.0906176808991623, 'depth': 10, 'boosting_type': 'Ordered', 'bootstrap_type': 'MVS', 'iterations': 1410, 'leaf_estimation_backtracking': 'AnyImprovement', 'l2_leaf_reg': 12.408898608625512}. Best is trial 7 with value: 0.7328454646116258.\u001b[0m\n"
     ]
    },
    {
     "name": "stdout",
     "output_type": "stream",
     "text": [
      "0.7325536516649375 33.60676809999998 seconds\n"
     ]
    },
    {
     "name": "stderr",
     "output_type": "stream",
     "text": [
      "C:\\Users\\user\\AppData\\Local\\Temp\\ipykernel_2684\\2085184799.py:45: FutureWarning: The frame.append method is deprecated and will be removed from pandas in a future version. Use pandas.concat instead.\n",
      "  pars[0] = pars[0].append(common_param | param | {'res': res, 'time': perf_counter() - t}, ignore_index=True)\n",
      "\u001b[32m[I 2022-12-14 09:34:39,159]\u001b[0m Trial 11 finished with value: 0.7326410986583441 and parameters: {'objective': 'CrossEntropy', 'colsample_bylevel': 0.11527518735020617, 'depth': 9, 'boosting_type': 'Ordered', 'bootstrap_type': 'MVS', 'iterations': 1949, 'leaf_estimation_backtracking': 'No', 'l2_leaf_reg': 19.225842506714137}. Best is trial 7 with value: 0.7328454646116258.\u001b[0m\n"
     ]
    },
    {
     "name": "stdout",
     "output_type": "stream",
     "text": [
      "0.7326410986583441 27.330731900000018 seconds\n"
     ]
    },
    {
     "name": "stderr",
     "output_type": "stream",
     "text": [
      "C:\\Users\\user\\AppData\\Local\\Temp\\ipykernel_2684\\2085184799.py:45: FutureWarning: The frame.append method is deprecated and will be removed from pandas in a future version. Use pandas.concat instead.\n",
      "  pars[0] = pars[0].append(common_param | param | {'res': res, 'time': perf_counter() - t}, ignore_index=True)\n",
      "\u001b[32m[I 2022-12-14 09:34:58,520]\u001b[0m Trial 12 finished with value: 0.7327450906345826 and parameters: {'objective': 'CrossEntropy', 'colsample_bylevel': 0.09914460890590607, 'depth': 9, 'boosting_type': 'Ordered', 'bootstrap_type': 'Bayesian', 'iterations': 1421, 'leaf_estimation_backtracking': 'No', 'l2_leaf_reg': 15.312409306527545, 'bagging_temperature': 8.6219582795203}. Best is trial 7 with value: 0.7328454646116258.\u001b[0m\n"
     ]
    },
    {
     "name": "stdout",
     "output_type": "stream",
     "text": [
      "0.7327450906345826 19.359726800000004 seconds\n"
     ]
    },
    {
     "name": "stderr",
     "output_type": "stream",
     "text": [
      "C:\\Users\\user\\AppData\\Local\\Temp\\ipykernel_2684\\2085184799.py:45: FutureWarning: The frame.append method is deprecated and will be removed from pandas in a future version. Use pandas.concat instead.\n",
      "  pars[0] = pars[0].append(common_param | param | {'res': res, 'time': perf_counter() - t}, ignore_index=True)\n",
      "\u001b[32m[I 2022-12-14 09:35:46,211]\u001b[0m Trial 13 finished with value: 0.7327217813792407 and parameters: {'objective': 'CrossEntropy', 'colsample_bylevel': 0.11926144904473308, 'depth': 8, 'boosting_type': 'Ordered', 'bootstrap_type': 'Bayesian', 'iterations': 1982, 'leaf_estimation_backtracking': 'AnyImprovement', 'l2_leaf_reg': 19.922148226986863, 'bagging_temperature': 0.5563328937742487}. Best is trial 7 with value: 0.7328454646116258.\u001b[0m\n"
     ]
    },
    {
     "name": "stdout",
     "output_type": "stream",
     "text": [
      "0.7327217813792407 47.68903240000003 seconds\n"
     ]
    },
    {
     "name": "stderr",
     "output_type": "stream",
     "text": [
      "C:\\Users\\user\\AppData\\Local\\Temp\\ipykernel_2684\\2085184799.py:45: FutureWarning: The frame.append method is deprecated and will be removed from pandas in a future version. Use pandas.concat instead.\n",
      "  pars[0] = pars[0].append(common_param | param | {'res': res, 'time': perf_counter() - t}, ignore_index=True)\n",
      "\u001b[32m[I 2022-12-14 09:36:08,135]\u001b[0m Trial 14 finished with value: 0.7326221385062143 and parameters: {'objective': 'CrossEntropy', 'colsample_bylevel': 0.10089325633078726, 'depth': 10, 'boosting_type': 'Ordered', 'bootstrap_type': 'MVS', 'iterations': 1552, 'leaf_estimation_backtracking': 'No', 'l2_leaf_reg': 10.175539676006506}. Best is trial 7 with value: 0.7328454646116258.\u001b[0m\n"
     ]
    },
    {
     "name": "stdout",
     "output_type": "stream",
     "text": [
      "0.7326221385062143 21.917829900000015 seconds\n"
     ]
    },
    {
     "name": "stderr",
     "output_type": "stream",
     "text": [
      "C:\\Users\\user\\AppData\\Local\\Temp\\ipykernel_2684\\2085184799.py:45: FutureWarning: The frame.append method is deprecated and will be removed from pandas in a future version. Use pandas.concat instead.\n",
      "  pars[0] = pars[0].append(common_param | param | {'res': res, 'time': perf_counter() - t}, ignore_index=True)\n",
      "\u001b[32m[I 2022-12-14 09:36:15,026]\u001b[0m Trial 15 finished with value: 0.7325269701155532 and parameters: {'objective': 'CrossEntropy', 'colsample_bylevel': 0.07755584155426709, 'depth': 7, 'boosting_type': 'Plain', 'bootstrap_type': 'Bayesian', 'iterations': 1141, 'leaf_estimation_backtracking': 'AnyImprovement', 'l2_leaf_reg': 13.08139077096062, 'bagging_temperature': 4.801812747718054}. Best is trial 7 with value: 0.7328454646116258.\u001b[0m\n"
     ]
    },
    {
     "name": "stdout",
     "output_type": "stream",
     "text": [
      "0.7325269701155532 6.893571699999995 seconds\n"
     ]
    },
    {
     "name": "stderr",
     "output_type": "stream",
     "text": [
      "C:\\Users\\user\\AppData\\Local\\Temp\\ipykernel_2684\\2085184799.py:45: FutureWarning: The frame.append method is deprecated and will be removed from pandas in a future version. Use pandas.concat instead.\n",
      "  pars[0] = pars[0].append(common_param | param | {'res': res, 'time': perf_counter() - t}, ignore_index=True)\n",
      "\u001b[32m[I 2022-12-14 09:36:23,792]\u001b[0m Trial 16 finished with value: 0.732865140912086 and parameters: {'objective': 'CrossEntropy', 'colsample_bylevel': 0.10291431118707994, 'depth': 8, 'boosting_type': 'Plain', 'bootstrap_type': 'Bernoulli', 'iterations': 1848, 'leaf_estimation_backtracking': 'No', 'l2_leaf_reg': 8.495989998763369, 'subsample': 0.10047797017218627}. Best is trial 16 with value: 0.732865140912086.\u001b[0m\n"
     ]
    },
    {
     "name": "stdout",
     "output_type": "stream",
     "text": [
      "0.732865140912086 8.767124499999966 seconds\n"
     ]
    },
    {
     "name": "stderr",
     "output_type": "stream",
     "text": [
      "C:\\Users\\user\\AppData\\Local\\Temp\\ipykernel_2684\\2085184799.py:45: FutureWarning: The frame.append method is deprecated and will be removed from pandas in a future version. Use pandas.concat instead.\n",
      "  pars[0] = pars[0].append(common_param | param | {'res': res, 'time': perf_counter() - t}, ignore_index=True)\n",
      "\u001b[32m[I 2022-12-14 09:37:04,484]\u001b[0m Trial 17 finished with value: 0.7328123070005264 and parameters: {'objective': 'CrossEntropy', 'colsample_bylevel': 0.08251027699883051, 'depth': 6, 'boosting_type': 'Ordered', 'bootstrap_type': 'Bernoulli', 'iterations': 1761, 'leaf_estimation_backtracking': 'AnyImprovement', 'l2_leaf_reg': 7.920702366515675, 'subsample': 0.1540694622823555}. Best is trial 16 with value: 0.732865140912086.\u001b[0m\n"
     ]
    },
    {
     "name": "stdout",
     "output_type": "stream",
     "text": [
      "0.7328123070005264 40.69108189999997 seconds\n"
     ]
    },
    {
     "name": "stderr",
     "output_type": "stream",
     "text": [
      "C:\\Users\\user\\AppData\\Local\\Temp\\ipykernel_2684\\2085184799.py:45: FutureWarning: The frame.append method is deprecated and will be removed from pandas in a future version. Use pandas.concat instead.\n",
      "  pars[0] = pars[0].append(common_param | param | {'res': res, 'time': perf_counter() - t}, ignore_index=True)\n",
      "\u001b[32m[I 2022-12-14 09:37:25,063]\u001b[0m Trial 18 finished with value: 0.7327928560814779 and parameters: {'objective': 'CrossEntropy', 'colsample_bylevel': 0.1076956992808529, 'depth': 10, 'boosting_type': 'Ordered', 'bootstrap_type': 'Bernoulli', 'iterations': 1485, 'leaf_estimation_backtracking': 'No', 'l2_leaf_reg': 8.331517255772, 'subsample': 0.3606082353400041}. Best is trial 16 with value: 0.732865140912086.\u001b[0m\n"
     ]
    },
    {
     "name": "stdout",
     "output_type": "stream",
     "text": [
      "0.7327928560814779 20.57844460000001 seconds\n"
     ]
    },
    {
     "name": "stderr",
     "output_type": "stream",
     "text": [
      "C:\\Users\\user\\AppData\\Local\\Temp\\ipykernel_2684\\2085184799.py:45: FutureWarning: The frame.append method is deprecated and will be removed from pandas in a future version. Use pandas.concat instead.\n",
      "  pars[0] = pars[0].append(common_param | param | {'res': res, 'time': perf_counter() - t}, ignore_index=True)\n",
      "\u001b[32m[I 2022-12-14 09:37:34,126]\u001b[0m Trial 19 finished with value: 0.7174682222517715 and parameters: {'objective': 'CrossEntropy', 'colsample_bylevel': 0.026520231029947237, 'depth': 8, 'boosting_type': 'Plain', 'bootstrap_type': 'Bernoulli', 'iterations': 1291, 'leaf_estimation_backtracking': 'AnyImprovement', 'l2_leaf_reg': 4.662234371208068, 'subsample': 0.1027315165350013}. Best is trial 16 with value: 0.732865140912086.\u001b[0m\n"
     ]
    },
    {
     "name": "stdout",
     "output_type": "stream",
     "text": [
      "0.7174682222517715 9.052487600000006 seconds\n"
     ]
    },
    {
     "name": "stderr",
     "output_type": "stream",
     "text": [
      "C:\\Users\\user\\AppData\\Local\\Temp\\ipykernel_2684\\2085184799.py:45: FutureWarning: The frame.append method is deprecated and will be removed from pandas in a future version. Use pandas.concat instead.\n",
      "  pars[0] = pars[0].append(common_param | param | {'res': res, 'time': perf_counter() - t}, ignore_index=True)\n",
      "\u001b[32m[I 2022-12-14 09:38:16,161]\u001b[0m Trial 20 finished with value: 0.7327252820805022 and parameters: {'objective': 'CrossEntropy', 'colsample_bylevel': 0.09059177425552511, 'depth': 6, 'boosting_type': 'Ordered', 'bootstrap_type': 'Bernoulli', 'iterations': 1783, 'leaf_estimation_backtracking': 'AnyImprovement', 'l2_leaf_reg': 9.573648814373392, 'subsample': 0.36590001261334865}. Best is trial 16 with value: 0.732865140912086.\u001b[0m\n"
     ]
    },
    {
     "name": "stdout",
     "output_type": "stream",
     "text": [
      "0.7327252820805022 42.04235669999997 seconds\n"
     ]
    },
    {
     "name": "stderr",
     "output_type": "stream",
     "text": [
      "C:\\Users\\user\\AppData\\Local\\Temp\\ipykernel_2684\\2085184799.py:45: FutureWarning: The frame.append method is deprecated and will be removed from pandas in a future version. Use pandas.concat instead.\n",
      "  pars[0] = pars[0].append(common_param | param | {'res': res, 'time': perf_counter() - t}, ignore_index=True)\n",
      "\u001b[32m[I 2022-12-14 09:38:25,287]\u001b[0m Trial 21 finished with value: 0.7328243171926765 and parameters: {'objective': 'CrossEntropy', 'colsample_bylevel': 0.1009928833298564, 'depth': 9, 'boosting_type': 'Plain', 'bootstrap_type': 'Bernoulli', 'iterations': 1905, 'leaf_estimation_backtracking': 'No', 'l2_leaf_reg': 17.21928460721419, 'subsample': 0.36843466311632644}. Best is trial 16 with value: 0.732865140912086.\u001b[0m\n"
     ]
    },
    {
     "name": "stdout",
     "output_type": "stream",
     "text": [
      "0.7328243171926765 9.11146180000003 seconds\n"
     ]
    },
    {
     "name": "stderr",
     "output_type": "stream",
     "text": [
      "C:\\Users\\user\\AppData\\Local\\Temp\\ipykernel_2684\\2085184799.py:45: FutureWarning: The frame.append method is deprecated and will be removed from pandas in a future version. Use pandas.concat instead.\n",
      "  pars[0] = pars[0].append(common_param | param | {'res': res, 'time': perf_counter() - t}, ignore_index=True)\n",
      "\u001b[32m[I 2022-12-14 09:38:33,959]\u001b[0m Trial 22 finished with value: 0.7328158641416008 and parameters: {'objective': 'CrossEntropy', 'colsample_bylevel': 0.11944781564290541, 'depth': 8, 'boosting_type': 'Plain', 'bootstrap_type': 'Bayesian', 'iterations': 1862, 'leaf_estimation_backtracking': 'No', 'l2_leaf_reg': 0.7702920706608207, 'bagging_temperature': 3.694764183273564}. Best is trial 16 with value: 0.732865140912086.\u001b[0m\n"
     ]
    },
    {
     "name": "stdout",
     "output_type": "stream",
     "text": [
      "0.7328158641416008 8.677301 seconds\n"
     ]
    },
    {
     "name": "stderr",
     "output_type": "stream",
     "text": [
      "C:\\Users\\user\\AppData\\Local\\Temp\\ipykernel_2684\\2085184799.py:45: FutureWarning: The frame.append method is deprecated and will be removed from pandas in a future version. Use pandas.concat instead.\n",
      "  pars[0] = pars[0].append(common_param | param | {'res': res, 'time': perf_counter() - t}, ignore_index=True)\n",
      "\u001b[32m[I 2022-12-14 09:38:42,288]\u001b[0m Trial 23 finished with value: 0.7324750747868155 and parameters: {'objective': 'CrossEntropy', 'colsample_bylevel': 0.10668698248707179, 'depth': 8, 'boosting_type': 'Plain', 'bootstrap_type': 'MVS', 'iterations': 1618, 'leaf_estimation_backtracking': 'No', 'l2_leaf_reg': 11.934295817490902}. Best is trial 16 with value: 0.732865140912086.\u001b[0m\n"
     ]
    },
    {
     "name": "stdout",
     "output_type": "stream",
     "text": [
      "0.7324750747868155 8.333500200000003 seconds\n"
     ]
    },
    {
     "name": "stderr",
     "output_type": "stream",
     "text": [
      "C:\\Users\\user\\AppData\\Local\\Temp\\ipykernel_2684\\2085184799.py:45: FutureWarning: The frame.append method is deprecated and will be removed from pandas in a future version. Use pandas.concat instead.\n",
      "  pars[0] = pars[0].append(common_param | param | {'res': res, 'time': perf_counter() - t}, ignore_index=True)\n",
      "\u001b[32m[I 2022-12-14 09:38:51,007]\u001b[0m Trial 24 finished with value: 0.7327440399655938 and parameters: {'objective': 'CrossEntropy', 'colsample_bylevel': 0.0956387016154899, 'depth': 7, 'boosting_type': 'Plain', 'bootstrap_type': 'Bernoulli', 'iterations': 1853, 'leaf_estimation_backtracking': 'No', 'l2_leaf_reg': 13.85556447066869, 'subsample': 0.6642398689932266}. Best is trial 16 with value: 0.732865140912086.\u001b[0m\n"
     ]
    },
    {
     "name": "stdout",
     "output_type": "stream",
     "text": [
      "0.7327440399655938 8.711265400000002 seconds\n"
     ]
    },
    {
     "name": "stderr",
     "output_type": "stream",
     "text": [
      "C:\\Users\\user\\AppData\\Local\\Temp\\ipykernel_2684\\2085184799.py:45: FutureWarning: The frame.append method is deprecated and will be removed from pandas in a future version. Use pandas.concat instead.\n",
      "  pars[0] = pars[0].append(common_param | param | {'res': res, 'time': perf_counter() - t}, ignore_index=True)\n",
      "\u001b[32m[I 2022-12-14 09:38:58,727]\u001b[0m Trial 25 finished with value: 0.7327559731711007 and parameters: {'objective': 'CrossEntropy', 'colsample_bylevel': 0.07406406462782684, 'depth': 9, 'boosting_type': 'Plain', 'bootstrap_type': 'Bayesian', 'iterations': 1667, 'leaf_estimation_backtracking': 'No', 'l2_leaf_reg': 16.6911702530247, 'bagging_temperature': 6.952122475139528}. Best is trial 16 with value: 0.732865140912086.\u001b[0m\n"
     ]
    },
    {
     "name": "stdout",
     "output_type": "stream",
     "text": [
      "0.7327559731711007 7.712989999999991 seconds\n"
     ]
    },
    {
     "name": "stderr",
     "output_type": "stream",
     "text": [
      "C:\\Users\\user\\AppData\\Local\\Temp\\ipykernel_2684\\2085184799.py:45: FutureWarning: The frame.append method is deprecated and will be removed from pandas in a future version. Use pandas.concat instead.\n",
      "  pars[0] = pars[0].append(common_param | param | {'res': res, 'time': perf_counter() - t}, ignore_index=True)\n",
      "\u001b[32m[I 2022-12-14 09:39:08,071]\u001b[0m Trial 26 finished with value: 0.7328795263180226 and parameters: {'objective': 'Logloss', 'colsample_bylevel': 0.1090925150137877, 'depth': 11, 'boosting_type': 'Plain', 'bootstrap_type': 'Bernoulli', 'iterations': 1973, 'leaf_estimation_backtracking': 'No', 'l2_leaf_reg': 5.508772568418337, 'subsample': 0.2420444046536073}. Best is trial 26 with value: 0.7328795263180226.\u001b[0m\n"
     ]
    },
    {
     "name": "stdout",
     "output_type": "stream",
     "text": [
      "0.7328795263180226 9.35229609999999 seconds\n"
     ]
    },
    {
     "name": "stderr",
     "output_type": "stream",
     "text": [
      "C:\\Users\\user\\AppData\\Local\\Temp\\ipykernel_2684\\2085184799.py:45: FutureWarning: The frame.append method is deprecated and will be removed from pandas in a future version. Use pandas.concat instead.\n",
      "  pars[0] = pars[0].append(common_param | param | {'res': res, 'time': perf_counter() - t}, ignore_index=True)\n",
      "\u001b[32m[I 2022-12-14 09:39:14,478]\u001b[0m Trial 27 finished with value: 0.7327643792305283 and parameters: {'objective': 'Logloss', 'colsample_bylevel': 0.1095084922432378, 'depth': 11, 'boosting_type': 'Plain', 'bootstrap_type': 'Bernoulli', 'iterations': 1293, 'leaf_estimation_backtracking': 'No', 'l2_leaf_reg': 5.652582082801911, 'subsample': 0.23031613087811892}. Best is trial 26 with value: 0.7328795263180226.\u001b[0m\n"
     ]
    },
    {
     "name": "stdout",
     "output_type": "stream",
     "text": [
      "0.7327643792305283 6.398884600000031 seconds\n"
     ]
    },
    {
     "name": "stderr",
     "output_type": "stream",
     "text": [
      "C:\\Users\\user\\AppData\\Local\\Temp\\ipykernel_2684\\2085184799.py:45: FutureWarning: The frame.append method is deprecated and will be removed from pandas in a future version. Use pandas.concat instead.\n",
      "  pars[0] = pars[0].append(common_param | param | {'res': res, 'time': perf_counter() - t}, ignore_index=True)\n",
      "\u001b[32m[I 2022-12-14 09:40:01,201]\u001b[0m Trial 28 finished with value: 0.7328135553476512 and parameters: {'objective': 'Logloss', 'colsample_bylevel': 0.10939395703338067, 'depth': 11, 'boosting_type': 'Ordered', 'bootstrap_type': 'Bernoulli', 'iterations': 1959, 'leaf_estimation_backtracking': 'AnyImprovement', 'l2_leaf_reg': 9.58670753683794, 'subsample': 0.27816844547436476}. Best is trial 26 with value: 0.7328795263180226.\u001b[0m\n"
     ]
    },
    {
     "name": "stdout",
     "output_type": "stream",
     "text": [
      "0.7328135553476512 46.72439920000005 seconds\n"
     ]
    },
    {
     "name": "stderr",
     "output_type": "stream",
     "text": [
      "C:\\Users\\user\\AppData\\Local\\Temp\\ipykernel_2684\\2085184799.py:45: FutureWarning: The frame.append method is deprecated and will be removed from pandas in a future version. Use pandas.concat instead.\n",
      "  pars[0] = pars[0].append(common_param | param | {'res': res, 'time': perf_counter() - t}, ignore_index=True)\n",
      "\u001b[32m[I 2022-12-14 09:40:13,592]\u001b[0m Trial 29 finished with value: 0.7327662237498497 and parameters: {'objective': 'Logloss', 'colsample_bylevel': 0.06172517685819366, 'depth': 4, 'boosting_type': 'Plain', 'bootstrap_type': 'Bernoulli', 'iterations': 1999, 'leaf_estimation_backtracking': 'AnyImprovement', 'l2_leaf_reg': 1.9120528628244138, 'subsample': 0.1013049446476838}. Best is trial 26 with value: 0.7328795263180226.\u001b[0m\n"
     ]
    },
    {
     "name": "stdout",
     "output_type": "stream",
     "text": [
      "0.7327662237498497 12.397252399999957 seconds\n"
     ]
    },
    {
     "name": "stderr",
     "output_type": "stream",
     "text": [
      "C:\\Users\\user\\AppData\\Local\\Temp\\ipykernel_2684\\2085184799.py:45: FutureWarning: The frame.append method is deprecated and will be removed from pandas in a future version. Use pandas.concat instead.\n",
      "  pars[0] = pars[0].append(common_param | param | {'res': res, 'time': perf_counter() - t}, ignore_index=True)\n",
      "\u001b[32m[I 2022-12-14 09:40:17,718]\u001b[0m Trial 30 finished with value: 0.731508565031238 and parameters: {'objective': 'Logloss', 'colsample_bylevel': 0.0934288598832362, 'depth': 11, 'boosting_type': 'Plain', 'bootstrap_type': 'Bernoulli', 'iterations': 785, 'leaf_estimation_backtracking': 'No', 'l2_leaf_reg': 3.4776542224791904, 'subsample': 0.49867077090957035}. Best is trial 26 with value: 0.7328795263180226.\u001b[0m\n"
     ]
    },
    {
     "name": "stdout",
     "output_type": "stream",
     "text": [
      "0.731508565031238 4.115895200000068 seconds\n"
     ]
    },
    {
     "name": "stderr",
     "output_type": "stream",
     "text": [
      "C:\\Users\\user\\AppData\\Local\\Temp\\ipykernel_2684\\2085184799.py:45: FutureWarning: The frame.append method is deprecated and will be removed from pandas in a future version. Use pandas.concat instead.\n",
      "  pars[0] = pars[0].append(common_param | param | {'res': res, 'time': perf_counter() - t}, ignore_index=True)\n",
      "\u001b[32m[I 2022-12-14 09:40:26,359]\u001b[0m Trial 31 finished with value: 0.7327334549937506 and parameters: {'objective': 'Logloss', 'colsample_bylevel': 0.10319600983748084, 'depth': 7, 'boosting_type': 'Plain', 'bootstrap_type': 'Bernoulli', 'iterations': 1826, 'leaf_estimation_backtracking': 'No', 'l2_leaf_reg': 6.791978505191135, 'subsample': 0.299394424709979}. Best is trial 26 with value: 0.7328795263180226.\u001b[0m\n"
     ]
    },
    {
     "name": "stdout",
     "output_type": "stream",
     "text": [
      "0.7327334549937506 8.633885299999974 seconds\n"
     ]
    },
    {
     "name": "stderr",
     "output_type": "stream",
     "text": [
      "C:\\Users\\user\\AppData\\Local\\Temp\\ipykernel_2684\\2085184799.py:45: FutureWarning: The frame.append method is deprecated and will be removed from pandas in a future version. Use pandas.concat instead.\n",
      "  pars[0] = pars[0].append(common_param | param | {'res': res, 'time': perf_counter() - t}, ignore_index=True)\n",
      "\u001b[32m[I 2022-12-14 09:40:35,281]\u001b[0m Trial 32 finished with value: 0.7328411684678207 and parameters: {'objective': 'Logloss', 'colsample_bylevel': 0.11534259948370332, 'depth': 8, 'boosting_type': 'Plain', 'bootstrap_type': 'Bernoulli', 'iterations': 1863, 'leaf_estimation_backtracking': 'No', 'l2_leaf_reg': 5.576678753182881, 'subsample': 0.1944786119508148}. Best is trial 26 with value: 0.7328795263180226.\u001b[0m\n"
     ]
    },
    {
     "name": "stdout",
     "output_type": "stream",
     "text": [
      "0.7328411684678207 8.920409399999926 seconds\n"
     ]
    },
    {
     "name": "stderr",
     "output_type": "stream",
     "text": [
      "C:\\Users\\user\\AppData\\Local\\Temp\\ipykernel_2684\\2085184799.py:45: FutureWarning: The frame.append method is deprecated and will be removed from pandas in a future version. Use pandas.concat instead.\n",
      "  pars[0] = pars[0].append(common_param | param | {'res': res, 'time': perf_counter() - t}, ignore_index=True)\n",
      "\u001b[32m[I 2022-12-14 09:40:43,548]\u001b[0m Trial 33 finished with value: 0.732800174887895 and parameters: {'objective': 'Logloss', 'colsample_bylevel': 0.11405994722388837, 'depth': 9, 'boosting_type': 'Plain', 'bootstrap_type': 'Bernoulli', 'iterations': 1709, 'leaf_estimation_backtracking': 'No', 'l2_leaf_reg': 5.60354010059131, 'subsample': 0.18420329454954953}. Best is trial 26 with value: 0.7328795263180226.\u001b[0m\n"
     ]
    },
    {
     "name": "stdout",
     "output_type": "stream",
     "text": [
      "0.732800174887895 8.266830899999945 seconds\n"
     ]
    },
    {
     "name": "stderr",
     "output_type": "stream",
     "text": [
      "C:\\Users\\user\\AppData\\Local\\Temp\\ipykernel_2684\\2085184799.py:45: FutureWarning: The frame.append method is deprecated and will be removed from pandas in a future version. Use pandas.concat instead.\n",
      "  pars[0] = pars[0].append(common_param | param | {'res': res, 'time': perf_counter() - t}, ignore_index=True)\n",
      "\u001b[32m[I 2022-12-14 09:40:52,220]\u001b[0m Trial 34 finished with value: 0.7328627967954339 and parameters: {'objective': 'Logloss', 'colsample_bylevel': 0.1186282305421266, 'depth': 7, 'boosting_type': 'Plain', 'bootstrap_type': 'Bernoulli', 'iterations': 1866, 'leaf_estimation_backtracking': 'No', 'l2_leaf_reg': 4.135241224159879, 'subsample': 0.1004299577393421}. Best is trial 26 with value: 0.7328795263180226.\u001b[0m\n"
     ]
    },
    {
     "name": "stdout",
     "output_type": "stream",
     "text": [
      "0.7328627967954339 8.678917799999908 seconds\n"
     ]
    },
    {
     "name": "stderr",
     "output_type": "stream",
     "text": [
      "C:\\Users\\user\\AppData\\Local\\Temp\\ipykernel_2684\\2085184799.py:45: FutureWarning: The frame.append method is deprecated and will be removed from pandas in a future version. Use pandas.concat instead.\n",
      "  pars[0] = pars[0].append(common_param | param | {'res': res, 'time': perf_counter() - t}, ignore_index=True)\n",
      "\u001b[32m[I 2022-12-14 09:41:00,658]\u001b[0m Trial 35 finished with value: 0.7327932876488076 and parameters: {'objective': 'Logloss', 'colsample_bylevel': 0.10513794544042268, 'depth': 6, 'boosting_type': 'Plain', 'bootstrap_type': 'Bernoulli', 'iterations': 1774, 'leaf_estimation_backtracking': 'No', 'l2_leaf_reg': 3.5389982021692283, 'subsample': 0.11837320827893588}. Best is trial 26 with value: 0.7328795263180226.\u001b[0m\n"
     ]
    },
    {
     "name": "stdout",
     "output_type": "stream",
     "text": [
      "0.7327932876488076 8.434998500000006 seconds\n"
     ]
    },
    {
     "name": "stderr",
     "output_type": "stream",
     "text": [
      "C:\\Users\\user\\AppData\\Local\\Temp\\ipykernel_2684\\2085184799.py:45: FutureWarning: The frame.append method is deprecated and will be removed from pandas in a future version. Use pandas.concat instead.\n",
      "  pars[0] = pars[0].append(common_param | param | {'res': res, 'time': perf_counter() - t}, ignore_index=True)\n",
      "\u001b[32m[I 2022-12-14 09:41:08,300]\u001b[0m Trial 36 finished with value: 0.7328116894844255 and parameters: {'objective': 'Logloss', 'colsample_bylevel': 0.11911220369295102, 'depth': 5, 'boosting_type': 'Plain', 'bootstrap_type': 'Bernoulli', 'iterations': 1574, 'leaf_estimation_backtracking': 'No', 'l2_leaf_reg': 9.003078317016504, 'subsample': 0.2652013843974479}. Best is trial 26 with value: 0.7328795263180226.\u001b[0m\n"
     ]
    },
    {
     "name": "stdout",
     "output_type": "stream",
     "text": [
      "0.7328116894844255 7.646644499999979 seconds\n"
     ]
    },
    {
     "name": "stderr",
     "output_type": "stream",
     "text": [
      "C:\\Users\\user\\AppData\\Local\\Temp\\ipykernel_2684\\2085184799.py:45: FutureWarning: The frame.append method is deprecated and will be removed from pandas in a future version. Use pandas.concat instead.\n",
      "  pars[0] = pars[0].append(common_param | param | {'res': res, 'time': perf_counter() - t}, ignore_index=True)\n",
      "\u001b[32m[I 2022-12-14 09:41:16,238]\u001b[0m Trial 37 finished with value: 0.7173870955157798 and parameters: {'objective': 'Logloss', 'colsample_bylevel': 0.010575007120746105, 'depth': 7, 'boosting_type': 'Plain', 'bootstrap_type': 'Bernoulli', 'iterations': 1707, 'leaf_estimation_backtracking': 'No', 'l2_leaf_reg': 11.033818689451607, 'subsample': 0.17064325682748682}. Best is trial 26 with value: 0.7328795263180226.\u001b[0m\n"
     ]
    },
    {
     "name": "stdout",
     "output_type": "stream",
     "text": [
      "0.7173870955157798 7.934722700000066 seconds\n"
     ]
    },
    {
     "name": "stderr",
     "output_type": "stream",
     "text": [
      "C:\\Users\\user\\AppData\\Local\\Temp\\ipykernel_2684\\2085184799.py:45: FutureWarning: The frame.append method is deprecated and will be removed from pandas in a future version. Use pandas.concat instead.\n",
      "  pars[0] = pars[0].append(common_param | param | {'res': res, 'time': perf_counter() - t}, ignore_index=True)\n",
      "\u001b[32m[I 2022-12-14 09:42:00,757]\u001b[0m Trial 38 finished with value: 0.7314524112509547 and parameters: {'objective': 'Logloss', 'colsample_bylevel': 0.05020502666741517, 'depth': 7, 'boosting_type': 'Ordered', 'bootstrap_type': 'Bernoulli', 'iterations': 1911, 'leaf_estimation_backtracking': 'AnyImprovement', 'l2_leaf_reg': 2.4748097679081127, 'subsample': 0.6797090879272758}. Best is trial 26 with value: 0.7328795263180226.\u001b[0m\n"
     ]
    },
    {
     "name": "stdout",
     "output_type": "stream",
     "text": [
      "0.7314524112509547 44.5136389999999 seconds\n"
     ]
    },
    {
     "name": "stderr",
     "output_type": "stream",
     "text": [
      "C:\\Users\\user\\AppData\\Local\\Temp\\ipykernel_2684\\2085184799.py:45: FutureWarning: The frame.append method is deprecated and will be removed from pandas in a future version. Use pandas.concat instead.\n",
      "  pars[0] = pars[0].append(common_param | param | {'res': res, 'time': perf_counter() - t}, ignore_index=True)\n",
      "\u001b[32m[I 2022-12-14 09:42:06,398]\u001b[0m Trial 39 finished with value: 0.7326248342988118 and parameters: {'objective': 'Logloss', 'colsample_bylevel': 0.09570116342562732, 'depth': 6, 'boosting_type': 'Plain', 'bootstrap_type': 'Bernoulli', 'iterations': 1155, 'leaf_estimation_backtracking': 'No', 'l2_leaf_reg': 0.6225550226720102, 'subsample': 0.10169516150936297}. Best is trial 26 with value: 0.7328795263180226.\u001b[0m\n"
     ]
    },
    {
     "name": "stdout",
     "output_type": "stream",
     "text": [
      "0.7326248342988118 5.641899399999943 seconds\n"
     ]
    },
    {
     "name": "stderr",
     "output_type": "stream",
     "text": [
      "C:\\Users\\user\\AppData\\Local\\Temp\\ipykernel_2684\\2085184799.py:45: FutureWarning: The frame.append method is deprecated and will be removed from pandas in a future version. Use pandas.concat instead.\n",
      "  pars[0] = pars[0].append(common_param | param | {'res': res, 'time': perf_counter() - t}, ignore_index=True)\n",
      "\u001b[32m[I 2022-12-14 09:42:16,649]\u001b[0m Trial 40 finished with value: 0.7326539220505047 and parameters: {'objective': 'Logloss', 'colsample_bylevel': 0.11289845702900027, 'depth': 12, 'boosting_type': 'Plain', 'bootstrap_type': 'MVS', 'iterations': 1507, 'leaf_estimation_backtracking': 'AnyImprovement', 'l2_leaf_reg': 4.25432655522117}. Best is trial 26 with value: 0.7328795263180226.\u001b[0m\n"
     ]
    },
    {
     "name": "stdout",
     "output_type": "stream",
     "text": [
      "0.7326539220505047 10.238129100000037 seconds\n"
     ]
    },
    {
     "name": "stderr",
     "output_type": "stream",
     "text": [
      "C:\\Users\\user\\AppData\\Local\\Temp\\ipykernel_2684\\2085184799.py:45: FutureWarning: The frame.append method is deprecated and will be removed from pandas in a future version. Use pandas.concat instead.\n",
      "  pars[0] = pars[0].append(common_param | param | {'res': res, 'time': perf_counter() - t}, ignore_index=True)\n",
      "\u001b[32m[I 2022-12-14 09:42:25,462]\u001b[0m Trial 41 finished with value: 0.7328230051933087 and parameters: {'objective': 'Logloss', 'colsample_bylevel': 0.11409525247175821, 'depth': 8, 'boosting_type': 'Plain', 'bootstrap_type': 'Bernoulli', 'iterations': 1848, 'leaf_estimation_backtracking': 'No', 'l2_leaf_reg': 6.463123806414403, 'subsample': 0.18814290914485837}. Best is trial 26 with value: 0.7328795263180226.\u001b[0m\n"
     ]
    },
    {
     "name": "stdout",
     "output_type": "stream",
     "text": [
      "0.7328230051933087 8.822174099999984 seconds\n"
     ]
    },
    {
     "name": "stderr",
     "output_type": "stream",
     "text": [
      "C:\\Users\\user\\AppData\\Local\\Temp\\ipykernel_2684\\2085184799.py:45: FutureWarning: The frame.append method is deprecated and will be removed from pandas in a future version. Use pandas.concat instead.\n",
      "  pars[0] = pars[0].append(common_param | param | {'res': res, 'time': perf_counter() - t}, ignore_index=True)\n",
      "\u001b[32m[I 2022-12-14 09:42:34,494]\u001b[0m Trial 42 finished with value: 0.7328433836190381 and parameters: {'objective': 'Logloss', 'colsample_bylevel': 0.11909478169878718, 'depth': 8, 'boosting_type': 'Plain', 'bootstrap_type': 'Bernoulli', 'iterations': 1897, 'leaf_estimation_backtracking': 'No', 'l2_leaf_reg': 8.12317831675054, 'subsample': 0.22736667304372227}. Best is trial 26 with value: 0.7328795263180226.\u001b[0m\n"
     ]
    },
    {
     "name": "stdout",
     "output_type": "stream",
     "text": [
      "0.7328433836190381 9.020850099999961 seconds\n"
     ]
    },
    {
     "name": "stderr",
     "output_type": "stream",
     "text": [
      "C:\\Users\\user\\AppData\\Local\\Temp\\ipykernel_2684\\2085184799.py:45: FutureWarning: The frame.append method is deprecated and will be removed from pandas in a future version. Use pandas.concat instead.\n",
      "  pars[0] = pars[0].append(common_param | param | {'res': res, 'time': perf_counter() - t}, ignore_index=True)\n",
      "\u001b[32m[I 2022-12-14 09:42:43,823]\u001b[0m Trial 43 finished with value: 0.7328156675276 and parameters: {'objective': 'Logloss', 'colsample_bylevel': 0.11997420465259417, 'depth': 7, 'boosting_type': 'Plain', 'bootstrap_type': 'Bernoulli', 'iterations': 2000, 'leaf_estimation_backtracking': 'No', 'l2_leaf_reg': 8.19968298729639, 'subsample': 0.2784748983612117}. Best is trial 26 with value: 0.7328795263180226.\u001b[0m\n"
     ]
    },
    {
     "name": "stdout",
     "output_type": "stream",
     "text": [
      "0.7328156675276 9.33057580000002 seconds\n"
     ]
    },
    {
     "name": "stderr",
     "output_type": "stream",
     "text": [
      "C:\\Users\\user\\AppData\\Local\\Temp\\ipykernel_2684\\2085184799.py:45: FutureWarning: The frame.append method is deprecated and will be removed from pandas in a future version. Use pandas.concat instead.\n",
      "  pars[0] = pars[0].append(common_param | param | {'res': res, 'time': perf_counter() - t}, ignore_index=True)\n",
      "\u001b[32m[I 2022-12-14 09:42:52,339]\u001b[0m Trial 44 finished with value: 0.7328370480664802 and parameters: {'objective': 'Logloss', 'colsample_bylevel': 0.1047650808393753, 'depth': 8, 'boosting_type': 'Plain', 'bootstrap_type': 'Bernoulli', 'iterations': 1782, 'leaf_estimation_backtracking': 'No', 'l2_leaf_reg': 10.673249084605578, 'subsample': 0.433305061753147}. Best is trial 26 with value: 0.7328795263180226.\u001b[0m\n"
     ]
    },
    {
     "name": "stdout",
     "output_type": "stream",
     "text": [
      "0.7328370480664802 8.5225425000001 seconds\n"
     ]
    },
    {
     "name": "stderr",
     "output_type": "stream",
     "text": [
      "C:\\Users\\user\\AppData\\Local\\Temp\\ipykernel_2684\\2085184799.py:45: FutureWarning: The frame.append method is deprecated and will be removed from pandas in a future version. Use pandas.concat instead.\n",
      "  pars[0] = pars[0].append(common_param | param | {'res': res, 'time': perf_counter() - t}, ignore_index=True)\n",
      "\u001b[32m[I 2022-12-14 09:43:18,232]\u001b[0m Trial 45 finished with value: 0.731199243376366 and parameters: {'objective': 'Logloss', 'colsample_bylevel': 0.0350488918500968, 'depth': 9, 'boosting_type': 'Ordered', 'bootstrap_type': 'Bernoulli', 'iterations': 1909, 'leaf_estimation_backtracking': 'No', 'l2_leaf_reg': 7.641106407994248, 'subsample': 0.2362040322338851}. Best is trial 26 with value: 0.7328795263180226.\u001b[0m\n"
     ]
    },
    {
     "name": "stdout",
     "output_type": "stream",
     "text": [
      "0.731199243376366 25.889197699999954 seconds\n"
     ]
    },
    {
     "name": "stderr",
     "output_type": "stream",
     "text": [
      "C:\\Users\\user\\AppData\\Local\\Temp\\ipykernel_2684\\2085184799.py:45: FutureWarning: The frame.append method is deprecated and will be removed from pandas in a future version. Use pandas.concat instead.\n",
      "  pars[0] = pars[0].append(common_param | param | {'res': res, 'time': perf_counter() - t}, ignore_index=True)\n",
      "\u001b[32m[I 2022-12-14 09:43:26,186]\u001b[0m Trial 46 finished with value: 0.732766438690474 and parameters: {'objective': 'Logloss', 'colsample_bylevel': 0.08607564898023327, 'depth': 7, 'boosting_type': 'Plain', 'bootstrap_type': 'Bernoulli', 'iterations': 1683, 'leaf_estimation_backtracking': 'No', 'l2_leaf_reg': 11.827899192144988, 'subsample': 0.15506112775745623}. Best is trial 26 with value: 0.7328795263180226.\u001b[0m\n"
     ]
    },
    {
     "name": "stdout",
     "output_type": "stream",
     "text": [
      "0.732766438690474 7.948442699999987 seconds\n"
     ]
    },
    {
     "name": "stderr",
     "output_type": "stream",
     "text": [
      "C:\\Users\\user\\AppData\\Local\\Temp\\ipykernel_2684\\2085184799.py:45: FutureWarning: The frame.append method is deprecated and will be removed from pandas in a future version. Use pandas.concat instead.\n",
      "  pars[0] = pars[0].append(common_param | param | {'res': res, 'time': perf_counter() - t}, ignore_index=True)\n",
      "\u001b[32m[I 2022-12-14 09:43:48,969]\u001b[0m Trial 47 finished with value: 0.7326303059474973 and parameters: {'objective': 'CrossEntropy', 'colsample_bylevel': 0.11192191930679694, 'depth': 10, 'boosting_type': 'Ordered', 'bootstrap_type': 'MVS', 'iterations': 1614, 'leaf_estimation_backtracking': 'No', 'l2_leaf_reg': 8.63834619200758}. Best is trial 26 with value: 0.7328795263180226.\u001b[0m\n"
     ]
    },
    {
     "name": "stdout",
     "output_type": "stream",
     "text": [
      "0.7326303059474973 22.779923600000075 seconds\n"
     ]
    },
    {
     "name": "stderr",
     "output_type": "stream",
     "text": [
      "C:\\Users\\user\\AppData\\Local\\Temp\\ipykernel_2684\\2085184799.py:45: FutureWarning: The frame.append method is deprecated and will be removed from pandas in a future version. Use pandas.concat instead.\n",
      "  pars[0] = pars[0].append(common_param | param | {'res': res, 'time': perf_counter() - t}, ignore_index=True)\n",
      "\u001b[32m[I 2022-12-14 09:44:02,579]\u001b[0m Trial 48 finished with value: 0.7328027058123666 and parameters: {'objective': 'Logloss', 'colsample_bylevel': 0.09968667564038122, 'depth': 5, 'boosting_type': 'Plain', 'bootstrap_type': 'Bernoulli', 'iterations': 1925, 'leaf_estimation_backtracking': 'AnyImprovement', 'l2_leaf_reg': 6.102927360643981, 'subsample': 0.3301054427485075}. Best is trial 26 with value: 0.7328795263180226.\u001b[0m\n"
     ]
    },
    {
     "name": "stdout",
     "output_type": "stream",
     "text": [
      "0.7328027058123666 13.605247299999974 seconds\n"
     ]
    },
    {
     "name": "stderr",
     "output_type": "stream",
     "text": [
      "C:\\Users\\user\\AppData\\Local\\Temp\\ipykernel_2684\\2085184799.py:45: FutureWarning: The frame.append method is deprecated and will be removed from pandas in a future version. Use pandas.concat instead.\n",
      "  pars[0] = pars[0].append(common_param | param | {'res': res, 'time': perf_counter() - t}, ignore_index=True)\n",
      "\u001b[32m[I 2022-12-14 09:44:14,689]\u001b[0m Trial 49 finished with value: 0.7323431763265927 and parameters: {'objective': 'CrossEntropy', 'colsample_bylevel': 0.11508986862981013, 'depth': 6, 'boosting_type': 'Ordered', 'bootstrap_type': 'Bernoulli', 'iterations': 857, 'leaf_estimation_backtracking': 'No', 'l2_leaf_reg': 4.165322481420521, 'subsample': 0.22558917807845535}. Best is trial 26 with value: 0.7328795263180226.\u001b[0m\n"
     ]
    },
    {
     "name": "stdout",
     "output_type": "stream",
     "text": [
      "0.7323431763265927 12.119111499999917 seconds\n"
     ]
    },
    {
     "name": "stderr",
     "output_type": "stream",
     "text": [
      "C:\\Users\\user\\AppData\\Local\\Temp\\ipykernel_2684\\2085184799.py:45: FutureWarning: The frame.append method is deprecated and will be removed from pandas in a future version. Use pandas.concat instead.\n",
      "  pars[0] = pars[0].append(common_param | param | {'res': res, 'time': perf_counter() - t}, ignore_index=True)\n",
      "\u001b[32m[I 2022-12-14 09:44:27,659]\u001b[0m Trial 50 finished with value: 0.7328150644742091 and parameters: {'objective': 'CrossEntropy', 'colsample_bylevel': 0.107621139397927, 'depth': 9, 'boosting_type': 'Plain', 'bootstrap_type': 'Bernoulli', 'iterations': 1751, 'leaf_estimation_backtracking': 'AnyImprovement', 'l2_leaf_reg': 7.366863482921499, 'subsample': 0.148789648995875}. Best is trial 26 with value: 0.7328795263180226.\u001b[0m\n"
     ]
    },
    {
     "name": "stdout",
     "output_type": "stream",
     "text": [
      "0.7328150644742091 12.96099490000006 seconds\n"
     ]
    },
    {
     "name": "stderr",
     "output_type": "stream",
     "text": [
      "C:\\Users\\user\\AppData\\Local\\Temp\\ipykernel_2684\\2085184799.py:45: FutureWarning: The frame.append method is deprecated and will be removed from pandas in a future version. Use pandas.concat instead.\n",
      "  pars[0] = pars[0].append(common_param | param | {'res': res, 'time': perf_counter() - t}, ignore_index=True)\n",
      "\u001b[32m[I 2022-12-14 09:44:36,472]\u001b[0m Trial 51 finished with value: 0.7328200836480917 and parameters: {'objective': 'Logloss', 'colsample_bylevel': 0.11580359922943041, 'depth': 8, 'boosting_type': 'Plain', 'bootstrap_type': 'Bernoulli', 'iterations': 1832, 'leaf_estimation_backtracking': 'No', 'l2_leaf_reg': 5.178197340828712, 'subsample': 0.1977856256891822}. Best is trial 26 with value: 0.7328795263180226.\u001b[0m\n"
     ]
    },
    {
     "name": "stdout",
     "output_type": "stream",
     "text": [
      "0.7328200836480917 8.811418000000003 seconds\n"
     ]
    },
    {
     "name": "stderr",
     "output_type": "stream",
     "text": [
      "C:\\Users\\user\\AppData\\Local\\Temp\\ipykernel_2684\\2085184799.py:45: FutureWarning: The frame.append method is deprecated and will be removed from pandas in a future version. Use pandas.concat instead.\n",
      "  pars[0] = pars[0].append(common_param | param | {'res': res, 'time': perf_counter() - t}, ignore_index=True)\n",
      "\u001b[32m[I 2022-12-14 09:44:45,395]\u001b[0m Trial 52 finished with value: 0.7328359169014758 and parameters: {'objective': 'Logloss', 'colsample_bylevel': 0.11081285619931336, 'depth': 8, 'boosting_type': 'Plain', 'bootstrap_type': 'Bernoulli', 'iterations': 1878, 'leaf_estimation_backtracking': 'No', 'l2_leaf_reg': 4.959778393892033, 'subsample': 0.1512686215366109}. Best is trial 26 with value: 0.7328795263180226.\u001b[0m\n"
     ]
    },
    {
     "name": "stdout",
     "output_type": "stream",
     "text": [
      "0.7328359169014758 8.930437299999994 seconds\n"
     ]
    },
    {
     "name": "stderr",
     "output_type": "stream",
     "text": [
      "C:\\Users\\user\\AppData\\Local\\Temp\\ipykernel_2684\\2085184799.py:45: FutureWarning: The frame.append method is deprecated and will be removed from pandas in a future version. Use pandas.concat instead.\n",
      "  pars[0] = pars[0].append(common_param | param | {'res': res, 'time': perf_counter() - t}, ignore_index=True)\n",
      "\u001b[32m[I 2022-12-14 09:44:54,489]\u001b[0m Trial 53 finished with value: 0.7328614110414396 and parameters: {'objective': 'Logloss', 'colsample_bylevel': 0.11446080415715496, 'depth': 7, 'boosting_type': 'Plain', 'bootstrap_type': 'Bernoulli', 'iterations': 1947, 'leaf_estimation_backtracking': 'No', 'l2_leaf_reg': 9.332936511891337, 'subsample': 0.22923715956733454}. Best is trial 26 with value: 0.7328795263180226.\u001b[0m\n"
     ]
    },
    {
     "name": "stdout",
     "output_type": "stream",
     "text": [
      "0.7328614110414396 9.088360299999977 seconds\n"
     ]
    },
    {
     "name": "stderr",
     "output_type": "stream",
     "text": [
      "C:\\Users\\user\\AppData\\Local\\Temp\\ipykernel_2684\\2085184799.py:45: FutureWarning: The frame.append method is deprecated and will be removed from pandas in a future version. Use pandas.concat instead.\n",
      "  pars[0] = pars[0].append(common_param | param | {'res': res, 'time': perf_counter() - t}, ignore_index=True)\n",
      "\u001b[32m[I 2022-12-14 09:45:03,646]\u001b[0m Trial 54 finished with value: 0.7328174411017322 and parameters: {'objective': 'Logloss', 'colsample_bylevel': 0.11971601074704932, 'depth': 7, 'boosting_type': 'Plain', 'bootstrap_type': 'Bernoulli', 'iterations': 1951, 'leaf_estimation_backtracking': 'No', 'l2_leaf_reg': 10.34554932568202, 'subsample': 0.23361651545465872}. Best is trial 26 with value: 0.7328795263180226.\u001b[0m\n"
     ]
    },
    {
     "name": "stdout",
     "output_type": "stream",
     "text": [
      "0.7328174411017322 9.153692100000058 seconds\n"
     ]
    },
    {
     "name": "stderr",
     "output_type": "stream",
     "text": [
      "C:\\Users\\user\\AppData\\Local\\Temp\\ipykernel_2684\\2085184799.py:45: FutureWarning: The frame.append method is deprecated and will be removed from pandas in a future version. Use pandas.concat instead.\n",
      "  pars[0] = pars[0].append(common_param | param | {'res': res, 'time': perf_counter() - t}, ignore_index=True)\n",
      "\u001b[32m[I 2022-12-14 09:45:12,084]\u001b[0m Trial 55 finished with value: 0.7328196039870553 and parameters: {'objective': 'Logloss', 'colsample_bylevel': 0.10435888216914486, 'depth': 7, 'boosting_type': 'Plain', 'bootstrap_type': 'Bernoulli', 'iterations': 1811, 'leaf_estimation_backtracking': 'No', 'l2_leaf_reg': 9.292667429209319, 'subsample': 0.13934699308665835}. Best is trial 26 with value: 0.7328795263180226.\u001b[0m\n"
     ]
    },
    {
     "name": "stdout",
     "output_type": "stream",
     "text": [
      "0.7328196039870553 8.444115099999976 seconds\n"
     ]
    },
    {
     "name": "stderr",
     "output_type": "stream",
     "text": [
      "C:\\Users\\user\\AppData\\Local\\Temp\\ipykernel_2684\\2085184799.py:45: FutureWarning: The frame.append method is deprecated and will be removed from pandas in a future version. Use pandas.concat instead.\n",
      "  pars[0] = pars[0].append(common_param | param | {'res': res, 'time': perf_counter() - t}, ignore_index=True)\n",
      "\u001b[32m[I 2022-12-14 09:45:39,571]\u001b[0m Trial 56 finished with value: 0.7325446923055937 and parameters: {'objective': 'CrossEntropy', 'colsample_bylevel': 0.09756373289520623, 'depth': 6, 'boosting_type': 'Ordered', 'bootstrap_type': 'MVS', 'iterations': 1952, 'leaf_estimation_backtracking': 'No', 'l2_leaf_reg': 13.036051621428111}. Best is trial 26 with value: 0.7328795263180226.\u001b[0m\n"
     ]
    },
    {
     "name": "stdout",
     "output_type": "stream",
     "text": [
      "0.7325446923055937 27.473458900000082 seconds\n"
     ]
    },
    {
     "name": "stderr",
     "output_type": "stream",
     "text": [
      "C:\\Users\\user\\AppData\\Local\\Temp\\ipykernel_2684\\2085184799.py:45: FutureWarning: The frame.append method is deprecated and will be removed from pandas in a future version. Use pandas.concat instead.\n",
      "  pars[0] = pars[0].append(common_param | param | {'res': res, 'time': perf_counter() - t}, ignore_index=True)\n",
      "\u001b[32m[I 2022-12-14 09:45:47,696]\u001b[0m Trial 57 finished with value: 0.7327765373337044 and parameters: {'objective': 'CrossEntropy', 'colsample_bylevel': 0.11026471260671812, 'depth': 8, 'boosting_type': 'Plain', 'bootstrap_type': 'Bayesian', 'iterations': 1758, 'leaf_estimation_backtracking': 'No', 'l2_leaf_reg': 11.331013745391726, 'bagging_temperature': 9.83473489507057}. Best is trial 26 with value: 0.7328795263180226.\u001b[0m\n"
     ]
    },
    {
     "name": "stdout",
     "output_type": "stream",
     "text": [
      "0.7327765373337044 8.125729699999965 seconds\n"
     ]
    },
    {
     "name": "stderr",
     "output_type": "stream",
     "text": [
      "C:\\Users\\user\\AppData\\Local\\Temp\\ipykernel_2684\\2085184799.py:45: FutureWarning: The frame.append method is deprecated and will be removed from pandas in a future version. Use pandas.concat instead.\n",
      "  pars[0] = pars[0].append(common_param | param | {'res': res, 'time': perf_counter() - t}, ignore_index=True)\n",
      "\u001b[32m[I 2022-12-14 09:45:56,979]\u001b[0m Trial 58 finished with value: 0.7326460133723566 and parameters: {'objective': 'Logloss', 'colsample_bylevel': 0.09013421105757574, 'depth': 7, 'boosting_type': 'Plain', 'bootstrap_type': 'Bernoulli', 'iterations': 1381, 'leaf_estimation_backtracking': 'AnyImprovement', 'l2_leaf_reg': 9.96506814872936, 'subsample': 0.30634259317125634}. Best is trial 26 with value: 0.7328795263180226.\u001b[0m\n"
     ]
    },
    {
     "name": "stdout",
     "output_type": "stream",
     "text": [
      "0.7326460133723566 9.283683900000028 seconds\n"
     ]
    },
    {
     "name": "stderr",
     "output_type": "stream",
     "text": [
      "C:\\Users\\user\\AppData\\Local\\Temp\\ipykernel_2684\\2085184799.py:45: FutureWarning: The frame.append method is deprecated and will be removed from pandas in a future version. Use pandas.concat instead.\n",
      "  pars[0] = pars[0].append(common_param | param | {'res': res, 'time': perf_counter() - t}, ignore_index=True)\n",
      "\u001b[32m[I 2022-12-14 09:46:23,090]\u001b[0m Trial 59 finished with value: 0.7326859087335503 and parameters: {'objective': 'CrossEntropy', 'colsample_bylevel': 0.06718010081485068, 'depth': 5, 'boosting_type': 'Ordered', 'bootstrap_type': 'Bernoulli', 'iterations': 1908, 'leaf_estimation_backtracking': 'No', 'l2_leaf_reg': 7.002869343527984, 'subsample': 0.41603340993933546}. Best is trial 26 with value: 0.7328795263180226.\u001b[0m\n"
     ]
    },
    {
     "name": "stdout",
     "output_type": "stream",
     "text": [
      "0.7326859087335503 26.11494730000004 seconds\n"
     ]
    },
    {
     "name": "stderr",
     "output_type": "stream",
     "text": [
      "C:\\Users\\user\\AppData\\Local\\Temp\\ipykernel_2684\\2085184799.py:45: FutureWarning: The frame.append method is deprecated and will be removed from pandas in a future version. Use pandas.concat instead.\n",
      "  pars[0] = pars[0].append(common_param | param | {'res': res, 'time': perf_counter() - t}, ignore_index=True)\n",
      "\u001b[32m[I 2022-12-14 09:46:26,637]\u001b[0m Trial 60 finished with value: 0.7301245367663819 and parameters: {'objective': 'Logloss', 'colsample_bylevel': 0.08010823598346752, 'depth': 9, 'boosting_type': 'Plain', 'bootstrap_type': 'Bernoulli', 'iterations': 656, 'leaf_estimation_backtracking': 'No', 'l2_leaf_reg': 8.726907580162052, 'subsample': 0.8589773580531586}. Best is trial 26 with value: 0.7328795263180226.\u001b[0m\n"
     ]
    },
    {
     "name": "stdout",
     "output_type": "stream",
     "text": [
      "0.7301245367663819 3.5383330999999316 seconds\n"
     ]
    },
    {
     "name": "stderr",
     "output_type": "stream",
     "text": [
      "C:\\Users\\user\\AppData\\Local\\Temp\\ipykernel_2684\\2085184799.py:45: FutureWarning: The frame.append method is deprecated and will be removed from pandas in a future version. Use pandas.concat instead.\n",
      "  pars[0] = pars[0].append(common_param | param | {'res': res, 'time': perf_counter() - t}, ignore_index=True)\n",
      "\u001b[32m[I 2022-12-14 09:46:35,529]\u001b[0m Trial 61 finished with value: 0.7328133807317573 and parameters: {'objective': 'Logloss', 'colsample_bylevel': 0.11581441088998677, 'depth': 8, 'boosting_type': 'Plain', 'bootstrap_type': 'Bernoulli', 'iterations': 1865, 'leaf_estimation_backtracking': 'No', 'l2_leaf_reg': 6.035973941572215, 'subsample': 0.19934112997909015}. Best is trial 26 with value: 0.7328795263180226.\u001b[0m\n"
     ]
    },
    {
     "name": "stdout",
     "output_type": "stream",
     "text": [
      "0.7328133807317573 8.887725199999977 seconds\n"
     ]
    },
    {
     "name": "stderr",
     "output_type": "stream",
     "text": [
      "C:\\Users\\user\\AppData\\Local\\Temp\\ipykernel_2684\\2085184799.py:45: FutureWarning: The frame.append method is deprecated and will be removed from pandas in a future version. Use pandas.concat instead.\n",
      "  pars[0] = pars[0].append(common_param | param | {'res': res, 'time': perf_counter() - t}, ignore_index=True)\n",
      "\u001b[32m[I 2022-12-14 09:46:45,014]\u001b[0m Trial 62 finished with value: 0.7328622525478771 and parameters: {'objective': 'Logloss', 'colsample_bylevel': 0.1157635178938066, 'depth': 8, 'boosting_type': 'Plain', 'bootstrap_type': 'Bernoulli', 'iterations': 1993, 'leaf_estimation_backtracking': 'No', 'l2_leaf_reg': 3.1246754598919972, 'subsample': 0.23981731376199408}. Best is trial 26 with value: 0.7328795263180226.\u001b[0m\n"
     ]
    },
    {
     "name": "stdout",
     "output_type": "stream",
     "text": [
      "0.7328622525478771 9.486074299999927 seconds\n"
     ]
    },
    {
     "name": "stderr",
     "output_type": "stream",
     "text": [
      "C:\\Users\\user\\AppData\\Local\\Temp\\ipykernel_2684\\2085184799.py:45: FutureWarning: The frame.append method is deprecated and will be removed from pandas in a future version. Use pandas.concat instead.\n",
      "  pars[0] = pars[0].append(common_param | param | {'res': res, 'time': perf_counter() - t}, ignore_index=True)\n",
      "\u001b[32m[I 2022-12-14 09:46:54,484]\u001b[0m Trial 63 finished with value: 0.7328767311772815 and parameters: {'objective': 'Logloss', 'colsample_bylevel': 0.10822123715291096, 'depth': 8, 'boosting_type': 'Plain', 'bootstrap_type': 'Bernoulli', 'iterations': 1993, 'leaf_estimation_backtracking': 'No', 'l2_leaf_reg': 2.687118172067778, 'subsample': 0.25083774192345965}. Best is trial 26 with value: 0.7328795263180226.\u001b[0m\n"
     ]
    },
    {
     "name": "stdout",
     "output_type": "stream",
     "text": [
      "0.7328767311772815 9.464292799999953 seconds\n"
     ]
    },
    {
     "name": "stderr",
     "output_type": "stream",
     "text": [
      "C:\\Users\\user\\AppData\\Local\\Temp\\ipykernel_2684\\2085184799.py:45: FutureWarning: The frame.append method is deprecated and will be removed from pandas in a future version. Use pandas.concat instead.\n",
      "  pars[0] = pars[0].append(common_param | param | {'res': res, 'time': perf_counter() - t}, ignore_index=True)\n",
      "\u001b[32m[I 2022-12-14 09:47:03,719]\u001b[0m Trial 64 finished with value: 0.7328693949930044 and parameters: {'objective': 'Logloss', 'colsample_bylevel': 0.1078252171208776, 'depth': 7, 'boosting_type': 'Plain', 'bootstrap_type': 'Bernoulli', 'iterations': 1998, 'leaf_estimation_backtracking': 'No', 'l2_leaf_reg': 2.0791151978506104, 'subsample': 0.13829106656350937}. Best is trial 26 with value: 0.7328795263180226.\u001b[0m\n"
     ]
    },
    {
     "name": "stdout",
     "output_type": "stream",
     "text": [
      "0.7328693949930044 9.241053299999976 seconds\n"
     ]
    },
    {
     "name": "stderr",
     "output_type": "stream",
     "text": [
      "C:\\Users\\user\\AppData\\Local\\Temp\\ipykernel_2684\\2085184799.py:45: FutureWarning: The frame.append method is deprecated and will be removed from pandas in a future version. Use pandas.concat instead.\n",
      "  pars[0] = pars[0].append(common_param | param | {'res': res, 'time': perf_counter() - t}, ignore_index=True)\n",
      "\u001b[32m[I 2022-12-14 09:47:12,954]\u001b[0m Trial 65 finished with value: 0.7328242303975699 and parameters: {'objective': 'Logloss', 'colsample_bylevel': 0.1019732291315193, 'depth': 7, 'boosting_type': 'Plain', 'bootstrap_type': 'Bernoulli', 'iterations': 1987, 'leaf_estimation_backtracking': 'No', 'l2_leaf_reg': 1.4565306894743424, 'subsample': 0.257517864580048}. Best is trial 26 with value: 0.7328795263180226.\u001b[0m\n"
     ]
    },
    {
     "name": "stdout",
     "output_type": "stream",
     "text": [
      "0.7328242303975699 9.231450800000061 seconds\n"
     ]
    },
    {
     "name": "stderr",
     "output_type": "stream",
     "text": [
      "C:\\Users\\user\\AppData\\Local\\Temp\\ipykernel_2684\\2085184799.py:45: FutureWarning: The frame.append method is deprecated and will be removed from pandas in a future version. Use pandas.concat instead.\n",
      "  pars[0] = pars[0].append(common_param | param | {'res': res, 'time': perf_counter() - t}, ignore_index=True)\n",
      "\u001b[32m[I 2022-12-14 09:47:22,345]\u001b[0m Trial 66 finished with value: 0.7327592386335651 and parameters: {'objective': 'Logloss', 'colsample_bylevel': 0.10946509850078197, 'depth': 8, 'boosting_type': 'Plain', 'bootstrap_type': 'Bernoulli', 'iterations': 1957, 'leaf_estimation_backtracking': 'No', 'l2_leaf_reg': 2.451930680629495, 'subsample': 0.32417104827034227}. Best is trial 26 with value: 0.7328795263180226.\u001b[0m\n"
     ]
    },
    {
     "name": "stdout",
     "output_type": "stream",
     "text": [
      "0.7327592386335651 9.396402800000033 seconds\n"
     ]
    },
    {
     "name": "stderr",
     "output_type": "stream",
     "text": [
      "C:\\Users\\user\\AppData\\Local\\Temp\\ipykernel_2684\\2085184799.py:45: FutureWarning: The frame.append method is deprecated and will be removed from pandas in a future version. Use pandas.concat instead.\n",
      "  pars[0] = pars[0].append(common_param | param | {'res': res, 'time': perf_counter() - t}, ignore_index=True)\n",
      "\u001b[32m[I 2022-12-14 09:47:31,502]\u001b[0m Trial 67 finished with value: 0.7327991735987064 and parameters: {'objective': 'Logloss', 'colsample_bylevel': 0.10587937625061096, 'depth': 9, 'boosting_type': 'Plain', 'bootstrap_type': 'Bayesian', 'iterations': 1997, 'leaf_estimation_backtracking': 'No', 'l2_leaf_reg': 2.918154869402034, 'bagging_temperature': 6.99530145183816}. Best is trial 26 with value: 0.7328795263180226.\u001b[0m\n"
     ]
    },
    {
     "name": "stdout",
     "output_type": "stream",
     "text": [
      "0.7327991735987064 9.154323399999953 seconds\n"
     ]
    },
    {
     "name": "stderr",
     "output_type": "stream",
     "text": [
      "C:\\Users\\user\\AppData\\Local\\Temp\\ipykernel_2684\\2085184799.py:45: FutureWarning: The frame.append method is deprecated and will be removed from pandas in a future version. Use pandas.concat instead.\n",
      "  pars[0] = pars[0].append(common_param | param | {'res': res, 'time': perf_counter() - t}, ignore_index=True)\n",
      "\u001b[32m[I 2022-12-14 09:47:40,143]\u001b[0m Trial 68 finished with value: 0.7328087837628979 and parameters: {'objective': 'Logloss', 'colsample_bylevel': 0.09291818847844209, 'depth': 10, 'boosting_type': 'Plain', 'bootstrap_type': 'Bernoulli', 'iterations': 1819, 'leaf_estimation_backtracking': 'No', 'l2_leaf_reg': 1.6772949164406945, 'subsample': 0.1310946736150068}. Best is trial 26 with value: 0.7328795263180226.\u001b[0m\n"
     ]
    },
    {
     "name": "stdout",
     "output_type": "stream",
     "text": [
      "0.7328087837628979 8.631135299999983 seconds\n"
     ]
    },
    {
     "name": "stderr",
     "output_type": "stream",
     "text": [
      "C:\\Users\\user\\AppData\\Local\\Temp\\ipykernel_2684\\2085184799.py:45: FutureWarning: The frame.append method is deprecated and will be removed from pandas in a future version. Use pandas.concat instead.\n",
      "  pars[0] = pars[0].append(common_param | param | {'res': res, 'time': perf_counter() - t}, ignore_index=True)\n",
      "\u001b[32m[I 2022-12-14 09:47:49,066]\u001b[0m Trial 69 finished with value: 0.7328492986196862 and parameters: {'objective': 'Logloss', 'colsample_bylevel': 0.10071778106839127, 'depth': 7, 'boosting_type': 'Plain', 'bootstrap_type': 'Bernoulli', 'iterations': 1921, 'leaf_estimation_backtracking': 'No', 'l2_leaf_reg': 3.9626754972739704, 'subsample': 0.10043359665074665}. Best is trial 26 with value: 0.7328795263180226.\u001b[0m\n"
     ]
    },
    {
     "name": "stdout",
     "output_type": "stream",
     "text": [
      "0.7328492986196862 8.922623199999975 seconds\n"
     ]
    },
    {
     "name": "stderr",
     "output_type": "stream",
     "text": [
      "C:\\Users\\user\\AppData\\Local\\Temp\\ipykernel_2684\\2085184799.py:45: FutureWarning: The frame.append method is deprecated and will be removed from pandas in a future version. Use pandas.concat instead.\n",
      "  pars[0] = pars[0].append(common_param | param | {'res': res, 'time': perf_counter() - t}, ignore_index=True)\n",
      "\u001b[32m[I 2022-12-14 09:47:57,879]\u001b[0m Trial 70 finished with value: 0.732510915790249 and parameters: {'objective': 'Logloss', 'colsample_bylevel': 0.10789486298098276, 'depth': 12, 'boosting_type': 'Plain', 'bootstrap_type': 'MVS', 'iterations': 1736, 'leaf_estimation_backtracking': 'No', 'l2_leaf_reg': 0.36742678826164443}. Best is trial 26 with value: 0.7328795263180226.\u001b[0m\n"
     ]
    },
    {
     "name": "stdout",
     "output_type": "stream",
     "text": [
      "0.732510915790249 8.808636200000024 seconds\n"
     ]
    },
    {
     "name": "stderr",
     "output_type": "stream",
     "text": [
      "C:\\Users\\user\\AppData\\Local\\Temp\\ipykernel_2684\\2085184799.py:45: FutureWarning: The frame.append method is deprecated and will be removed from pandas in a future version. Use pandas.concat instead.\n",
      "  pars[0] = pars[0].append(common_param | param | {'res': res, 'time': perf_counter() - t}, ignore_index=True)\n",
      "\u001b[32m[I 2022-12-14 09:48:06,958]\u001b[0m Trial 71 finished with value: 0.7327936209870406 and parameters: {'objective': 'Logloss', 'colsample_bylevel': 0.10293063871721102, 'depth': 7, 'boosting_type': 'Plain', 'bootstrap_type': 'Bernoulli', 'iterations': 1944, 'leaf_estimation_backtracking': 'No', 'l2_leaf_reg': 3.951225986817019, 'subsample': 0.1205380993925822}. Best is trial 26 with value: 0.7328795263180226.\u001b[0m\n"
     ]
    },
    {
     "name": "stdout",
     "output_type": "stream",
     "text": [
      "0.7327936209870406 9.076556299999993 seconds\n"
     ]
    },
    {
     "name": "stderr",
     "output_type": "stream",
     "text": [
      "C:\\Users\\user\\AppData\\Local\\Temp\\ipykernel_2684\\2085184799.py:45: FutureWarning: The frame.append method is deprecated and will be removed from pandas in a future version. Use pandas.concat instead.\n",
      "  pars[0] = pars[0].append(common_param | param | {'res': res, 'time': perf_counter() - t}, ignore_index=True)\n",
      "\u001b[32m[I 2022-12-14 09:48:15,990]\u001b[0m Trial 72 finished with value: 0.7328647512626855 and parameters: {'objective': 'Logloss', 'colsample_bylevel': 0.09835410310193453, 'depth': 7, 'boosting_type': 'Plain', 'bootstrap_type': 'Bernoulli', 'iterations': 1930, 'leaf_estimation_backtracking': 'No', 'l2_leaf_reg': 2.999658385529461, 'subsample': 0.16706958220914508}. Best is trial 26 with value: 0.7328795263180226.\u001b[0m\n"
     ]
    },
    {
     "name": "stdout",
     "output_type": "stream",
     "text": [
      "0.7328647512626855 9.029812399999855 seconds\n"
     ]
    },
    {
     "name": "stderr",
     "output_type": "stream",
     "text": [
      "C:\\Users\\user\\AppData\\Local\\Temp\\ipykernel_2684\\2085184799.py:45: FutureWarning: The frame.append method is deprecated and will be removed from pandas in a future version. Use pandas.concat instead.\n",
      "  pars[0] = pars[0].append(common_param | param | {'res': res, 'time': perf_counter() - t}, ignore_index=True)\n",
      "\u001b[32m[I 2022-12-14 09:48:24,537]\u001b[0m Trial 73 finished with value: 0.7328390985948773 and parameters: {'objective': 'Logloss', 'colsample_bylevel': 0.09773292258905815, 'depth': 6, 'boosting_type': 'Plain', 'bootstrap_type': 'Bernoulli', 'iterations': 1804, 'leaf_estimation_backtracking': 'No', 'l2_leaf_reg': 1.1660927272588424, 'subsample': 0.1609096772579247}. Best is trial 26 with value: 0.7328795263180226.\u001b[0m\n"
     ]
    },
    {
     "name": "stdout",
     "output_type": "stream",
     "text": [
      "0.7328390985948773 8.557945699999891 seconds\n"
     ]
    },
    {
     "name": "stderr",
     "output_type": "stream",
     "text": [
      "C:\\Users\\user\\AppData\\Local\\Temp\\ipykernel_2684\\2085184799.py:45: FutureWarning: The frame.append method is deprecated and will be removed from pandas in a future version. Use pandas.concat instead.\n",
      "  pars[0] = pars[0].append(common_param | param | {'res': res, 'time': perf_counter() - t}, ignore_index=True)\n",
      "\u001b[32m[I 2022-12-14 09:48:33,522]\u001b[0m Trial 74 finished with value: 0.732819770864351 and parameters: {'objective': 'Logloss', 'colsample_bylevel': 0.11675853199726809, 'depth': 8, 'boosting_type': 'Plain', 'bootstrap_type': 'Bernoulli', 'iterations': 1884, 'leaf_estimation_backtracking': 'No', 'l2_leaf_reg': 2.6207072468571337, 'subsample': 0.2146565420403434}. Best is trial 26 with value: 0.7328795263180226.\u001b[0m\n"
     ]
    },
    {
     "name": "stdout",
     "output_type": "stream",
     "text": [
      "0.732819770864351 8.975518599999987 seconds\n"
     ]
    },
    {
     "name": "stderr",
     "output_type": "stream",
     "text": [
      "C:\\Users\\user\\AppData\\Local\\Temp\\ipykernel_2684\\2085184799.py:45: FutureWarning: The frame.append method is deprecated and will be removed from pandas in a future version. Use pandas.concat instead.\n",
      "  pars[0] = pars[0].append(common_param | param | {'res': res, 'time': perf_counter() - t}, ignore_index=True)\n",
      "\u001b[32m[I 2022-12-14 09:48:42,976]\u001b[0m Trial 75 finished with value: 0.7328127471666922 and parameters: {'objective': 'Logloss', 'colsample_bylevel': 0.11186879059968073, 'depth': 6, 'boosting_type': 'Plain', 'bootstrap_type': 'Bernoulli', 'iterations': 1997, 'leaf_estimation_backtracking': 'No', 'l2_leaf_reg': 2.010700530195939, 'subsample': 0.25926325704790043}. Best is trial 26 with value: 0.7328795263180226.\u001b[0m\n"
     ]
    },
    {
     "name": "stdout",
     "output_type": "stream",
     "text": [
      "0.7328127471666922 9.451796700000159 seconds\n"
     ]
    },
    {
     "name": "stderr",
     "output_type": "stream",
     "text": [
      "C:\\Users\\user\\AppData\\Local\\Temp\\ipykernel_2684\\2085184799.py:45: FutureWarning: The frame.append method is deprecated and will be removed from pandas in a future version. Use pandas.concat instead.\n",
      "  pars[0] = pars[0].append(common_param | param | {'res': res, 'time': perf_counter() - t}, ignore_index=True)\n",
      "\u001b[32m[I 2022-12-14 09:48:52,008]\u001b[0m Trial 76 finished with value: 0.7328695854449724 and parameters: {'objective': 'Logloss', 'colsample_bylevel': 0.10749769759090846, 'depth': 7, 'boosting_type': 'Plain', 'bootstrap_type': 'Bernoulli', 'iterations': 1946, 'leaf_estimation_backtracking': 'No', 'l2_leaf_reg': 3.033093305288125, 'subsample': 0.1775678249631382}. Best is trial 26 with value: 0.7328795263180226.\u001b[0m\n"
     ]
    },
    {
     "name": "stdout",
     "output_type": "stream",
     "text": [
      "0.7328695854449724 9.031555000000026 seconds\n"
     ]
    },
    {
     "name": "stderr",
     "output_type": "stream",
     "text": [
      "C:\\Users\\user\\AppData\\Local\\Temp\\ipykernel_2684\\2085184799.py:45: FutureWarning: The frame.append method is deprecated and will be removed from pandas in a future version. Use pandas.concat instead.\n",
      "  pars[0] = pars[0].append(common_param | param | {'res': res, 'time': perf_counter() - t}, ignore_index=True)\n",
      "\u001b[32m[I 2022-12-14 09:48:57,243]\u001b[0m Trial 77 finished with value: 0.7320691102737827 and parameters: {'objective': 'Logloss', 'colsample_bylevel': 0.08561053972011116, 'depth': 8, 'boosting_type': 'Plain', 'bootstrap_type': 'Bernoulli', 'iterations': 1046, 'leaf_estimation_backtracking': 'No', 'l2_leaf_reg': 3.621335948990794, 'subsample': 0.17757866476096384}. Best is trial 26 with value: 0.7328795263180226.\u001b[0m\n"
     ]
    },
    {
     "name": "stdout",
     "output_type": "stream",
     "text": [
      "0.7320691102737827 5.233541999999943 seconds\n"
     ]
    },
    {
     "name": "stderr",
     "output_type": "stream",
     "text": [
      "C:\\Users\\user\\AppData\\Local\\Temp\\ipykernel_2684\\2085184799.py:45: FutureWarning: The frame.append method is deprecated and will be removed from pandas in a future version. Use pandas.concat instead.\n",
      "  pars[0] = pars[0].append(common_param | param | {'res': res, 'time': perf_counter() - t}, ignore_index=True)\n",
      "\u001b[32m[I 2022-12-14 09:49:05,947]\u001b[0m Trial 78 finished with value: 0.7328561797149077 and parameters: {'objective': 'Logloss', 'colsample_bylevel': 0.09563781659526846, 'depth': 7, 'boosting_type': 'Plain', 'bootstrap_type': 'Bernoulli', 'iterations': 1851, 'leaf_estimation_backtracking': 'No', 'l2_leaf_reg': 4.583709877296673, 'subsample': 0.16940968067240725}. Best is trial 26 with value: 0.7328795263180226.\u001b[0m\n"
     ]
    },
    {
     "name": "stdout",
     "output_type": "stream",
     "text": [
      "0.7328561797149077 8.700419499999953 seconds\n"
     ]
    },
    {
     "name": "stderr",
     "output_type": "stream",
     "text": [
      "C:\\Users\\user\\AppData\\Local\\Temp\\ipykernel_2684\\2085184799.py:45: FutureWarning: The frame.append method is deprecated and will be removed from pandas in a future version. Use pandas.concat instead.\n",
      "  pars[0] = pars[0].append(common_param | param | {'res': res, 'time': perf_counter() - t}, ignore_index=True)\n",
      "\u001b[32m[I 2022-12-14 09:49:14,916]\u001b[0m Trial 79 finished with value: 0.7324258972975534 and parameters: {'objective': 'Logloss', 'colsample_bylevel': 0.10744404549570577, 'depth': 6, 'boosting_type': 'Plain', 'bootstrap_type': 'Bayesian', 'iterations': 1963, 'leaf_estimation_backtracking': 'No', 'l2_leaf_reg': 3.096918800799979, 'bagging_temperature': 0.029575069850073632}. Best is trial 26 with value: 0.7328795263180226.\u001b[0m\n"
     ]
    },
    {
     "name": "stdout",
     "output_type": "stream",
     "text": [
      "0.7324258972975534 8.964744399999972 seconds\n"
     ]
    },
    {
     "name": "stderr",
     "output_type": "stream",
     "text": [
      "C:\\Users\\user\\AppData\\Local\\Temp\\ipykernel_2684\\2085184799.py:45: FutureWarning: The frame.append method is deprecated and will be removed from pandas in a future version. Use pandas.concat instead.\n",
      "  pars[0] = pars[0].append(common_param | param | {'res': res, 'time': perf_counter() - t}, ignore_index=True)\n",
      "\u001b[32m[I 2022-12-14 09:49:22,854]\u001b[0m Trial 80 finished with value: 0.732189707559593 and parameters: {'objective': 'Logloss', 'colsample_bylevel': 0.05273215141107438, 'depth': 9, 'boosting_type': 'Plain', 'bootstrap_type': 'Bernoulli', 'iterations': 1666, 'leaf_estimation_backtracking': 'No', 'l2_leaf_reg': 1.0382565265526686, 'subsample': 0.12681819755727064}. Best is trial 26 with value: 0.7328795263180226.\u001b[0m\n"
     ]
    },
    {
     "name": "stdout",
     "output_type": "stream",
     "text": [
      "0.732189707559593 7.936039100000016 seconds\n"
     ]
    },
    {
     "name": "stderr",
     "output_type": "stream",
     "text": [
      "C:\\Users\\user\\AppData\\Local\\Temp\\ipykernel_2684\\2085184799.py:45: FutureWarning: The frame.append method is deprecated and will be removed from pandas in a future version. Use pandas.concat instead.\n",
      "  pars[0] = pars[0].append(common_param | param | {'res': res, 'time': perf_counter() - t}, ignore_index=True)\n",
      "\u001b[32m[I 2022-12-14 09:49:32,074]\u001b[0m Trial 81 finished with value: 0.7328617103423726 and parameters: {'objective': 'Logloss', 'colsample_bylevel': 0.11203209749270505, 'depth': 7, 'boosting_type': 'Plain', 'bootstrap_type': 'Bernoulli', 'iterations': 1947, 'leaf_estimation_backtracking': 'No', 'l2_leaf_reg': 0.11456762573382173, 'subsample': 0.20473849199783997}. Best is trial 26 with value: 0.7328795263180226.\u001b[0m\n"
     ]
    },
    {
     "name": "stdout",
     "output_type": "stream",
     "text": [
      "0.7328617103423726 9.220047799999975 seconds\n"
     ]
    },
    {
     "name": "stderr",
     "output_type": "stream",
     "text": [
      "C:\\Users\\user\\AppData\\Local\\Temp\\ipykernel_2684\\2085184799.py:45: FutureWarning: The frame.append method is deprecated and will be removed from pandas in a future version. Use pandas.concat instead.\n",
      "  pars[0] = pars[0].append(common_param | param | {'res': res, 'time': perf_counter() - t}, ignore_index=True)\n",
      "\u001b[32m[I 2022-12-14 09:49:41,027]\u001b[0m Trial 82 finished with value: 0.7328335833237402 and parameters: {'objective': 'Logloss', 'colsample_bylevel': 0.10391723496391148, 'depth': 7, 'boosting_type': 'Plain', 'bootstrap_type': 'Bernoulli', 'iterations': 1883, 'leaf_estimation_backtracking': 'No', 'l2_leaf_reg': 1.948230328241444, 'subsample': 0.19634561791253524}. Best is trial 26 with value: 0.7328795263180226.\u001b[0m\n"
     ]
    },
    {
     "name": "stdout",
     "output_type": "stream",
     "text": [
      "0.7328335833237402 8.953147599999966 seconds\n"
     ]
    },
    {
     "name": "stderr",
     "output_type": "stream",
     "text": [
      "C:\\Users\\user\\AppData\\Local\\Temp\\ipykernel_2684\\2085184799.py:45: FutureWarning: The frame.append method is deprecated and will be removed from pandas in a future version. Use pandas.concat instead.\n",
      "  pars[0] = pars[0].append(common_param | param | {'res': res, 'time': perf_counter() - t}, ignore_index=True)\n",
      "\u001b[32m[I 2022-12-14 09:49:50,107]\u001b[0m Trial 83 finished with value: 0.7328657454987683 and parameters: {'objective': 'Logloss', 'colsample_bylevel': 0.1110343764306003, 'depth': 8, 'boosting_type': 'Plain', 'bootstrap_type': 'Bernoulli', 'iterations': 1924, 'leaf_estimation_backtracking': 'No', 'l2_leaf_reg': 0.12896799216760657, 'subsample': 0.5435386471400135}. Best is trial 26 with value: 0.7328795263180226.\u001b[0m\n"
     ]
    },
    {
     "name": "stdout",
     "output_type": "stream",
     "text": [
      "0.7328657454987683 9.076844700000038 seconds\n"
     ]
    },
    {
     "name": "stderr",
     "output_type": "stream",
     "text": [
      "C:\\Users\\user\\AppData\\Local\\Temp\\ipykernel_2684\\2085184799.py:45: FutureWarning: The frame.append method is deprecated and will be removed from pandas in a future version. Use pandas.concat instead.\n",
      "  pars[0] = pars[0].append(common_param | param | {'res': res, 'time': perf_counter() - t}, ignore_index=True)\n",
      "\u001b[32m[I 2022-12-14 09:49:59,186]\u001b[0m Trial 84 finished with value: 0.7327012442721429 and parameters: {'objective': 'Logloss', 'colsample_bylevel': 0.10692807163818349, 'depth': 8, 'boosting_type': 'Plain', 'bootstrap_type': 'Bernoulli', 'iterations': 1918, 'leaf_estimation_backtracking': 'No', 'l2_leaf_reg': 2.3647625454910335, 'subsample': 0.596469124901162}. Best is trial 26 with value: 0.7328795263180226.\u001b[0m\n"
     ]
    },
    {
     "name": "stdout",
     "output_type": "stream",
     "text": [
      "0.7327012442721429 9.085035300000072 seconds\n"
     ]
    },
    {
     "name": "stderr",
     "output_type": "stream",
     "text": [
      "C:\\Users\\user\\AppData\\Local\\Temp\\ipykernel_2684\\2085184799.py:45: FutureWarning: The frame.append method is deprecated and will be removed from pandas in a future version. Use pandas.concat instead.\n",
      "  pars[0] = pars[0].append(common_param | param | {'res': res, 'time': perf_counter() - t}, ignore_index=True)\n",
      "\u001b[32m[I 2022-12-14 09:50:07,843]\u001b[0m Trial 85 finished with value: 0.7327045136074855 and parameters: {'objective': 'Logloss', 'colsample_bylevel': 0.11713674979729091, 'depth': 8, 'boosting_type': 'Plain', 'bootstrap_type': 'Bernoulli', 'iterations': 1800, 'leaf_estimation_backtracking': 'No', 'l2_leaf_reg': 3.6114006391570523, 'subsample': 0.663508654139911}. Best is trial 26 with value: 0.7328795263180226.\u001b[0m\n"
     ]
    },
    {
     "name": "stdout",
     "output_type": "stream",
     "text": [
      "0.7327045136074855 8.656591700000035 seconds\n"
     ]
    },
    {
     "name": "stderr",
     "output_type": "stream",
     "text": [
      "C:\\Users\\user\\AppData\\Local\\Temp\\ipykernel_2684\\2085184799.py:45: FutureWarning: The frame.append method is deprecated and will be removed from pandas in a future version. Use pandas.concat instead.\n",
      "  pars[0] = pars[0].append(common_param | param | {'res': res, 'time': perf_counter() - t}, ignore_index=True)\n",
      "\u001b[32m[I 2022-12-14 09:50:16,624]\u001b[0m Trial 86 finished with value: 0.7327126111689184 and parameters: {'objective': 'Logloss', 'colsample_bylevel': 0.10930045971084713, 'depth': 8, 'boosting_type': 'Plain', 'bootstrap_type': 'Bernoulli', 'iterations': 1853, 'leaf_estimation_backtracking': 'No', 'l2_leaf_reg': 2.8033859931225873, 'subsample': 0.8218937792416381}. Best is trial 26 with value: 0.7328795263180226.\u001b[0m\n"
     ]
    },
    {
     "name": "stdout",
     "output_type": "stream",
     "text": [
      "0.7327126111689184 8.775582099999838 seconds\n"
     ]
    },
    {
     "name": "stderr",
     "output_type": "stream",
     "text": [
      "C:\\Users\\user\\AppData\\Local\\Temp\\ipykernel_2684\\2085184799.py:45: FutureWarning: The frame.append method is deprecated and will be removed from pandas in a future version. Use pandas.concat instead.\n",
      "  pars[0] = pars[0].append(common_param | param | {'res': res, 'time': perf_counter() - t}, ignore_index=True)\n",
      "\u001b[32m[I 2022-12-14 09:50:26,023]\u001b[0m Trial 87 finished with value: 0.7328120625928949 and parameters: {'objective': 'Logloss', 'colsample_bylevel': 0.09940329598852088, 'depth': 9, 'boosting_type': 'Plain', 'bootstrap_type': 'Bernoulli', 'iterations': 1974, 'leaf_estimation_backtracking': 'No', 'l2_leaf_reg': 4.583770521825085, 'subsample': 0.4958336197534486}. Best is trial 26 with value: 0.7328795263180226.\u001b[0m\n"
     ]
    },
    {
     "name": "stdout",
     "output_type": "stream",
     "text": [
      "0.7328120625928949 9.397642800000085 seconds\n"
     ]
    },
    {
     "name": "stderr",
     "output_type": "stream",
     "text": [
      "C:\\Users\\user\\AppData\\Local\\Temp\\ipykernel_2684\\2085184799.py:45: FutureWarning: The frame.append method is deprecated and will be removed from pandas in a future version. Use pandas.concat instead.\n",
      "  pars[0] = pars[0].append(common_param | param | {'res': res, 'time': perf_counter() - t}, ignore_index=True)\n",
      "\u001b[32m[I 2022-12-14 09:50:35,118]\u001b[0m Trial 88 finished with value: 0.7324292787651864 and parameters: {'objective': 'Logloss', 'colsample_bylevel': 0.11223284009081702, 'depth': 8, 'boosting_type': 'Plain', 'bootstrap_type': 'Bernoulli', 'iterations': 1891, 'leaf_estimation_backtracking': 'No', 'l2_leaf_reg': 1.267349141214996, 'subsample': 0.9569788166761748}. Best is trial 26 with value: 0.7328795263180226.\u001b[0m\n"
     ]
    },
    {
     "name": "stdout",
     "output_type": "stream",
     "text": [
      "0.7324292787651864 9.097024000000147 seconds\n"
     ]
    },
    {
     "name": "stderr",
     "output_type": "stream",
     "text": [
      "C:\\Users\\user\\AppData\\Local\\Temp\\ipykernel_2684\\2085184799.py:45: FutureWarning: The frame.append method is deprecated and will be removed from pandas in a future version. Use pandas.concat instead.\n",
      "  pars[0] = pars[0].append(common_param | param | {'res': res, 'time': perf_counter() - t}, ignore_index=True)\n",
      "\u001b[32m[I 2022-12-14 09:50:44,384]\u001b[0m Trial 89 finished with value: 0.7325810552982505 and parameters: {'objective': 'Logloss', 'colsample_bylevel': 0.10223490551950593, 'depth': 7, 'boosting_type': 'Plain', 'bootstrap_type': 'MVS', 'iterations': 1829, 'leaf_estimation_backtracking': 'No', 'l2_leaf_reg': 5.219007937339198}. Best is trial 26 with value: 0.7328795263180226.\u001b[0m\n"
     ]
    },
    {
     "name": "stdout",
     "output_type": "stream",
     "text": [
      "0.7325810552982505 9.253829700000097 seconds\n"
     ]
    },
    {
     "name": "stderr",
     "output_type": "stream",
     "text": [
      "C:\\Users\\user\\AppData\\Local\\Temp\\ipykernel_2684\\2085184799.py:45: FutureWarning: The frame.append method is deprecated and will be removed from pandas in a future version. Use pandas.concat instead.\n",
      "  pars[0] = pars[0].append(common_param | param | {'res': res, 'time': perf_counter() - t}, ignore_index=True)\n",
      "\u001b[32m[I 2022-12-14 09:50:53,416]\u001b[0m Trial 90 finished with value: 0.732767819734624 and parameters: {'objective': 'Logloss', 'colsample_bylevel': 0.10624648974589603, 'depth': 8, 'boosting_type': 'Plain', 'bootstrap_type': 'Bernoulli', 'iterations': 1923, 'leaf_estimation_backtracking': 'No', 'l2_leaf_reg': 3.214395976001881, 'subsample': 0.3843679415901782}. Best is trial 26 with value: 0.7328795263180226.\u001b[0m\n"
     ]
    },
    {
     "name": "stdout",
     "output_type": "stream",
     "text": [
      "0.732767819734624 9.042726599999924 seconds\n"
     ]
    },
    {
     "name": "stderr",
     "output_type": "stream",
     "text": [
      "C:\\Users\\user\\AppData\\Local\\Temp\\ipykernel_2684\\2085184799.py:45: FutureWarning: The frame.append method is deprecated and will be removed from pandas in a future version. Use pandas.concat instead.\n",
      "  pars[0] = pars[0].append(common_param | param | {'res': res, 'time': perf_counter() - t}, ignore_index=True)\n",
      "\u001b[32m[I 2022-12-14 09:51:02,651]\u001b[0m Trial 91 finished with value: 0.7328495977381922 and parameters: {'objective': 'Logloss', 'colsample_bylevel': 0.1130778688359609, 'depth': 7, 'boosting_type': 'Plain', 'bootstrap_type': 'Bernoulli', 'iterations': 1967, 'leaf_estimation_backtracking': 'No', 'l2_leaf_reg': 0.36311088659336277, 'subsample': 0.25631789668096877}. Best is trial 26 with value: 0.7328795263180226.\u001b[0m\n"
     ]
    },
    {
     "name": "stdout",
     "output_type": "stream",
     "text": [
      "0.7328495977381922 9.22072860000003 seconds\n"
     ]
    },
    {
     "name": "stderr",
     "output_type": "stream",
     "text": [
      "C:\\Users\\user\\AppData\\Local\\Temp\\ipykernel_2684\\2085184799.py:45: FutureWarning: The frame.append method is deprecated and will be removed from pandas in a future version. Use pandas.concat instead.\n",
      "  pars[0] = pars[0].append(common_param | param | {'res': res, 'time': perf_counter() - t}, ignore_index=True)\n",
      "\u001b[32m[I 2022-12-14 09:51:12,027]\u001b[0m Trial 92 finished with value: 0.7327681347724727 and parameters: {'objective': 'Logloss', 'colsample_bylevel': 0.11674262584772019, 'depth': 7, 'boosting_type': 'Plain', 'bootstrap_type': 'Bernoulli', 'iterations': 1999, 'leaf_estimation_backtracking': 'No', 'l2_leaf_reg': 0.9561055348233098, 'subsample': 0.2932737940625756}. Best is trial 26 with value: 0.7328795263180226.\u001b[0m\n"
     ]
    },
    {
     "name": "stdout",
     "output_type": "stream",
     "text": [
      "0.7327681347724727 9.37347490000002 seconds\n"
     ]
    },
    {
     "name": "stderr",
     "output_type": "stream",
     "text": [
      "C:\\Users\\user\\AppData\\Local\\Temp\\ipykernel_2684\\2085184799.py:45: FutureWarning: The frame.append method is deprecated and will be removed from pandas in a future version. Use pandas.concat instead.\n",
      "  pars[0] = pars[0].append(common_param | param | {'res': res, 'time': perf_counter() - t}, ignore_index=True)\n",
      "\u001b[32m[I 2022-12-14 09:51:21,106]\u001b[0m Trial 93 finished with value: 0.7312860271154403 and parameters: {'objective': 'Logloss', 'colsample_bylevel': 0.04304382515676819, 'depth': 7, 'boosting_type': 'Plain', 'bootstrap_type': 'Bernoulli', 'iterations': 1930, 'leaf_estimation_backtracking': 'No', 'l2_leaf_reg': 0.1285423872255608, 'subsample': 0.7372079551568794}. Best is trial 26 with value: 0.7328795263180226.\u001b[0m\n"
     ]
    },
    {
     "name": "stdout",
     "output_type": "stream",
     "text": [
      "0.7312860271154403 9.075408500000094 seconds\n"
     ]
    },
    {
     "name": "stderr",
     "output_type": "stream",
     "text": [
      "C:\\Users\\user\\AppData\\Local\\Temp\\ipykernel_2684\\2085184799.py:45: FutureWarning: The frame.append method is deprecated and will be removed from pandas in a future version. Use pandas.concat instead.\n",
      "  pars[0] = pars[0].append(common_param | param | {'res': res, 'time': perf_counter() - t}, ignore_index=True)\n",
      "\u001b[32m[I 2022-12-14 09:51:29,951]\u001b[0m Trial 94 finished with value: 0.7328350590258058 and parameters: {'objective': 'Logloss', 'colsample_bylevel': 0.11028955213043705, 'depth': 6, 'boosting_type': 'Plain', 'bootstrap_type': 'Bernoulli', 'iterations': 1881, 'leaf_estimation_backtracking': 'No', 'l2_leaf_reg': 2.1282935805443626, 'subsample': 0.16814765173289511}. Best is trial 26 with value: 0.7328795263180226.\u001b[0m\n"
     ]
    },
    {
     "name": "stdout",
     "output_type": "stream",
     "text": [
      "0.7328350590258058 8.854969700000083 seconds\n"
     ]
    },
    {
     "name": "stderr",
     "output_type": "stream",
     "text": [
      "C:\\Users\\user\\AppData\\Local\\Temp\\ipykernel_2684\\2085184799.py:45: FutureWarning: The frame.append method is deprecated and will be removed from pandas in a future version. Use pandas.concat instead.\n",
      "  pars[0] = pars[0].append(common_param | param | {'res': res, 'time': perf_counter() - t}, ignore_index=True)\n",
      "\u001b[32m[I 2022-12-14 09:51:39,170]\u001b[0m Trial 95 finished with value: 0.732822483694008 and parameters: {'objective': 'Logloss', 'colsample_bylevel': 0.11329946144902261, 'depth': 8, 'boosting_type': 'Plain', 'bootstrap_type': 'Bernoulli', 'iterations': 1948, 'leaf_estimation_backtracking': 'No', 'l2_leaf_reg': 1.6178551991860848, 'subsample': 0.14422439469608597}. Best is trial 26 with value: 0.7328795263180226.\u001b[0m\n"
     ]
    },
    {
     "name": "stdout",
     "output_type": "stream",
     "text": [
      "0.732822483694008 9.22048239999981 seconds\n"
     ]
    },
    {
     "name": "stderr",
     "output_type": "stream",
     "text": [
      "C:\\Users\\user\\AppData\\Local\\Temp\\ipykernel_2684\\2085184799.py:45: FutureWarning: The frame.append method is deprecated and will be removed from pandas in a future version. Use pandas.concat instead.\n",
      "  pars[0] = pars[0].append(common_param | param | {'res': res, 'time': perf_counter() - t}, ignore_index=True)\n",
      "\u001b[32m[I 2022-12-14 09:51:47,811]\u001b[0m Trial 96 finished with value: 0.7328678515367919 and parameters: {'objective': 'CrossEntropy', 'colsample_bylevel': 0.1178546655427686, 'depth': 11, 'boosting_type': 'Plain', 'bootstrap_type': 'Bernoulli', 'iterations': 1842, 'leaf_estimation_backtracking': 'No', 'l2_leaf_reg': 0.5733022088573487, 'subsample': 0.10114043908709201}. Best is trial 26 with value: 0.7328795263180226.\u001b[0m\n"
     ]
    },
    {
     "name": "stdout",
     "output_type": "stream",
     "text": [
      "0.7328678515367919 8.631300900000042 seconds\n"
     ]
    },
    {
     "name": "stderr",
     "output_type": "stream",
     "text": [
      "C:\\Users\\user\\AppData\\Local\\Temp\\ipykernel_2684\\2085184799.py:45: FutureWarning: The frame.append method is deprecated and will be removed from pandas in a future version. Use pandas.concat instead.\n",
      "  pars[0] = pars[0].append(common_param | param | {'res': res, 'time': perf_counter() - t}, ignore_index=True)\n",
      "\u001b[32m[I 2022-12-14 09:51:56,078]\u001b[0m Trial 97 finished with value: 0.7328436045302983 and parameters: {'objective': 'CrossEntropy', 'colsample_bylevel': 0.11833045277457044, 'depth': 11, 'boosting_type': 'Plain', 'bootstrap_type': 'Bernoulli', 'iterations': 1741, 'leaf_estimation_backtracking': 'No', 'l2_leaf_reg': 0.7278647667722987, 'subsample': 0.11011760462924952}. Best is trial 26 with value: 0.7328795263180226.\u001b[0m\n"
     ]
    },
    {
     "name": "stdout",
     "output_type": "stream",
     "text": [
      "0.7328436045302983 8.267665799999804 seconds\n"
     ]
    },
    {
     "name": "stderr",
     "output_type": "stream",
     "text": [
      "C:\\Users\\user\\AppData\\Local\\Temp\\ipykernel_2684\\2085184799.py:45: FutureWarning: The frame.append method is deprecated and will be removed from pandas in a future version. Use pandas.concat instead.\n",
      "  pars[0] = pars[0].append(common_param | param | {'res': res, 'time': perf_counter() - t}, ignore_index=True)\n",
      "\u001b[32m[I 2022-12-14 09:52:04,531]\u001b[0m Trial 98 finished with value: 0.7328078602739873 and parameters: {'objective': 'CrossEntropy', 'colsample_bylevel': 0.1092899885599692, 'depth': 11, 'boosting_type': 'Plain', 'bootstrap_type': 'Bernoulli', 'iterations': 1781, 'leaf_estimation_backtracking': 'No', 'l2_leaf_reg': 3.06373295953629, 'subsample': 0.13050963253380726}. Best is trial 26 with value: 0.7328795263180226.\u001b[0m\n"
     ]
    },
    {
     "name": "stdout",
     "output_type": "stream",
     "text": [
      "0.7328078602739873 8.456056799999942 seconds\n"
     ]
    },
    {
     "name": "stderr",
     "output_type": "stream",
     "text": [
      "C:\\Users\\user\\AppData\\Local\\Temp\\ipykernel_2684\\2085184799.py:45: FutureWarning: The frame.append method is deprecated and will be removed from pandas in a future version. Use pandas.concat instead.\n",
      "  pars[0] = pars[0].append(common_param | param | {'res': res, 'time': perf_counter() - t}, ignore_index=True)\n",
      "\u001b[32m[I 2022-12-14 09:52:13,266]\u001b[0m Trial 99 finished with value: 0.7327450988344085 and parameters: {'objective': 'CrossEntropy', 'colsample_bylevel': 0.07324466496034578, 'depth': 11, 'boosting_type': 'Plain', 'bootstrap_type': 'Bernoulli', 'iterations': 1840, 'leaf_estimation_backtracking': 'No', 'l2_leaf_reg': 1.6491650689167847, 'subsample': 0.17904498859689097}. Best is trial 26 with value: 0.7328795263180226.\u001b[0m\n"
     ]
    },
    {
     "name": "stdout",
     "output_type": "stream",
     "text": [
      "0.7327450988344085 8.732876199999964 seconds\n"
     ]
    }
   ],
   "source": [
    "study = optuna.create_study(sampler=TPESampler(), direction='maximize')\n",
    "# while True:\n",
    "for _ in range(100):\n",
    "    study.optimize(objective, n_trials=1, n_jobs=1)\n",
    "    write(PATH['catboost_tune_pars'], pars[0])"
   ]
  },
  {
   "cell_type": "code",
   "execution_count": 25,
   "id": "bc354c2b-72b0-429c-b2ab-b517827c7ec9",
   "metadata": {},
   "outputs": [],
   "source": [
    "dfs = dict()\n",
    "best = []\n",
    "for file in PATH['catboost_tune_pars'].parent.glob(PATH['catboost_tune_pars'].stem + '*'):\n",
    "    df = read(file)\n",
    "    df['res'] = df['res'].apply(np.mean)\n",
    "    df = df.sort_values('res', ascending=False)\n",
    "    best.append(df.iloc[0])\n",
    "    dfs[file.stem.split('_')[-1]] = df"
   ]
  },
  {
   "cell_type": "code",
   "execution_count": 28,
   "id": "6d36f3fa-269a-4e66-ac14-1a6a4f7e3a92",
   "metadata": {},
   "outputs": [
    {
     "data": {
      "text/html": [
       "<div>\n",
       "<style scoped>\n",
       "    .dataframe tbody tr th:only-of-type {\n",
       "        vertical-align: middle;\n",
       "    }\n",
       "\n",
       "    .dataframe tbody tr th {\n",
       "        vertical-align: top;\n",
       "    }\n",
       "\n",
       "    .dataframe thead th {\n",
       "        text-align: right;\n",
       "    }\n",
       "</style>\n",
       "<table border=\"1\" class=\"dataframe\">\n",
       "  <thead>\n",
       "    <tr style=\"text-align: right;\">\n",
       "      <th></th>\n",
       "      <th>verbose</th>\n",
       "      <th>random_state</th>\n",
       "      <th>objective</th>\n",
       "      <th>colsample_bylevel</th>\n",
       "      <th>depth</th>\n",
       "      <th>boosting_type</th>\n",
       "      <th>bootstrap_type</th>\n",
       "      <th>iterations</th>\n",
       "      <th>leaf_estimation_backtracking</th>\n",
       "      <th>l2_leaf_reg</th>\n",
       "      <th>res</th>\n",
       "      <th>time</th>\n",
       "      <th>subsample</th>\n",
       "      <th>bagging_temperature</th>\n",
       "    </tr>\n",
       "  </thead>\n",
       "  <tbody>\n",
       "    <tr>\n",
       "      <th>685</th>\n",
       "      <td>0</td>\n",
       "      <td>0</td>\n",
       "      <td>Logloss</td>\n",
       "      <td>0.093803</td>\n",
       "      <td>5</td>\n",
       "      <td>Ordered</td>\n",
       "      <td>Bernoulli</td>\n",
       "      <td>1624</td>\n",
       "      <td>AnyImprovement</td>\n",
       "      <td>15.159738</td>\n",
       "      <td>0.675632</td>\n",
       "      <td>43.689904</td>\n",
       "      <td>0.142875</td>\n",
       "      <td>NaN</td>\n",
       "    </tr>\n",
       "    <tr>\n",
       "      <th>79</th>\n",
       "      <td>0</td>\n",
       "      <td>0</td>\n",
       "      <td>Logloss</td>\n",
       "      <td>0.119052</td>\n",
       "      <td>11</td>\n",
       "      <td>Ordered</td>\n",
       "      <td>Bernoulli</td>\n",
       "      <td>1380</td>\n",
       "      <td>No</td>\n",
       "      <td>7.508226</td>\n",
       "      <td>0.732897</td>\n",
       "      <td>18.739581</td>\n",
       "      <td>0.113953</td>\n",
       "      <td>NaN</td>\n",
       "    </tr>\n",
       "    <tr>\n",
       "      <th>126</th>\n",
       "      <td>0</td>\n",
       "      <td>0</td>\n",
       "      <td>Logloss</td>\n",
       "      <td>0.114089</td>\n",
       "      <td>5</td>\n",
       "      <td>Ordered</td>\n",
       "      <td>Bernoulli</td>\n",
       "      <td>1975</td>\n",
       "      <td>AnyImprovement</td>\n",
       "      <td>1.379904</td>\n",
       "      <td>0.896922</td>\n",
       "      <td>58.913446</td>\n",
       "      <td>0.134022</td>\n",
       "      <td>NaN</td>\n",
       "    </tr>\n",
       "  </tbody>\n",
       "</table>\n",
       "</div>"
      ],
      "text/plain": [
       "    verbose random_state objective colsample_bylevel depth boosting_type  \\\n",
       "685       0            0   Logloss          0.093803     5       Ordered   \n",
       "79        0            0   Logloss          0.119052    11       Ordered   \n",
       "126       0            0   Logloss          0.114089     5       Ordered   \n",
       "\n",
       "    bootstrap_type iterations leaf_estimation_backtracking l2_leaf_reg  \\\n",
       "685      Bernoulli       1624               AnyImprovement   15.159738   \n",
       "79       Bernoulli       1380                           No    7.508226   \n",
       "126      Bernoulli       1975               AnyImprovement    1.379904   \n",
       "\n",
       "          res       time subsample bagging_temperature  \n",
       "685  0.675632  43.689904  0.142875                 NaN  \n",
       "79   0.732897  18.739581  0.113953                 NaN  \n",
       "126  0.896922  58.913446  0.134022                 NaN  "
      ]
     },
     "execution_count": 28,
     "metadata": {},
     "output_type": "execute_result"
    }
   ],
   "source": [
    "pd.concat(best, axis=1).T"
   ]
  }
 ],
 "metadata": {
  "kernelspec": {
   "display_name": "Python 3 (ipykernel)",
   "language": "python",
   "name": "python3"
  },
  "language_info": {
   "codemirror_mode": {
    "name": "ipython",
    "version": 3
   },
   "file_extension": ".py",
   "mimetype": "text/x-python",
   "name": "python",
   "nbconvert_exporter": "python",
   "pygments_lexer": "ipython3",
   "version": "3.9.12"
  }
 },
 "nbformat": 4,
 "nbformat_minor": 5
}
