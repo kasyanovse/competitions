{
 "cells": [
  {
   "cell_type": "code",
   "execution_count": 1,
   "id": "dd66e863-2ca9-423e-b7c4-03df67b6fcdb",
   "metadata": {},
   "outputs": [],
   "source": [
    "from math import ceil\n",
    "from pathlib import Path\n",
    "import sys\n",
    "\n",
    "sys.path.insert(0, str(Path().absolute().parent))"
   ]
  },
  {
   "cell_type": "code",
   "execution_count": 2,
   "id": "308c24e4-ccb8-4476-8671-0bddb37d7d6b",
   "metadata": {},
   "outputs": [],
   "source": [
    "import numpy as np\n",
    "import pandas as pd\n",
    "import matplotlib.pyplot as plt\n",
    "from tqdm.notebook import tqdm\n",
    "from PIL import Image"
   ]
  },
  {
   "cell_type": "code",
   "execution_count": 3,
   "id": "61735811-2c5a-47dc-94e5-001d03406079",
   "metadata": {},
   "outputs": [],
   "source": [
    "from sklearn.metrics import confusion_matrix\n",
    "from sklearn.model_selection import train_test_split\n",
    "from sklearn.decomposition import PCA\n",
    "from catboost import CatBoostClassifier"
   ]
  },
  {
   "cell_type": "code",
   "execution_count": 4,
   "id": "ef1c3885-1180-483d-91f3-eeb789e70d31",
   "metadata": {},
   "outputs": [],
   "source": [
    "from settings import PATH, SETTINGS\n",
    "from utils import *\n",
    "from data_convert import process_data_approach_2\n",
    "from catboost_approach import MyCB, MyCBR"
   ]
  },
  {
   "cell_type": "code",
   "execution_count": 5,
   "id": "5ff3dcac-1c6c-41c9-85f3-4b9fceccc787",
   "metadata": {},
   "outputs": [
    {
     "data": {
      "application/vnd.jupyter.widget-view+json": {
       "model_id": "b16e1df6e66d496994555ff0a4c48697",
       "version_major": 2,
       "version_minor": 0
      },
      "text/plain": [
       "  0%|          | 0/66400 [00:00<?, ?it/s]"
      ]
     },
     "metadata": {},
     "output_type": "display_data"
    },
    {
     "name": "stdout",
     "output_type": "stream",
     "text": [
      "Wall time: 1min 10s\n"
     ]
    },
    {
     "data": {
      "text/html": [
       "<div>\n",
       "<style scoped>\n",
       "    .dataframe tbody tr th:only-of-type {\n",
       "        vertical-align: middle;\n",
       "    }\n",
       "\n",
       "    .dataframe tbody tr th {\n",
       "        vertical-align: top;\n",
       "    }\n",
       "\n",
       "    .dataframe thead th {\n",
       "        text-align: right;\n",
       "    }\n",
       "</style>\n",
       "<table border=\"1\" class=\"dataframe\">\n",
       "  <thead>\n",
       "    <tr style=\"text-align: right;\">\n",
       "      <th></th>\n",
       "      <th>1</th>\n",
       "      <th>2</th>\n",
       "      <th>target</th>\n",
       "    </tr>\n",
       "    <tr>\n",
       "      <th>id</th>\n",
       "      <th></th>\n",
       "      <th></th>\n",
       "      <th></th>\n",
       "    </tr>\n",
       "  </thead>\n",
       "  <tbody>\n",
       "    <tr>\n",
       "      <th>cac1_1000_0</th>\n",
       "      <td>5.925171e-10</td>\n",
       "      <td>2.312048e-10</td>\n",
       "      <td>0</td>\n",
       "    </tr>\n",
       "    <tr>\n",
       "      <th>cac1_1000_1</th>\n",
       "      <td>6.045129e-10</td>\n",
       "      <td>2.551607e-10</td>\n",
       "      <td>0</td>\n",
       "    </tr>\n",
       "    <tr>\n",
       "      <th>cac1_1001_0</th>\n",
       "      <td>5.885792e-10</td>\n",
       "      <td>2.175495e-10</td>\n",
       "      <td>1</td>\n",
       "    </tr>\n",
       "    <tr>\n",
       "      <th>cac1_1001_1</th>\n",
       "      <td>5.877607e-10</td>\n",
       "      <td>2.148453e-10</td>\n",
       "      <td>1</td>\n",
       "    </tr>\n",
       "    <tr>\n",
       "      <th>cac1_1002_0</th>\n",
       "      <td>5.841881e-10</td>\n",
       "      <td>1.980637e-10</td>\n",
       "      <td>0</td>\n",
       "    </tr>\n",
       "    <tr>\n",
       "      <th>...</th>\n",
       "      <td>...</td>\n",
       "      <td>...</td>\n",
       "      <td>...</td>\n",
       "    </tr>\n",
       "    <tr>\n",
       "      <th>kas2_997_1</th>\n",
       "      <td>6.107950e-10</td>\n",
       "      <td>3.559764e-10</td>\n",
       "      <td>0</td>\n",
       "    </tr>\n",
       "    <tr>\n",
       "      <th>kas2_998_0</th>\n",
       "      <td>6.738095e-10</td>\n",
       "      <td>6.202334e-10</td>\n",
       "      <td>1</td>\n",
       "    </tr>\n",
       "    <tr>\n",
       "      <th>kas2_998_1</th>\n",
       "      <td>6.176708e-10</td>\n",
       "      <td>3.825910e-10</td>\n",
       "      <td>1</td>\n",
       "    </tr>\n",
       "    <tr>\n",
       "      <th>kas2_999_0</th>\n",
       "      <td>6.000758e-10</td>\n",
       "      <td>2.660702e-10</td>\n",
       "      <td>0</td>\n",
       "    </tr>\n",
       "    <tr>\n",
       "      <th>kas2_999_1</th>\n",
       "      <td>5.815854e-10</td>\n",
       "      <td>1.926657e-10</td>\n",
       "      <td>0</td>\n",
       "    </tr>\n",
       "  </tbody>\n",
       "</table>\n",
       "<p>66400 rows × 3 columns</p>\n",
       "</div>"
      ],
      "text/plain": [
       "                        1             2  target\n",
       "id                                             \n",
       "cac1_1000_0  5.925171e-10  2.312048e-10       0\n",
       "cac1_1000_1  6.045129e-10  2.551607e-10       0\n",
       "cac1_1001_0  5.885792e-10  2.175495e-10       1\n",
       "cac1_1001_1  5.877607e-10  2.148453e-10       1\n",
       "cac1_1002_0  5.841881e-10  1.980637e-10       0\n",
       "...                   ...           ...     ...\n",
       "kas2_997_1   6.107950e-10  3.559764e-10       0\n",
       "kas2_998_0   6.738095e-10  6.202334e-10       1\n",
       "kas2_998_1   6.176708e-10  3.825910e-10       1\n",
       "kas2_999_0   6.000758e-10  2.660702e-10       0\n",
       "kas2_999_1   5.815854e-10  1.926657e-10       0\n",
       "\n",
       "[66400 rows x 3 columns]"
      ]
     },
     "execution_count": 5,
     "metadata": {},
     "output_type": "execute_result"
    }
   ],
   "source": [
    "%%time\n",
    "MyCB(tqdm=tqdm).read_data(force=True)"
   ]
  },
  {
   "cell_type": "code",
   "execution_count": 6,
   "id": "4e629be7-c26c-4d83-b964-5c47513413f9",
   "metadata": {},
   "outputs": [
    {
     "name": "stdout",
     "output_type": "stream",
     "text": [
      "0 0.7543657329438858\n",
      "50 0.9763697532700608\n",
      "100 0.9966732838320045\n",
      "Wall time: 1min 13s\n"
     ]
    }
   ],
   "source": [
    "%%time\n",
    "for edge in (0, 50, 100):\n",
    "    model = MyCB(edge=edge)\n",
    "    model.read_data()\n",
    "    model.fit(*model.my_train)\n",
    "    print(edge, model.score(*model.my_data))"
   ]
  },
  {
   "cell_type": "code",
   "execution_count": 7,
   "id": "e5f0167e-5875-4ced-ac72-5550365cc738",
   "metadata": {},
   "outputs": [
    {
     "name": "stdout",
     "output_type": "stream",
     "text": [
      "Wall time: 2.98 s\n"
     ]
    },
    {
     "data": {
      "text/plain": [
       "0.8353423042052497"
      ]
     },
     "execution_count": 7,
     "metadata": {},
     "output_type": "execute_result"
    }
   ],
   "source": [
    "%%time\n",
    "model = MyCBR(drop_0=True)\n",
    "model.read_data()\n",
    "model.fit(*model.my_train)\n",
    "model.score(*model.my_data)"
   ]
  }
 ],
 "metadata": {
  "kernelspec": {
   "display_name": "Python 3 (ipykernel)",
   "language": "python",
   "name": "python3"
  },
  "language_info": {
   "codemirror_mode": {
    "name": "ipython",
    "version": 3
   },
   "file_extension": ".py",
   "mimetype": "text/x-python",
   "name": "python",
   "nbconvert_exporter": "python",
   "pygments_lexer": "ipython3",
   "version": "3.9.12"
  }
 },
 "nbformat": 4,
 "nbformat_minor": 5
}
