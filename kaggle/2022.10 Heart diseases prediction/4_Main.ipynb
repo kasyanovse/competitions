{
 "cells": [
  {
   "cell_type": "markdown",
   "id": "5f827bfa-ae40-4f20-8afe-8b39b11930af",
   "metadata": {},
   "source": [
    "# Основной блокнот\n",
    "\n",
    "Здесь просиходит работа с финальной моделью: множественные расчеты с различными random state, наборами гиперпараметров и количеством данных в обучающей выборке. Весь блокнот - один большой эксперимент, я просто решил попробовать такой подход и посмотреть к чему он может привести. В работе используются файлы .pickle для сохранения результатов. В словаре models хранятся результаты предсказаний, а не модели))\n",
    "\n",
    "- **Используемая модель**: CatBoostClassifier.\n",
    "- **Набор признаков**: из блокнота `1_EDA`, без учета результатов, полученных в блокноте `2_Feature importance`.\n",
    "- **Гиперпараметры**: два набора, полученные в блокноте `3_Model tuning`."
   ]
  },
  {
   "cell_type": "code",
   "execution_count": 1,
   "id": "c89f3d1f-cff6-4558-959a-db60eccb2332",
   "metadata": {},
   "outputs": [],
   "source": [
    "from pathlib import Path\n",
    "from itertools import cycle"
   ]
  },
  {
   "cell_type": "code",
   "execution_count": 2,
   "id": "902b60f3-7001-4e4d-bbff-feeed955beff",
   "metadata": {},
   "outputs": [],
   "source": [
    "import numpy as np\n",
    "from scipy.stats import mvsdist\n",
    "import pandas as pd\n",
    "import matplotlib.pyplot as plt\n",
    "import seaborn as sns\n",
    "from joblib import Parallel, delayed\n",
    "from tqdm.notebook import tqdm"
   ]
  },
  {
   "cell_type": "code",
   "execution_count": 3,
   "id": "cc5ec124-1bb9-456d-a005-902d9c9154e9",
   "metadata": {},
   "outputs": [],
   "source": [
    "from sklearn.model_selection import cross_val_score, train_test_split"
   ]
  },
  {
   "cell_type": "code",
   "execution_count": 4,
   "id": "0715b581-9948-4cc4-b575-abaaa8a8bd7b",
   "metadata": {},
   "outputs": [],
   "source": [
    "from catboost import CatBoostClassifier"
   ]
  },
  {
   "cell_type": "code",
   "execution_count": 5,
   "id": "cb8ed403-da29-47f5-ba7f-0530d2de4f18",
   "metadata": {},
   "outputs": [],
   "source": [
    "from utils import RANDOM_SEED, GET_RANDINT, TARGET_FEATURE, FIG_SIZES, DFS_NAME, SCORER, FEATURE_NAMES, OPTUNA_STUDY_NAME\n",
    "from utils import read, write, split, score, test_bt, get_pars_from_tune_res, predict"
   ]
  },
  {
   "cell_type": "code",
   "execution_count": 6,
   "id": "b76bd0aa-5cc1-448a-a71a-aa483f8b303f",
   "metadata": {},
   "outputs": [],
   "source": [
    "pd.set_option('display.max_rows', 500)"
   ]
  },
  {
   "cell_type": "code",
   "execution_count": 7,
   "id": "1f1a4a5f-9f7d-433a-b633-a7587112ce77",
   "metadata": {},
   "outputs": [],
   "source": [
    "OPTUNA_STUDY_NAME = lambda x: Path(f\"opt_study_{x}.pickle\")\n",
    "RESULTS_FILE = Path('final_results.pickle')"
   ]
  },
  {
   "cell_type": "code",
   "execution_count": 8,
   "id": "14fd4fbe-e754-42e4-b4cc-7915cfd7a2ce",
   "metadata": {},
   "outputs": [],
   "source": [
    "dfs = read(DFS_NAME)"
   ]
  },
  {
   "cell_type": "code",
   "execution_count": 9,
   "id": "eb8213dc-be87-4724-9ac9-0bff6f1fa95c",
   "metadata": {},
   "outputs": [],
   "source": [
    "# best parameters \n",
    "best_pars = [{'objective': 'CrossEntropy', 'colsample_bylevel': 0.09594989535799456, 'depth': 7, 'boosting_type': 'Plain', 'bootstrap_type': 'Bernoulli', 'iterations': 681, 'leaf_estimation_backtracking': 'AnyImprovement', 'l2_leaf_reg': 11.763500335067127, 'subsample': 0.3877403137593198},\n",
    "             {'objective': 'CrossEntropy', 'colsample_bylevel': 0.08736503656800522, 'depth': 8, 'boosting_type': 'Plain', 'bootstrap_type': 'Bernoulli', 'iterations': 552, 'leaf_estimation_backtracking': 'AnyImprovement', 'l2_leaf_reg': 10.247584494626794, 'subsample': 0.4153110517083678},\n",
    "             ]"
   ]
  },
  {
   "cell_type": "code",
   "execution_count": 10,
   "id": "6b82d343-bffa-4936-b569-b67b61430385",
   "metadata": {},
   "outputs": [
    {
     "name": "stdout",
     "output_type": "stream",
     "text": [
      "Wall time: 2.32 s\n"
     ]
    }
   ],
   "source": [
    "%%time\n",
    "n = 20\n",
    "df0 = dfs[0].dropna(subset=TARGET_FEATURE)\n",
    "cat_features = list(dfs[0].select_dtypes(include='category').columns)\n",
    "common_params = {'verbose': 0, 'cat_features': cat_features,}\n",
    "model_class = CatBoostClassifier\n",
    "\n",
    "if RESULTS_FILE.exists():\n",
    "    results, params, models = read(RESULTS_FILE)\n",
    "else:\n",
    "    results = []\n",
    "    params = get_pars_from_tune_res('cb_31', max_num_of_params=1) + get_pars_from_tune_res('cb_32', max_num_of_params=1)\n",
    "    models = dict()\n",
    "\n",
    "res = pd.DataFrame(results)\n",
    "for train_size in set(list(res.groupby('train_size').count()['test'].sort_values().index if res.shape[0] > 0 else []) + list(range(20000, 60001, 1000))):\n",
    "    full_size = int(70e3)\n",
    "    test_size = full_size - train_size\n",
    "\n",
    "    golden_seeds = [407474355, 496946112, 494008192, 610852409, 762885827, 995250534, 840826917, 527255374, 629559425]\n",
    "    tried_seeds = list(set([x['seed'] for x in results if x['train_size'] == train_size]))\n",
    "    new_seeds = [x for x in golden_seeds if x not in tried_seeds]\n",
    "    while len(new_seeds) < n:\n",
    "        seed = GET_RANDINT()\n",
    "        if seed not in tried_seeds:\n",
    "            new_seeds.append(seed)\n",
    "\n",
    "    print(f\"there are {len(tried_seeds)} seeds in tried_seeds and {len(new_seeds)} in new_seeds\")\n",
    "\n",
    "    k = 20\n",
    "    seed_chunks = [new_seeds[i:i + k] for i in range(0, len(new_seeds), k)]\n",
    "    for i_seed_chunk, seed_chunk in enumerate(seed_chunks):\n",
    "        print(f\"{i_seed_chunk} / {len(seed_chunks)}\")\n",
    "        # print(seed_chunk)\n",
    "        for seed in tqdm(seed_chunk):\n",
    "            for par_num, param in enumerate(params):\n",
    "                df_1, df_2 = train_test_split(df0, test_size=test_size / full_size, random_state=seed, stratify=df0[TARGET_FEATURE])\n",
    "                model = model_class(**(common_params | param | {'random_state': seed}))\n",
    "                model.fit(*split(df_1))\n",
    "                models[(seed, par_num, train_size)] = predict(model, df=dfs[-1])\n",
    "                m, _, _ = mvsdist(test_bt(model, df_2))\n",
    "                results.append({'train': score(model, df_1), 'test': m.mean(), 'std': m.std(), 'par_num': par_num, 'seed': seed, 'train_size': train_size})\n",
    "    write(RESULTS_FILE, (results, params, models))"
   ]
  },
  {
   "cell_type": "code",
   "execution_count": 11,
   "id": "30a1a34f-74a9-45f9-83d5-5ee516da1f26",
   "metadata": {},
   "outputs": [],
   "source": [
    "write(RESULTS_FILE, (results, params, models))"
   ]
  },
  {
   "cell_type": "code",
   "execution_count": 12,
   "id": "d78b3013-fa03-4330-936c-77718852c644",
   "metadata": {},
   "outputs": [
    {
     "data": {
      "text/html": [
       "<div>\n",
       "<style scoped>\n",
       "    .dataframe tbody tr th:only-of-type {\n",
       "        vertical-align: middle;\n",
       "    }\n",
       "\n",
       "    .dataframe tbody tr th {\n",
       "        vertical-align: top;\n",
       "    }\n",
       "\n",
       "    .dataframe thead th {\n",
       "        text-align: right;\n",
       "    }\n",
       "</style>\n",
       "<table border=\"1\" class=\"dataframe\">\n",
       "  <thead>\n",
       "    <tr style=\"text-align: right;\">\n",
       "      <th></th>\n",
       "      <th>train</th>\n",
       "      <th>test</th>\n",
       "      <th>std</th>\n",
       "    </tr>\n",
       "    <tr>\n",
       "      <th>par_num</th>\n",
       "      <th></th>\n",
       "      <th></th>\n",
       "      <th></th>\n",
       "    </tr>\n",
       "  </thead>\n",
       "  <tbody>\n",
       "    <tr>\n",
       "      <th>0</th>\n",
       "      <td>0.814184</td>\n",
       "      <td>0.802937</td>\n",
       "      <td>0.002792</td>\n",
       "    </tr>\n",
       "    <tr>\n",
       "      <th>1</th>\n",
       "      <td>0.813650</td>\n",
       "      <td>0.802675</td>\n",
       "      <td>0.002796</td>\n",
       "    </tr>\n",
       "  </tbody>\n",
       "</table>\n",
       "</div>"
      ],
      "text/plain": [
       "            train      test       std\n",
       "par_num                              \n",
       "0        0.814184  0.802937  0.002792\n",
       "1        0.813650  0.802675  0.002796"
      ]
     },
     "metadata": {},
     "output_type": "display_data"
    },
    {
     "data": {
      "text/html": [
       "<div>\n",
       "<style scoped>\n",
       "    .dataframe tbody tr th:only-of-type {\n",
       "        vertical-align: middle;\n",
       "    }\n",
       "\n",
       "    .dataframe tbody tr th {\n",
       "        vertical-align: top;\n",
       "    }\n",
       "\n",
       "    .dataframe thead th {\n",
       "        text-align: right;\n",
       "    }\n",
       "</style>\n",
       "<table border=\"1\" class=\"dataframe\">\n",
       "  <thead>\n",
       "    <tr style=\"text-align: right;\">\n",
       "      <th></th>\n",
       "      <th>train</th>\n",
       "      <th>test</th>\n",
       "      <th>std</th>\n",
       "    </tr>\n",
       "    <tr>\n",
       "      <th>train_size</th>\n",
       "      <th></th>\n",
       "      <th></th>\n",
       "      <th></th>\n",
       "    </tr>\n",
       "  </thead>\n",
       "  <tbody>\n",
       "    <tr>\n",
       "      <th>45000</th>\n",
       "      <td>0.811748</td>\n",
       "      <td>0.803300</td>\n",
       "      <td>0.002757</td>\n",
       "    </tr>\n",
       "    <tr>\n",
       "      <th>30000</th>\n",
       "      <td>0.814138</td>\n",
       "      <td>0.803025</td>\n",
       "      <td>0.002767</td>\n",
       "    </tr>\n",
       "    <tr>\n",
       "      <th>38000</th>\n",
       "      <td>0.812494</td>\n",
       "      <td>0.803067</td>\n",
       "      <td>0.002776</td>\n",
       "    </tr>\n",
       "    <tr>\n",
       "      <th>23000</th>\n",
       "      <td>0.816211</td>\n",
       "      <td>0.802273</td>\n",
       "      <td>0.002780</td>\n",
       "    </tr>\n",
       "    <tr>\n",
       "      <th>36000</th>\n",
       "      <td>0.812702</td>\n",
       "      <td>0.803231</td>\n",
       "      <td>0.002781</td>\n",
       "    </tr>\n",
       "    <tr>\n",
       "      <th>50000</th>\n",
       "      <td>0.811276</td>\n",
       "      <td>0.803361</td>\n",
       "      <td>0.002782</td>\n",
       "    </tr>\n",
       "    <tr>\n",
       "      <th>28000</th>\n",
       "      <td>0.814766</td>\n",
       "      <td>0.802669</td>\n",
       "      <td>0.002784</td>\n",
       "    </tr>\n",
       "    <tr>\n",
       "      <th>40000</th>\n",
       "      <td>0.812509</td>\n",
       "      <td>0.803000</td>\n",
       "      <td>0.002785</td>\n",
       "    </tr>\n",
       "    <tr>\n",
       "      <th>34000</th>\n",
       "      <td>0.813293</td>\n",
       "      <td>0.802831</td>\n",
       "      <td>0.002789</td>\n",
       "    </tr>\n",
       "    <tr>\n",
       "      <th>39000</th>\n",
       "      <td>0.812337</td>\n",
       "      <td>0.803405</td>\n",
       "      <td>0.002791</td>\n",
       "    </tr>\n",
       "    <tr>\n",
       "      <th>24000</th>\n",
       "      <td>0.815945</td>\n",
       "      <td>0.802276</td>\n",
       "      <td>0.002793</td>\n",
       "    </tr>\n",
       "    <tr>\n",
       "      <th>31000</th>\n",
       "      <td>0.813637</td>\n",
       "      <td>0.803010</td>\n",
       "      <td>0.002794</td>\n",
       "    </tr>\n",
       "    <tr>\n",
       "      <th>33000</th>\n",
       "      <td>0.813858</td>\n",
       "      <td>0.802659</td>\n",
       "      <td>0.002802</td>\n",
       "    </tr>\n",
       "    <tr>\n",
       "      <th>29000</th>\n",
       "      <td>0.814321</td>\n",
       "      <td>0.802760</td>\n",
       "      <td>0.002803</td>\n",
       "    </tr>\n",
       "    <tr>\n",
       "      <th>26000</th>\n",
       "      <td>0.815197</td>\n",
       "      <td>0.802469</td>\n",
       "      <td>0.002805</td>\n",
       "    </tr>\n",
       "    <tr>\n",
       "      <th>37000</th>\n",
       "      <td>0.812646</td>\n",
       "      <td>0.803281</td>\n",
       "      <td>0.002806</td>\n",
       "    </tr>\n",
       "    <tr>\n",
       "      <th>32000</th>\n",
       "      <td>0.813598</td>\n",
       "      <td>0.803106</td>\n",
       "      <td>0.002808</td>\n",
       "    </tr>\n",
       "    <tr>\n",
       "      <th>35000</th>\n",
       "      <td>0.813030</td>\n",
       "      <td>0.802974</td>\n",
       "      <td>0.002809</td>\n",
       "    </tr>\n",
       "    <tr>\n",
       "      <th>27000</th>\n",
       "      <td>0.814664</td>\n",
       "      <td>0.802627</td>\n",
       "      <td>0.002813</td>\n",
       "    </tr>\n",
       "    <tr>\n",
       "      <th>22000</th>\n",
       "      <td>0.816711</td>\n",
       "      <td>0.802275</td>\n",
       "      <td>0.002813</td>\n",
       "    </tr>\n",
       "    <tr>\n",
       "      <th>21000</th>\n",
       "      <td>0.816980</td>\n",
       "      <td>0.802216</td>\n",
       "      <td>0.002815</td>\n",
       "    </tr>\n",
       "    <tr>\n",
       "      <th>20000</th>\n",
       "      <td>0.817611</td>\n",
       "      <td>0.801750</td>\n",
       "      <td>0.002815</td>\n",
       "    </tr>\n",
       "    <tr>\n",
       "      <th>25000</th>\n",
       "      <td>0.815515</td>\n",
       "      <td>0.802394</td>\n",
       "      <td>0.002816</td>\n",
       "    </tr>\n",
       "  </tbody>\n",
       "</table>\n",
       "</div>"
      ],
      "text/plain": [
       "               train      test       std\n",
       "train_size                              \n",
       "45000       0.811748  0.803300  0.002757\n",
       "30000       0.814138  0.803025  0.002767\n",
       "38000       0.812494  0.803067  0.002776\n",
       "23000       0.816211  0.802273  0.002780\n",
       "36000       0.812702  0.803231  0.002781\n",
       "50000       0.811276  0.803361  0.002782\n",
       "28000       0.814766  0.802669  0.002784\n",
       "40000       0.812509  0.803000  0.002785\n",
       "34000       0.813293  0.802831  0.002789\n",
       "39000       0.812337  0.803405  0.002791\n",
       "24000       0.815945  0.802276  0.002793\n",
       "31000       0.813637  0.803010  0.002794\n",
       "33000       0.813858  0.802659  0.002802\n",
       "29000       0.814321  0.802760  0.002803\n",
       "26000       0.815197  0.802469  0.002805\n",
       "37000       0.812646  0.803281  0.002806\n",
       "32000       0.813598  0.803106  0.002808\n",
       "35000       0.813030  0.802974  0.002809\n",
       "27000       0.814664  0.802627  0.002813\n",
       "22000       0.816711  0.802275  0.002813\n",
       "21000       0.816980  0.802216  0.002815\n",
       "20000       0.817611  0.801750  0.002815\n",
       "25000       0.815515  0.802394  0.002816"
      ]
     },
     "metadata": {},
     "output_type": "display_data"
    }
   ],
   "source": [
    "res = pd.DataFrame(results)\n",
    "res['delta'] = res['train'] - res['test']\n",
    "display(res.groupby('par_num').mean()[['train', 'test', 'std']].sort_values('test', ascending=False))\n",
    "display(res.groupby('train_size').mean()[['train', 'test', 'std']].sort_values('std', ascending=True))"
   ]
  },
  {
   "cell_type": "code",
   "execution_count": 13,
   "id": "dca99de0-c145-43b9-8563-754766d5fe03",
   "metadata": {},
   "outputs": [
    {
     "data": {
      "text/plain": [
       "<AxesSubplot:xlabel='train_size'>"
      ]
     },
     "execution_count": 13,
     "metadata": {},
     "output_type": "execute_result"
    },
    {
     "data": {
      "image/png": "[encoded data removed]",
      "text/plain": [
       "<Figure size 432x288 with 1 Axes>"
      ]
     },
     "metadata": {
      "needs_background": "light"
     },
     "output_type": "display_data"
    },
    {
     "data": {
      "image/png": "[encoded data removed]",
      "text/plain": [
       "<Figure size 432x288 with 1 Axes>"
      ]
     },
     "metadata": {
      "needs_background": "light"
     },
     "output_type": "display_data"
    }
   ],
   "source": [
    "# mean test result and mean test result std versus train sample size\n",
    "res.groupby('train_size').mean()[['test']].plot()\n",
    "res.groupby('train_size').mean()[['std']].plot()"
   ]
  },
  {
   "cell_type": "code",
   "execution_count": 14,
   "id": "40d760c1-dfe1-4f20-90d7-cfa219c0e043",
   "metadata": {},
   "outputs": [
    {
     "data": {
      "text/html": [
       "<div>\n",
       "<style scoped>\n",
       "    .dataframe tbody tr th:only-of-type {\n",
       "        vertical-align: middle;\n",
       "    }\n",
       "\n",
       "    .dataframe tbody tr th {\n",
       "        vertical-align: top;\n",
       "    }\n",
       "\n",
       "    .dataframe thead th {\n",
       "        text-align: right;\n",
       "    }\n",
       "</style>\n",
       "<table border=\"1\" class=\"dataframe\">\n",
       "  <thead>\n",
       "    <tr style=\"text-align: right;\">\n",
       "      <th></th>\n",
       "      <th>train</th>\n",
       "      <th>test</th>\n",
       "      <th>std</th>\n",
       "      <th>par_num</th>\n",
       "      <th>seed</th>\n",
       "      <th>train_size</th>\n",
       "      <th>delta</th>\n",
       "    </tr>\n",
       "  </thead>\n",
       "  <tbody>\n",
       "    <tr>\n",
       "      <th>2207</th>\n",
       "      <td>0.810288</td>\n",
       "      <td>0.811072</td>\n",
       "      <td>0.001887</td>\n",
       "      <td>1</td>\n",
       "      <td>629559425</td>\n",
       "      <td>40000</td>\n",
       "      <td>-0.000784</td>\n",
       "    </tr>\n",
       "    <tr>\n",
       "      <th>7688</th>\n",
       "      <td>0.814556</td>\n",
       "      <td>0.808565</td>\n",
       "      <td>0.001930</td>\n",
       "      <td>1</td>\n",
       "      <td>425905667</td>\n",
       "      <td>24000</td>\n",
       "      <td>0.005991</td>\n",
       "    </tr>\n",
       "    <tr>\n",
       "      <th>7887</th>\n",
       "      <td>0.814732</td>\n",
       "      <td>0.810853</td>\n",
       "      <td>0.002035</td>\n",
       "      <td>0</td>\n",
       "      <td>527255374</td>\n",
       "      <td>30000</td>\n",
       "      <td>0.003879</td>\n",
       "    </tr>\n",
       "    <tr>\n",
       "      <th>741</th>\n",
       "      <td>0.814070</td>\n",
       "      <td>0.808281</td>\n",
       "      <td>0.002062</td>\n",
       "      <td>1</td>\n",
       "      <td>592322119</td>\n",
       "      <td>35000</td>\n",
       "      <td>0.005789</td>\n",
       "    </tr>\n",
       "    <tr>\n",
       "      <th>2093</th>\n",
       "      <td>0.808806</td>\n",
       "      <td>0.808069</td>\n",
       "      <td>0.002064</td>\n",
       "      <td>0</td>\n",
       "      <td>407474355</td>\n",
       "      <td>34000</td>\n",
       "      <td>0.000737</td>\n",
       "    </tr>\n",
       "  </tbody>\n",
       "</table>\n",
       "</div>"
      ],
      "text/plain": [
       "         train      test       std  par_num       seed  train_size     delta\n",
       "2207  0.810288  0.811072  0.001887        1  629559425       40000 -0.000784\n",
       "7688  0.814556  0.808565  0.001930        1  425905667       24000  0.005991\n",
       "7887  0.814732  0.810853  0.002035        0  527255374       30000  0.003879\n",
       "741   0.814070  0.808281  0.002062        1  592322119       35000  0.005789\n",
       "2093  0.808806  0.808069  0.002064        0  407474355       34000  0.000737"
      ]
     },
     "metadata": {},
     "output_type": "display_data"
    },
    {
     "data": {
      "text/html": [
       "<div>\n",
       "<style scoped>\n",
       "    .dataframe tbody tr th:only-of-type {\n",
       "        vertical-align: middle;\n",
       "    }\n",
       "\n",
       "    .dataframe tbody tr th {\n",
       "        vertical-align: top;\n",
       "    }\n",
       "\n",
       "    .dataframe thead th {\n",
       "        text-align: right;\n",
       "    }\n",
       "</style>\n",
       "<table border=\"1\" class=\"dataframe\">\n",
       "  <thead>\n",
       "    <tr style=\"text-align: right;\">\n",
       "      <th></th>\n",
       "      <th>train</th>\n",
       "      <th>test</th>\n",
       "      <th>std</th>\n",
       "      <th>par_num</th>\n",
       "      <th>seed</th>\n",
       "      <th>train_size</th>\n",
       "      <th>delta</th>\n",
       "    </tr>\n",
       "  </thead>\n",
       "  <tbody>\n",
       "    <tr>\n",
       "      <th>6525</th>\n",
       "      <td>0.819151</td>\n",
       "      <td>0.800191</td>\n",
       "      <td>0.001769</td>\n",
       "      <td>0</td>\n",
       "      <td>764422455</td>\n",
       "      <td>23000</td>\n",
       "      <td>0.018961</td>\n",
       "    </tr>\n",
       "    <tr>\n",
       "      <th>7582</th>\n",
       "      <td>0.812343</td>\n",
       "      <td>0.803279</td>\n",
       "      <td>0.001851</td>\n",
       "      <td>1</td>\n",
       "      <td>271757669</td>\n",
       "      <td>39000</td>\n",
       "      <td>0.009064</td>\n",
       "    </tr>\n",
       "    <tr>\n",
       "      <th>6645</th>\n",
       "      <td>0.814278</td>\n",
       "      <td>0.801631</td>\n",
       "      <td>0.001887</td>\n",
       "      <td>0</td>\n",
       "      <td>613536432</td>\n",
       "      <td>29000</td>\n",
       "      <td>0.012647</td>\n",
       "    </tr>\n",
       "    <tr>\n",
       "      <th>2207</th>\n",
       "      <td>0.810288</td>\n",
       "      <td>0.811072</td>\n",
       "      <td>0.001887</td>\n",
       "      <td>1</td>\n",
       "      <td>629559425</td>\n",
       "      <td>40000</td>\n",
       "      <td>-0.000784</td>\n",
       "    </tr>\n",
       "    <tr>\n",
       "      <th>3921</th>\n",
       "      <td>0.812393</td>\n",
       "      <td>0.807683</td>\n",
       "      <td>0.001914</td>\n",
       "      <td>0</td>\n",
       "      <td>710755558</td>\n",
       "      <td>21000</td>\n",
       "      <td>0.004710</td>\n",
       "    </tr>\n",
       "  </tbody>\n",
       "</table>\n",
       "</div>"
      ],
      "text/plain": [
       "         train      test       std  par_num       seed  train_size     delta\n",
       "6525  0.819151  0.800191  0.001769        0  764422455       23000  0.018961\n",
       "7582  0.812343  0.803279  0.001851        1  271757669       39000  0.009064\n",
       "6645  0.814278  0.801631  0.001887        0  613536432       29000  0.012647\n",
       "2207  0.810288  0.811072  0.001887        1  629559425       40000 -0.000784\n",
       "3921  0.812393  0.807683  0.001914        0  710755558       21000  0.004710"
      ]
     },
     "metadata": {},
     "output_type": "display_data"
    },
    {
     "data": {
      "text/html": [
       "<div>\n",
       "<style scoped>\n",
       "    .dataframe tbody tr th:only-of-type {\n",
       "        vertical-align: middle;\n",
       "    }\n",
       "\n",
       "    .dataframe tbody tr th {\n",
       "        vertical-align: top;\n",
       "    }\n",
       "\n",
       "    .dataframe thead th {\n",
       "        text-align: right;\n",
       "    }\n",
       "</style>\n",
       "<table border=\"1\" class=\"dataframe\">\n",
       "  <thead>\n",
       "    <tr style=\"text-align: right;\">\n",
       "      <th></th>\n",
       "      <th>train</th>\n",
       "      <th>test</th>\n",
       "      <th>std</th>\n",
       "      <th>par_num</th>\n",
       "      <th>seed</th>\n",
       "      <th>train_size</th>\n",
       "      <th>delta</th>\n",
       "    </tr>\n",
       "  </thead>\n",
       "  <tbody>\n",
       "    <tr>\n",
       "      <th>7358</th>\n",
       "      <td>0.809874</td>\n",
       "      <td>0.815326</td>\n",
       "      <td>0.002904</td>\n",
       "      <td>1</td>\n",
       "      <td>106712135</td>\n",
       "      <td>50000</td>\n",
       "      <td>-0.005453</td>\n",
       "    </tr>\n",
       "    <tr>\n",
       "      <th>1131</th>\n",
       "      <td>0.810986</td>\n",
       "      <td>0.814730</td>\n",
       "      <td>0.002785</td>\n",
       "      <td>0</td>\n",
       "      <td>952171343</td>\n",
       "      <td>33000</td>\n",
       "      <td>-0.003745</td>\n",
       "    </tr>\n",
       "    <tr>\n",
       "      <th>2253</th>\n",
       "      <td>0.810116</td>\n",
       "      <td>0.814569</td>\n",
       "      <td>0.002676</td>\n",
       "      <td>1</td>\n",
       "      <td>704211524</td>\n",
       "      <td>45000</td>\n",
       "      <td>-0.004453</td>\n",
       "    </tr>\n",
       "    <tr>\n",
       "      <th>7808</th>\n",
       "      <td>0.810020</td>\n",
       "      <td>0.814520</td>\n",
       "      <td>0.002691</td>\n",
       "      <td>1</td>\n",
       "      <td>262724298</td>\n",
       "      <td>37000</td>\n",
       "      <td>-0.004500</td>\n",
       "    </tr>\n",
       "    <tr>\n",
       "      <th>7299</th>\n",
       "      <td>0.810502</td>\n",
       "      <td>0.813876</td>\n",
       "      <td>0.002315</td>\n",
       "      <td>0</td>\n",
       "      <td>819433919</td>\n",
       "      <td>40000</td>\n",
       "      <td>-0.003374</td>\n",
       "    </tr>\n",
       "  </tbody>\n",
       "</table>\n",
       "</div>"
      ],
      "text/plain": [
       "         train      test       std  par_num       seed  train_size     delta\n",
       "7358  0.809874  0.815326  0.002904        1  106712135       50000 -0.005453\n",
       "1131  0.810986  0.814730  0.002785        0  952171343       33000 -0.003745\n",
       "2253  0.810116  0.814569  0.002676        1  704211524       45000 -0.004453\n",
       "7808  0.810020  0.814520  0.002691        1  262724298       37000 -0.004500\n",
       "7299  0.810502  0.813876  0.002315        0  819433919       40000 -0.003374"
      ]
     },
     "metadata": {},
     "output_type": "display_data"
    }
   ],
   "source": [
    "n = 5\n",
    "display(res[res['test'] > 0.808].sort_values(['std']).head(n))\n",
    "display(res.sort_values(['std']).head(n))\n",
    "display(res.sort_values(['test'], ascending=False).head(n))"
   ]
  },
  {
   "cell_type": "code",
   "execution_count": 15,
   "id": "f2456b92-ab78-4161-a40a-408a780dc809",
   "metadata": {},
   "outputs": [
    {
     "name": "stdout",
     "output_type": "stream",
     "text": [
      "407474355, 496946112, 494008192, 610852409, 762885827, 995250534, 840826917, 527255374, 629559425\n"
     ]
    }
   ],
   "source": [
    "# golden_seeds\n",
    "temp = res[(res['test'] >= 0.809) & (res['std'] <= 0.0022)]\n",
    "temp = temp.sort_values(['std'], ascending=False)['seed'].unique()\n",
    "print(*temp, sep=', ')"
   ]
  },
  {
   "cell_type": "code",
   "execution_count": 16,
   "id": "c75931a7-cdaf-4196-ad1f-f86c1fdfd401",
   "metadata": {},
   "outputs": [
    {
     "name": "stdout",
     "output_type": "stream",
     "text": [
      "         train      test       std  par_num         seed  train_size     delta\n",
      "7358  0.809874  0.815326  0.002904      1.0  106712135.0     50000.0 -0.005453\n"
     ]
    }
   ],
   "source": [
    "# prediction for best model\n",
    "temp = res.sort_values('test', ascending=False).iloc[0]\n",
    "print(temp.to_frame().T)\n",
    "models[(temp['seed'], temp['par_num'], temp['train_size'])].to_csv(f'submission_best.csv')"
   ]
  },
  {
   "cell_type": "code",
   "execution_count": 17,
   "id": "1d55bdcd-d0ce-4c2f-82a1-3dd856263fdf",
   "metadata": {},
   "outputs": [
    {
     "name": "stdout",
     "output_type": "stream",
     "text": [
      "         train      test       std  par_num         seed  train_size     delta\n",
      "2207  0.810288  0.811072  0.001887      1.0  629559425.0     40000.0 -0.000784\n"
     ]
    }
   ],
   "source": [
    "# prediction for model with lowest std of result on test\n",
    "temp = res[(res['test'] > 0.809)].sort_values('std').iloc[0]\n",
    "print(temp.to_frame().T)\n",
    "models[(temp['seed'], temp['par_num'], temp['train_size'])].to_csv(f'submission_less_std.csv')"
   ]
  },
  {
   "cell_type": "code",
   "execution_count": 18,
   "id": "00b88561-7ea8-4c90-889f-79edb3f22491",
   "metadata": {},
   "outputs": [
    {
     "data": {
      "text/plain": [
       "101"
      ]
     },
     "execution_count": 18,
     "metadata": {},
     "output_type": "execute_result"
    }
   ],
   "source": [
    "# handmade voting classifier\n",
    "def vote_classifier(models, name=''):\n",
    "    if isinstance(models, dict):\n",
    "        models = list(models.values())\n",
    "    vc = pd.concat(models, axis=1)\n",
    "    t = vc.mean(axis=1)\n",
    "    t.name = TARGET_FEATURE\n",
    "    t.to_csv(f'submission_vc{name}.csv')\n",
    "\n",
    "temp = res[(res['test'] > 0.8085) & (res['std'] < 0.019)].sort_values('std')\n",
    "vote_classifier([models[(x[1]['seed'], x[1]['par_num'], x[1]['train_size'])] for x in temp.iterrows()])\n",
    "vote_classifier([models[(x[1]['seed'], x[1]['par_num'], x[1]['train_size'])] for x in temp.iloc[:20].T.iteritems()], '_std_20')\n",
    "\n",
    "# num of difference in prediction between two voting classifiers\n",
    "t = pd.concat([pd.read_csv(x, index_col=0) for x in Path().glob('submission_vc*.csv')], axis=1)\n",
    "sum((t > 0.5).astype(int).diff(axis=1).iloc[:, -1] != 0)"
   ]
  },
  {
   "cell_type": "code",
   "execution_count": 19,
   "id": "2d1f7fca-5c73-497c-8c82-060efc8a6aab",
   "metadata": {},
   "outputs": [
    {
     "data": {
      "image/png": "[encoded data removed]",
      "text/plain": [
       "<Figure size 864x432 with 1 Axes>"
      ]
     },
     "metadata": {
      "needs_background": "light"
     },
     "output_type": "display_data"
    },
    {
     "data": {
      "text/plain": [
       "<AxesSubplot:xlabel='test', ylabel='Probability'>"
      ]
     },
     "execution_count": 19,
     "metadata": {},
     "output_type": "execute_result"
    },
    {
     "data": {
      "image/png": "[encoded data removed]",
      "text/plain": [
       "<Figure size 864x432 with 1 Axes>"
      ]
     },
     "metadata": {
      "needs_background": "light"
     },
     "output_type": "display_data"
    }
   ],
   "source": [
    "_, ax = plt.subplots(figsize=FIG_SIZES['normal'])\n",
    "sns.histplot(res[['train', 'test']], bins=100, ax=ax)\n",
    "plt.show()\n",
    "\n",
    "_, ax = plt.subplots(figsize=FIG_SIZES['normal'])\n",
    "temp = res.copy()\n",
    "temp['type'] = 0\n",
    "for edge in [30000, 40000]:\n",
    "    temp['type'] += (temp['train_size'] > edge).astype(int)\n",
    "sns.histplot(temp[['test', 'type']], x='test', hue='type', stat='probability', bins=50, ax=ax)"
   ]
  }
 ],
 "metadata": {
  "kernelspec": {
   "display_name": "Python 3 (ipykernel)",
   "language": "python",
   "name": "python3"
  },
  "language_info": {
   "codemirror_mode": {
    "name": "ipython",
    "version": 3
   },
   "file_extension": ".py",
   "mimetype": "text/x-python",
   "name": "python",
   "nbconvert_exporter": "python",
   "pygments_lexer": "ipython3",
   "version": "3.9.12"
  }
 },
 "nbformat": 4,
 "nbformat_minor": 5
}
