{
 "cells": [
  {
   "cell_type": "markdown",
   "id": "62208bfd-48bf-4302-a731-8bb1d8b5aada",
   "metadata": {},
   "source": [
    "# Первый подход\n",
    "\n",
    "Попытка решить задачу через небольшой набор фич и катбуст."
   ]
  },
  {
   "cell_type": "code",
   "execution_count": 1,
   "id": "ec2fa82a-c3c7-4ed8-808f-4d7466724c41",
   "metadata": {
    "tags": []
   },
   "outputs": [],
   "source": [
    "import numpy as np\n",
    "import pandas as pd"
   ]
  },
  {
   "cell_type": "code",
   "execution_count": 2,
   "id": "8bd04ce3-ad44-4518-b257-c9c014a2faac",
   "metadata": {
    "tags": []
   },
   "outputs": [],
   "source": [
    "from sklearn.model_selection import train_test_split\n",
    "from sklearn.metrics import confusion_matrix, f1_score, accuracy_score, classification_report\n",
    "from catboost import CatBoostClassifier, CatBoostRegressor"
   ]
  },
  {
   "cell_type": "code",
   "execution_count": 3,
   "id": "4ebda277-c41e-49c3-9264-52a7cc75113d",
   "metadata": {
    "tags": []
   },
   "outputs": [],
   "source": [
    "from settings import *\n",
    "from load import *\n",
    "from score import *\n",
    "from a1 import get_data"
   ]
  },
  {
   "cell_type": "code",
   "execution_count": 4,
   "id": "fed87048-f98b-415d-a3a6-5608ca738ffd",
   "metadata": {
    "tags": []
   },
   "outputs": [],
   "source": [
    "TEST_SIZE = 0.2"
   ]
  },
  {
   "cell_type": "code",
   "execution_count": 5,
   "id": "b8248478-be9c-49f5-b45f-6e9ac755f37c",
   "metadata": {
    "tags": []
   },
   "outputs": [
    {
     "name": "stdout",
     "output_type": "stream",
     "text": [
      "D:\\mts_cup\\data\\approach_1\\f_region_category.pickle\n"
     ]
    },
    {
     "name": "stderr",
     "output_type": "stream",
     "text": [
      "100%|█████████████████████████████████████████████████████████████████████| 415316/415316 [02:02<00:00, 3382.00it/s]\n"
     ]
    },
    {
     "name": "stdout",
     "output_type": "stream",
     "text": [
      "CPU times: total: 2min 9s\n",
      "Wall time: 2min 9s\n"
     ]
    },
    {
     "data": {
      "text/plain": [
       "(270000, 215)"
      ]
     },
     "execution_count": 5,
     "metadata": {},
     "output_type": "execute_result"
    }
   ],
   "source": [
    "%%time\n",
    "df0 = get_data()\n",
    "target = load_target()\n",
    "\n",
    "df0 = df0.loc[target.index]\n",
    "# df0 = df0.iloc[:100000]\n",
    "target = target.loc[df0.index]\n",
    "df0 = df0.loc[target['user_id']]\n",
    "\n",
    "target_sex = target['is_male'].dropna().astype(int)\n",
    "target_age = target['age_bin'].dropna().astype(int)\n",
    "target_age_cont = target['age'].dropna().astype('float32')\n",
    "target_age = target_age[target_age != -1]\n",
    "target_age = target_age.replace({x: x-1 for x in sorted(target_age.unique())})\n",
    "\n",
    "df0.shape"
   ]
  },
  {
   "cell_type": "code",
   "execution_count": 6,
   "id": "a36d0417-575c-470d-9234-508fc159ad67",
   "metadata": {
    "tags": []
   },
   "outputs": [],
   "source": [
    "df = df0\n",
    "cat_features = list(df.dtypes[df.dtypes == 'category'].index)\n",
    "cat_features += ['most_loaded_dow', 'less_loaded_dow']\n",
    "\n",
    "noncat_features = ['region_count']\n",
    "for col in [x for x in noncat_features if x in df]:\n",
    "    df[col] = df[col].astype('float32')\n",
    "\n",
    "cat_features = [x for x in cat_features if x not in noncat_features]\n",
    "cat_features = [x for x in cat_features if x in df]\n",
    "\n",
    "noncat_features = [x for x in df if x not in cat_features]\n",
    "for col in cat_features:\n",
    "    df[col] = df[col].astype(str)\n",
    "d = dict()"
   ]
  },
  {
   "cell_type": "code",
   "execution_count": 7,
   "id": "ab090def-f9be-4fbc-bf08-335116e09b1b",
   "metadata": {
    "tags": []
   },
   "outputs": [
    {
     "name": "stdout",
     "output_type": "stream",
     "text": [
      "score 0.4971036731205345\n",
      "CPU times: total: 14min 21s\n",
      "Wall time: 1min 23s\n"
     ]
    }
   ],
   "source": [
    "%%time\n",
    "f1, f2, t1, t2 = train_test_split(df.loc[target_sex.index], target_sex, test_size=TEST_SIZE, random_state=RANDOM_SEED, stratify=target_sex)\n",
    "model = CatBoostClassifier(cat_features=cat_features,\n",
    "                           random_state=RANDOM_SEED,\n",
    "                           learning_rate=1e-4,\n",
    "                           verbose=0)\n",
    "model.fit(f1, t1)\n",
    "print('score', score_sex_model(model, f2, t2))\n",
    "d['sex_1'] = (model, f1, t1)\n",
    "d['sex_2'] = (model, f2, t2)"
   ]
  },
  {
   "cell_type": "code",
   "execution_count": 8,
   "id": "163cba2a-e54d-49e1-a907-5b388dabe7a2",
   "metadata": {},
   "outputs": [
    {
     "name": "stdout",
     "output_type": "stream",
     "text": [
      "score 0.2493217796023273\n"
     ]
    }
   ],
   "source": [
    "f1, f2, t1, t2 = train_test_split(df.loc[target_age.index], target_age, test_size=TEST_SIZE, random_state=RANDOM_SEED, stratify=target_age)\n",
    "model = CatBoostClassifier(cat_features=cat_features,\n",
    "                           auto_class_weights='Balanced',\n",
    "                           loss_function='MultiClass',\n",
    "                           # eval_metric='TotalF1:average=Weighted',\n",
    "                           random_state=RANDOM_SEED,\n",
    "                           learning_rate=1e-3,\n",
    "                           verbose=0)\n",
    "model.fit(f1, t1)\n",
    "print('score', score_age_model(model, f2, t2))\n",
    "d['age_1'] = (model, f1, t1)\n",
    "d['age_2'] = (model, f2, t2)"
   ]
  },
  {
   "cell_type": "code",
   "execution_count": 10,
   "id": "fac6462c-141f-4abb-9c71-2a5a8b54e0f8",
   "metadata": {
    "tags": []
   },
   "outputs": [
    {
     "data": {
      "text/plain": [
       "(1.005482526374551, 0.9983555742286665)"
      ]
     },
     "execution_count": 10,
     "metadata": {},
     "output_type": "execute_result"
    }
   ],
   "source": [
    "score_model(sex=d['sex_1'], age=d['age_1']), score_model(sex=d['sex_2'], age=d['age_2'])"
   ]
  },
  {
   "cell_type": "code",
   "execution_count": 11,
   "id": "2dad5202-5481-4796-9033-cff53cbe9d81",
   "metadata": {
    "tags": []
   },
   "outputs": [
    {
     "name": "stdout",
     "output_type": "stream",
     "text": [
      "              precision    recall  f1-score   support\n",
      "\n",
      "          -1       0.02      0.65      0.03       862\n",
      "           0       0.28      0.42      0.34     26113\n",
      "           1       0.44      0.23      0.30     69816\n",
      "           2       0.39      0.16      0.23     61989\n",
      "           3       0.25      0.18      0.21     33953\n",
      "           4       0.20      0.22      0.21     18864\n",
      "           5       0.07      0.56      0.12      4402\n",
      "\n",
      "    accuracy                           0.23    215999\n",
      "   macro avg       0.24      0.34      0.20    215999\n",
      "weighted avg       0.35      0.23      0.26    215999\n",
      "\n"
     ]
    }
   ],
   "source": [
    "y = pd.Series(np.reshape(model.predict(f1), (-1, )), index=t1.index)\n",
    "classes = list(range(t1.max()))\n",
    "print(classification_report(t1, y))"
   ]
  }
 ],
 "metadata": {
  "kernelspec": {
   "display_name": "Python 3 (ipykernel)",
   "language": "python",
   "name": "python3"
  },
  "language_info": {
   "codemirror_mode": {
    "name": "ipython",
    "version": 3
   },
   "file_extension": ".py",
   "mimetype": "text/x-python",
   "name": "python",
   "nbconvert_exporter": "python",
   "pygments_lexer": "ipython3",
   "version": "3.10.9"
  }
 },
 "nbformat": 4,
 "nbformat_minor": 5
}
